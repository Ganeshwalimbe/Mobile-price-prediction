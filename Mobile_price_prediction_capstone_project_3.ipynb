{
  "cells": [
    {
      "cell_type": "markdown",
      "metadata": {
        "id": "view-in-github",
        "colab_type": "text"
      },
      "source": [
        "<a href=\"https://colab.research.google.com/github/Ganeshwalimbe/Mobile-price-prediction-/blob/main/Mobile_price_prediction_capstone_project_3.ipynb\" target=\"_parent\"><img src=\"https://colab.research.google.com/assets/colab-badge.svg\" alt=\"Open In Colab\"/></a>"
      ]
    },
    {
      "cell_type": "markdown",
      "source": [
        "# **PROBLEM STATEMENT**"
      ],
      "metadata": {
        "id": "Vo-HviqtEv_G"
      }
    },
    {
      "cell_type": "markdown",
      "metadata": {
        "id": "XF31wMruJ8zR"
      },
      "source": [
        "# **In the competitive mobile phone market companies want to understand sales data of mobile phones and factors which drive the prices.The objective is to find out some relation between features of a mobile phone(eg:- RAM,Internal Memory, etc) and its selling price. In this problem, we do not have to predict the actual price but a price range indicating how high the price is.**\n",
        "**Data Description -**\n",
        "\n",
        "Battery_power - Total energy a battery can store in one time measured in mAh\n",
        "\n",
        "Blue - Has bluetooth or not\n",
        "\n",
        "Clock_speed - speed at which microprocessor executes instructions\n",
        "\n",
        "Dual_sim - Has dual sim support or not\n",
        "\n",
        "Fc - Front Camera mega pixels\n",
        "\n",
        "Four_g - Has 4G or not\n",
        "\n",
        "Int_memory - Internal Memory in Gigabytes\n",
        "\n",
        "M_dep - Mobile Depth in cm\n",
        "\n",
        "Mobile_wt - Weight of mobile phone\n",
        "\n",
        "N_cores - Number of cores of processor\n",
        "\n",
        "Pc - Primary Camera mega pixels\n",
        "\n",
        "Px_height - Pixel Resolution Height\n",
        "\n",
        "Px_width - Pixel Resolution Width\n",
        "\n",
        "Ram - Random Access Memory in Mega Bytes\n",
        "\n",
        "Sc_h - Screen Height of mobile in cm\n",
        "\n",
        "Sc_w - Screen Width of mobile in cm\n",
        "\n",
        "Talk_time - longest time that a single battery charge will last when you are\n",
        "\n",
        "Three_g - Has 3G or not\n",
        "\n",
        "Touch_screen - Has touch screen or not\n",
        "\n",
        "Wifi - Has wifi or not\n",
        "\n",
        "Price_range - This is the target variable with value of 0(low cost), 1(medium cost),\n",
        "2(high cost) and 3(very high cost)."
      ]
    },
    {
      "cell_type": "code",
      "execution_count": 97,
      "metadata": {
        "id": "yLW5WQqTKmVk"
      },
      "outputs": [],
      "source": [
        "#importing packages \n",
        "import pandas as pd \n",
        "import numpy as np \n",
        "import matplotlib.pyplot as plt \n",
        "import seaborn as sns \n",
        "%matplotlib inline"
      ]
    },
    {
      "cell_type": "code",
      "execution_count": 98,
      "metadata": {
        "id": "1aCHqeY7_c6y"
      },
      "outputs": [],
      "source": [
        "#importing dataset\n",
        "data=pd.read_csv(\"/content/drive/MyDrive/AlmaBetter /Capstone projects /ml project 2/data_mobile_price_range.csv\")"
      ]
    },
    {
      "cell_type": "code",
      "execution_count": 99,
      "metadata": {
        "colab": {
          "base_uri": "https://localhost:8080/",
          "height": 300
        },
        "id": "k9UaLZhPMb5c",
        "outputId": "59bfe2e2-7ded-48a7-d24c-20763a2a857f"
      },
      "outputs": [
        {
          "output_type": "execute_result",
          "data": {
            "text/plain": [
              "   battery_power  blue  clock_speed  dual_sim  fc  four_g  int_memory  m_dep  \\\n",
              "0            842     0          2.2         0   1       0           7    0.6   \n",
              "1           1021     1          0.5         1   0       1          53    0.7   \n",
              "2            563     1          0.5         1   2       1          41    0.9   \n",
              "3            615     1          2.5         0   0       0          10    0.8   \n",
              "4           1821     1          1.2         0  13       1          44    0.6   \n",
              "\n",
              "   mobile_wt  n_cores  ...  px_height  px_width   ram  sc_h  sc_w  talk_time  \\\n",
              "0        188        2  ...         20       756  2549     9     7         19   \n",
              "1        136        3  ...        905      1988  2631    17     3          7   \n",
              "2        145        5  ...       1263      1716  2603    11     2          9   \n",
              "3        131        6  ...       1216      1786  2769    16     8         11   \n",
              "4        141        2  ...       1208      1212  1411     8     2         15   \n",
              "\n",
              "   three_g  touch_screen  wifi  price_range  \n",
              "0        0             0     1            1  \n",
              "1        1             1     0            2  \n",
              "2        1             1     0            2  \n",
              "3        1             0     0            2  \n",
              "4        1             1     0            1  \n",
              "\n",
              "[5 rows x 21 columns]"
            ],
            "text/html": [
              "\n",
              "  <div id=\"df-086f5af4-02a2-45b8-83e2-709e2162d551\">\n",
              "    <div class=\"colab-df-container\">\n",
              "      <div>\n",
              "<style scoped>\n",
              "    .dataframe tbody tr th:only-of-type {\n",
              "        vertical-align: middle;\n",
              "    }\n",
              "\n",
              "    .dataframe tbody tr th {\n",
              "        vertical-align: top;\n",
              "    }\n",
              "\n",
              "    .dataframe thead th {\n",
              "        text-align: right;\n",
              "    }\n",
              "</style>\n",
              "<table border=\"1\" class=\"dataframe\">\n",
              "  <thead>\n",
              "    <tr style=\"text-align: right;\">\n",
              "      <th></th>\n",
              "      <th>battery_power</th>\n",
              "      <th>blue</th>\n",
              "      <th>clock_speed</th>\n",
              "      <th>dual_sim</th>\n",
              "      <th>fc</th>\n",
              "      <th>four_g</th>\n",
              "      <th>int_memory</th>\n",
              "      <th>m_dep</th>\n",
              "      <th>mobile_wt</th>\n",
              "      <th>n_cores</th>\n",
              "      <th>...</th>\n",
              "      <th>px_height</th>\n",
              "      <th>px_width</th>\n",
              "      <th>ram</th>\n",
              "      <th>sc_h</th>\n",
              "      <th>sc_w</th>\n",
              "      <th>talk_time</th>\n",
              "      <th>three_g</th>\n",
              "      <th>touch_screen</th>\n",
              "      <th>wifi</th>\n",
              "      <th>price_range</th>\n",
              "    </tr>\n",
              "  </thead>\n",
              "  <tbody>\n",
              "    <tr>\n",
              "      <th>0</th>\n",
              "      <td>842</td>\n",
              "      <td>0</td>\n",
              "      <td>2.2</td>\n",
              "      <td>0</td>\n",
              "      <td>1</td>\n",
              "      <td>0</td>\n",
              "      <td>7</td>\n",
              "      <td>0.6</td>\n",
              "      <td>188</td>\n",
              "      <td>2</td>\n",
              "      <td>...</td>\n",
              "      <td>20</td>\n",
              "      <td>756</td>\n",
              "      <td>2549</td>\n",
              "      <td>9</td>\n",
              "      <td>7</td>\n",
              "      <td>19</td>\n",
              "      <td>0</td>\n",
              "      <td>0</td>\n",
              "      <td>1</td>\n",
              "      <td>1</td>\n",
              "    </tr>\n",
              "    <tr>\n",
              "      <th>1</th>\n",
              "      <td>1021</td>\n",
              "      <td>1</td>\n",
              "      <td>0.5</td>\n",
              "      <td>1</td>\n",
              "      <td>0</td>\n",
              "      <td>1</td>\n",
              "      <td>53</td>\n",
              "      <td>0.7</td>\n",
              "      <td>136</td>\n",
              "      <td>3</td>\n",
              "      <td>...</td>\n",
              "      <td>905</td>\n",
              "      <td>1988</td>\n",
              "      <td>2631</td>\n",
              "      <td>17</td>\n",
              "      <td>3</td>\n",
              "      <td>7</td>\n",
              "      <td>1</td>\n",
              "      <td>1</td>\n",
              "      <td>0</td>\n",
              "      <td>2</td>\n",
              "    </tr>\n",
              "    <tr>\n",
              "      <th>2</th>\n",
              "      <td>563</td>\n",
              "      <td>1</td>\n",
              "      <td>0.5</td>\n",
              "      <td>1</td>\n",
              "      <td>2</td>\n",
              "      <td>1</td>\n",
              "      <td>41</td>\n",
              "      <td>0.9</td>\n",
              "      <td>145</td>\n",
              "      <td>5</td>\n",
              "      <td>...</td>\n",
              "      <td>1263</td>\n",
              "      <td>1716</td>\n",
              "      <td>2603</td>\n",
              "      <td>11</td>\n",
              "      <td>2</td>\n",
              "      <td>9</td>\n",
              "      <td>1</td>\n",
              "      <td>1</td>\n",
              "      <td>0</td>\n",
              "      <td>2</td>\n",
              "    </tr>\n",
              "    <tr>\n",
              "      <th>3</th>\n",
              "      <td>615</td>\n",
              "      <td>1</td>\n",
              "      <td>2.5</td>\n",
              "      <td>0</td>\n",
              "      <td>0</td>\n",
              "      <td>0</td>\n",
              "      <td>10</td>\n",
              "      <td>0.8</td>\n",
              "      <td>131</td>\n",
              "      <td>6</td>\n",
              "      <td>...</td>\n",
              "      <td>1216</td>\n",
              "      <td>1786</td>\n",
              "      <td>2769</td>\n",
              "      <td>16</td>\n",
              "      <td>8</td>\n",
              "      <td>11</td>\n",
              "      <td>1</td>\n",
              "      <td>0</td>\n",
              "      <td>0</td>\n",
              "      <td>2</td>\n",
              "    </tr>\n",
              "    <tr>\n",
              "      <th>4</th>\n",
              "      <td>1821</td>\n",
              "      <td>1</td>\n",
              "      <td>1.2</td>\n",
              "      <td>0</td>\n",
              "      <td>13</td>\n",
              "      <td>1</td>\n",
              "      <td>44</td>\n",
              "      <td>0.6</td>\n",
              "      <td>141</td>\n",
              "      <td>2</td>\n",
              "      <td>...</td>\n",
              "      <td>1208</td>\n",
              "      <td>1212</td>\n",
              "      <td>1411</td>\n",
              "      <td>8</td>\n",
              "      <td>2</td>\n",
              "      <td>15</td>\n",
              "      <td>1</td>\n",
              "      <td>1</td>\n",
              "      <td>0</td>\n",
              "      <td>1</td>\n",
              "    </tr>\n",
              "  </tbody>\n",
              "</table>\n",
              "<p>5 rows × 21 columns</p>\n",
              "</div>\n",
              "      <button class=\"colab-df-convert\" onclick=\"convertToInteractive('df-086f5af4-02a2-45b8-83e2-709e2162d551')\"\n",
              "              title=\"Convert this dataframe to an interactive table.\"\n",
              "              style=\"display:none;\">\n",
              "        \n",
              "  <svg xmlns=\"http://www.w3.org/2000/svg\" height=\"24px\"viewBox=\"0 0 24 24\"\n",
              "       width=\"24px\">\n",
              "    <path d=\"M0 0h24v24H0V0z\" fill=\"none\"/>\n",
              "    <path d=\"M18.56 5.44l.94 2.06.94-2.06 2.06-.94-2.06-.94-.94-2.06-.94 2.06-2.06.94zm-11 1L8.5 8.5l.94-2.06 2.06-.94-2.06-.94L8.5 2.5l-.94 2.06-2.06.94zm10 10l.94 2.06.94-2.06 2.06-.94-2.06-.94-.94-2.06-.94 2.06-2.06.94z\"/><path d=\"M17.41 7.96l-1.37-1.37c-.4-.4-.92-.59-1.43-.59-.52 0-1.04.2-1.43.59L10.3 9.45l-7.72 7.72c-.78.78-.78 2.05 0 2.83L4 21.41c.39.39.9.59 1.41.59.51 0 1.02-.2 1.41-.59l7.78-7.78 2.81-2.81c.8-.78.8-2.07 0-2.86zM5.41 20L4 18.59l7.72-7.72 1.47 1.35L5.41 20z\"/>\n",
              "  </svg>\n",
              "      </button>\n",
              "      \n",
              "  <style>\n",
              "    .colab-df-container {\n",
              "      display:flex;\n",
              "      flex-wrap:wrap;\n",
              "      gap: 12px;\n",
              "    }\n",
              "\n",
              "    .colab-df-convert {\n",
              "      background-color: #E8F0FE;\n",
              "      border: none;\n",
              "      border-radius: 50%;\n",
              "      cursor: pointer;\n",
              "      display: none;\n",
              "      fill: #1967D2;\n",
              "      height: 32px;\n",
              "      padding: 0 0 0 0;\n",
              "      width: 32px;\n",
              "    }\n",
              "\n",
              "    .colab-df-convert:hover {\n",
              "      background-color: #E2EBFA;\n",
              "      box-shadow: 0px 1px 2px rgba(60, 64, 67, 0.3), 0px 1px 3px 1px rgba(60, 64, 67, 0.15);\n",
              "      fill: #174EA6;\n",
              "    }\n",
              "\n",
              "    [theme=dark] .colab-df-convert {\n",
              "      background-color: #3B4455;\n",
              "      fill: #D2E3FC;\n",
              "    }\n",
              "\n",
              "    [theme=dark] .colab-df-convert:hover {\n",
              "      background-color: #434B5C;\n",
              "      box-shadow: 0px 1px 3px 1px rgba(0, 0, 0, 0.15);\n",
              "      filter: drop-shadow(0px 1px 2px rgba(0, 0, 0, 0.3));\n",
              "      fill: #FFFFFF;\n",
              "    }\n",
              "  </style>\n",
              "\n",
              "      <script>\n",
              "        const buttonEl =\n",
              "          document.querySelector('#df-086f5af4-02a2-45b8-83e2-709e2162d551 button.colab-df-convert');\n",
              "        buttonEl.style.display =\n",
              "          google.colab.kernel.accessAllowed ? 'block' : 'none';\n",
              "\n",
              "        async function convertToInteractive(key) {\n",
              "          const element = document.querySelector('#df-086f5af4-02a2-45b8-83e2-709e2162d551');\n",
              "          const dataTable =\n",
              "            await google.colab.kernel.invokeFunction('convertToInteractive',\n",
              "                                                     [key], {});\n",
              "          if (!dataTable) return;\n",
              "\n",
              "          const docLinkHtml = 'Like what you see? Visit the ' +\n",
              "            '<a target=\"_blank\" href=https://colab.research.google.com/notebooks/data_table.ipynb>data table notebook</a>'\n",
              "            + ' to learn more about interactive tables.';\n",
              "          element.innerHTML = '';\n",
              "          dataTable['output_type'] = 'display_data';\n",
              "          await google.colab.output.renderOutput(dataTable, element);\n",
              "          const docLink = document.createElement('div');\n",
              "          docLink.innerHTML = docLinkHtml;\n",
              "          element.appendChild(docLink);\n",
              "        }\n",
              "      </script>\n",
              "    </div>\n",
              "  </div>\n",
              "  "
            ]
          },
          "metadata": {},
          "execution_count": 99
        }
      ],
      "source": [
        "#print top 5 rows \n",
        "data.head()"
      ]
    },
    {
      "cell_type": "code",
      "execution_count": 4,
      "metadata": {
        "colab": {
          "base_uri": "https://localhost:8080/",
          "height": 300
        },
        "id": "Y0P6Z8siMfmJ",
        "outputId": "041fe2ee-0b27-44de-a420-0fe037d5526c"
      },
      "outputs": [
        {
          "output_type": "execute_result",
          "data": {
            "text/plain": [
              "      battery_power  blue  clock_speed  dual_sim  fc  four_g  int_memory  \\\n",
              "1995            794     1          0.5         1   0       1           2   \n",
              "1996           1965     1          2.6         1   0       0          39   \n",
              "1997           1911     0          0.9         1   1       1          36   \n",
              "1998           1512     0          0.9         0   4       1          46   \n",
              "1999            510     1          2.0         1   5       1          45   \n",
              "\n",
              "      m_dep  mobile_wt  n_cores  ...  px_height  px_width   ram  sc_h  sc_w  \\\n",
              "1995    0.8        106        6  ...       1222      1890   668    13     4   \n",
              "1996    0.2        187        4  ...        915      1965  2032    11    10   \n",
              "1997    0.7        108        8  ...        868      1632  3057     9     1   \n",
              "1998    0.1        145        5  ...        336       670   869    18    10   \n",
              "1999    0.9        168        6  ...        483       754  3919    19     4   \n",
              "\n",
              "      talk_time  three_g  touch_screen  wifi  price_range  \n",
              "1995         19        1             1     0            0  \n",
              "1996         16        1             1     1            2  \n",
              "1997          5        1             1     0            3  \n",
              "1998         19        1             1     1            0  \n",
              "1999          2        1             1     1            3  \n",
              "\n",
              "[5 rows x 21 columns]"
            ],
            "text/html": [
              "\n",
              "  <div id=\"df-134345fd-9898-4c0c-b43f-46c1531493bc\">\n",
              "    <div class=\"colab-df-container\">\n",
              "      <div>\n",
              "<style scoped>\n",
              "    .dataframe tbody tr th:only-of-type {\n",
              "        vertical-align: middle;\n",
              "    }\n",
              "\n",
              "    .dataframe tbody tr th {\n",
              "        vertical-align: top;\n",
              "    }\n",
              "\n",
              "    .dataframe thead th {\n",
              "        text-align: right;\n",
              "    }\n",
              "</style>\n",
              "<table border=\"1\" class=\"dataframe\">\n",
              "  <thead>\n",
              "    <tr style=\"text-align: right;\">\n",
              "      <th></th>\n",
              "      <th>battery_power</th>\n",
              "      <th>blue</th>\n",
              "      <th>clock_speed</th>\n",
              "      <th>dual_sim</th>\n",
              "      <th>fc</th>\n",
              "      <th>four_g</th>\n",
              "      <th>int_memory</th>\n",
              "      <th>m_dep</th>\n",
              "      <th>mobile_wt</th>\n",
              "      <th>n_cores</th>\n",
              "      <th>...</th>\n",
              "      <th>px_height</th>\n",
              "      <th>px_width</th>\n",
              "      <th>ram</th>\n",
              "      <th>sc_h</th>\n",
              "      <th>sc_w</th>\n",
              "      <th>talk_time</th>\n",
              "      <th>three_g</th>\n",
              "      <th>touch_screen</th>\n",
              "      <th>wifi</th>\n",
              "      <th>price_range</th>\n",
              "    </tr>\n",
              "  </thead>\n",
              "  <tbody>\n",
              "    <tr>\n",
              "      <th>1995</th>\n",
              "      <td>794</td>\n",
              "      <td>1</td>\n",
              "      <td>0.5</td>\n",
              "      <td>1</td>\n",
              "      <td>0</td>\n",
              "      <td>1</td>\n",
              "      <td>2</td>\n",
              "      <td>0.8</td>\n",
              "      <td>106</td>\n",
              "      <td>6</td>\n",
              "      <td>...</td>\n",
              "      <td>1222</td>\n",
              "      <td>1890</td>\n",
              "      <td>668</td>\n",
              "      <td>13</td>\n",
              "      <td>4</td>\n",
              "      <td>19</td>\n",
              "      <td>1</td>\n",
              "      <td>1</td>\n",
              "      <td>0</td>\n",
              "      <td>0</td>\n",
              "    </tr>\n",
              "    <tr>\n",
              "      <th>1996</th>\n",
              "      <td>1965</td>\n",
              "      <td>1</td>\n",
              "      <td>2.6</td>\n",
              "      <td>1</td>\n",
              "      <td>0</td>\n",
              "      <td>0</td>\n",
              "      <td>39</td>\n",
              "      <td>0.2</td>\n",
              "      <td>187</td>\n",
              "      <td>4</td>\n",
              "      <td>...</td>\n",
              "      <td>915</td>\n",
              "      <td>1965</td>\n",
              "      <td>2032</td>\n",
              "      <td>11</td>\n",
              "      <td>10</td>\n",
              "      <td>16</td>\n",
              "      <td>1</td>\n",
              "      <td>1</td>\n",
              "      <td>1</td>\n",
              "      <td>2</td>\n",
              "    </tr>\n",
              "    <tr>\n",
              "      <th>1997</th>\n",
              "      <td>1911</td>\n",
              "      <td>0</td>\n",
              "      <td>0.9</td>\n",
              "      <td>1</td>\n",
              "      <td>1</td>\n",
              "      <td>1</td>\n",
              "      <td>36</td>\n",
              "      <td>0.7</td>\n",
              "      <td>108</td>\n",
              "      <td>8</td>\n",
              "      <td>...</td>\n",
              "      <td>868</td>\n",
              "      <td>1632</td>\n",
              "      <td>3057</td>\n",
              "      <td>9</td>\n",
              "      <td>1</td>\n",
              "      <td>5</td>\n",
              "      <td>1</td>\n",
              "      <td>1</td>\n",
              "      <td>0</td>\n",
              "      <td>3</td>\n",
              "    </tr>\n",
              "    <tr>\n",
              "      <th>1998</th>\n",
              "      <td>1512</td>\n",
              "      <td>0</td>\n",
              "      <td>0.9</td>\n",
              "      <td>0</td>\n",
              "      <td>4</td>\n",
              "      <td>1</td>\n",
              "      <td>46</td>\n",
              "      <td>0.1</td>\n",
              "      <td>145</td>\n",
              "      <td>5</td>\n",
              "      <td>...</td>\n",
              "      <td>336</td>\n",
              "      <td>670</td>\n",
              "      <td>869</td>\n",
              "      <td>18</td>\n",
              "      <td>10</td>\n",
              "      <td>19</td>\n",
              "      <td>1</td>\n",
              "      <td>1</td>\n",
              "      <td>1</td>\n",
              "      <td>0</td>\n",
              "    </tr>\n",
              "    <tr>\n",
              "      <th>1999</th>\n",
              "      <td>510</td>\n",
              "      <td>1</td>\n",
              "      <td>2.0</td>\n",
              "      <td>1</td>\n",
              "      <td>5</td>\n",
              "      <td>1</td>\n",
              "      <td>45</td>\n",
              "      <td>0.9</td>\n",
              "      <td>168</td>\n",
              "      <td>6</td>\n",
              "      <td>...</td>\n",
              "      <td>483</td>\n",
              "      <td>754</td>\n",
              "      <td>3919</td>\n",
              "      <td>19</td>\n",
              "      <td>4</td>\n",
              "      <td>2</td>\n",
              "      <td>1</td>\n",
              "      <td>1</td>\n",
              "      <td>1</td>\n",
              "      <td>3</td>\n",
              "    </tr>\n",
              "  </tbody>\n",
              "</table>\n",
              "<p>5 rows × 21 columns</p>\n",
              "</div>\n",
              "      <button class=\"colab-df-convert\" onclick=\"convertToInteractive('df-134345fd-9898-4c0c-b43f-46c1531493bc')\"\n",
              "              title=\"Convert this dataframe to an interactive table.\"\n",
              "              style=\"display:none;\">\n",
              "        \n",
              "  <svg xmlns=\"http://www.w3.org/2000/svg\" height=\"24px\"viewBox=\"0 0 24 24\"\n",
              "       width=\"24px\">\n",
              "    <path d=\"M0 0h24v24H0V0z\" fill=\"none\"/>\n",
              "    <path d=\"M18.56 5.44l.94 2.06.94-2.06 2.06-.94-2.06-.94-.94-2.06-.94 2.06-2.06.94zm-11 1L8.5 8.5l.94-2.06 2.06-.94-2.06-.94L8.5 2.5l-.94 2.06-2.06.94zm10 10l.94 2.06.94-2.06 2.06-.94-2.06-.94-.94-2.06-.94 2.06-2.06.94z\"/><path d=\"M17.41 7.96l-1.37-1.37c-.4-.4-.92-.59-1.43-.59-.52 0-1.04.2-1.43.59L10.3 9.45l-7.72 7.72c-.78.78-.78 2.05 0 2.83L4 21.41c.39.39.9.59 1.41.59.51 0 1.02-.2 1.41-.59l7.78-7.78 2.81-2.81c.8-.78.8-2.07 0-2.86zM5.41 20L4 18.59l7.72-7.72 1.47 1.35L5.41 20z\"/>\n",
              "  </svg>\n",
              "      </button>\n",
              "      \n",
              "  <style>\n",
              "    .colab-df-container {\n",
              "      display:flex;\n",
              "      flex-wrap:wrap;\n",
              "      gap: 12px;\n",
              "    }\n",
              "\n",
              "    .colab-df-convert {\n",
              "      background-color: #E8F0FE;\n",
              "      border: none;\n",
              "      border-radius: 50%;\n",
              "      cursor: pointer;\n",
              "      display: none;\n",
              "      fill: #1967D2;\n",
              "      height: 32px;\n",
              "      padding: 0 0 0 0;\n",
              "      width: 32px;\n",
              "    }\n",
              "\n",
              "    .colab-df-convert:hover {\n",
              "      background-color: #E2EBFA;\n",
              "      box-shadow: 0px 1px 2px rgba(60, 64, 67, 0.3), 0px 1px 3px 1px rgba(60, 64, 67, 0.15);\n",
              "      fill: #174EA6;\n",
              "    }\n",
              "\n",
              "    [theme=dark] .colab-df-convert {\n",
              "      background-color: #3B4455;\n",
              "      fill: #D2E3FC;\n",
              "    }\n",
              "\n",
              "    [theme=dark] .colab-df-convert:hover {\n",
              "      background-color: #434B5C;\n",
              "      box-shadow: 0px 1px 3px 1px rgba(0, 0, 0, 0.15);\n",
              "      filter: drop-shadow(0px 1px 2px rgba(0, 0, 0, 0.3));\n",
              "      fill: #FFFFFF;\n",
              "    }\n",
              "  </style>\n",
              "\n",
              "      <script>\n",
              "        const buttonEl =\n",
              "          document.querySelector('#df-134345fd-9898-4c0c-b43f-46c1531493bc button.colab-df-convert');\n",
              "        buttonEl.style.display =\n",
              "          google.colab.kernel.accessAllowed ? 'block' : 'none';\n",
              "\n",
              "        async function convertToInteractive(key) {\n",
              "          const element = document.querySelector('#df-134345fd-9898-4c0c-b43f-46c1531493bc');\n",
              "          const dataTable =\n",
              "            await google.colab.kernel.invokeFunction('convertToInteractive',\n",
              "                                                     [key], {});\n",
              "          if (!dataTable) return;\n",
              "\n",
              "          const docLinkHtml = 'Like what you see? Visit the ' +\n",
              "            '<a target=\"_blank\" href=https://colab.research.google.com/notebooks/data_table.ipynb>data table notebook</a>'\n",
              "            + ' to learn more about interactive tables.';\n",
              "          element.innerHTML = '';\n",
              "          dataTable['output_type'] = 'display_data';\n",
              "          await google.colab.output.renderOutput(dataTable, element);\n",
              "          const docLink = document.createElement('div');\n",
              "          docLink.innerHTML = docLinkHtml;\n",
              "          element.appendChild(docLink);\n",
              "        }\n",
              "      </script>\n",
              "    </div>\n",
              "  </div>\n",
              "  "
            ]
          },
          "metadata": {},
          "execution_count": 4
        }
      ],
      "source": [
        "data.tail()"
      ]
    },
    {
      "cell_type": "code",
      "execution_count": 5,
      "metadata": {
        "colab": {
          "base_uri": "https://localhost:8080/"
        },
        "id": "VnUO3hn-MkMx",
        "outputId": "da30dc09-7873-4574-acfa-d798efe930a9"
      },
      "outputs": [
        {
          "output_type": "stream",
          "name": "stdout",
          "text": [
            "<class 'pandas.core.frame.DataFrame'>\n",
            "RangeIndex: 2000 entries, 0 to 1999\n",
            "Data columns (total 21 columns):\n",
            " #   Column         Non-Null Count  Dtype  \n",
            "---  ------         --------------  -----  \n",
            " 0   battery_power  2000 non-null   int64  \n",
            " 1   blue           2000 non-null   int64  \n",
            " 2   clock_speed    2000 non-null   float64\n",
            " 3   dual_sim       2000 non-null   int64  \n",
            " 4   fc             2000 non-null   int64  \n",
            " 5   four_g         2000 non-null   int64  \n",
            " 6   int_memory     2000 non-null   int64  \n",
            " 7   m_dep          2000 non-null   float64\n",
            " 8   mobile_wt      2000 non-null   int64  \n",
            " 9   n_cores        2000 non-null   int64  \n",
            " 10  pc             2000 non-null   int64  \n",
            " 11  px_height      2000 non-null   int64  \n",
            " 12  px_width       2000 non-null   int64  \n",
            " 13  ram            2000 non-null   int64  \n",
            " 14  sc_h           2000 non-null   int64  \n",
            " 15  sc_w           2000 non-null   int64  \n",
            " 16  talk_time      2000 non-null   int64  \n",
            " 17  three_g        2000 non-null   int64  \n",
            " 18  touch_screen   2000 non-null   int64  \n",
            " 19  wifi           2000 non-null   int64  \n",
            " 20  price_range    2000 non-null   int64  \n",
            "dtypes: float64(2), int64(19)\n",
            "memory usage: 328.2 KB\n"
          ]
        }
      ],
      "source": [
        "data.info()"
      ]
    },
    {
      "cell_type": "code",
      "execution_count": 6,
      "metadata": {
        "colab": {
          "base_uri": "https://localhost:8080/",
          "height": 394
        },
        "id": "ULnyiy9XMpaZ",
        "outputId": "2594da44-6be4-42d3-b2a5-f15c725304a1"
      },
      "outputs": [
        {
          "output_type": "execute_result",
          "data": {
            "text/plain": [
              "       battery_power       blue  clock_speed     dual_sim           fc  \\\n",
              "count    2000.000000  2000.0000  2000.000000  2000.000000  2000.000000   \n",
              "mean     1238.518500     0.4950     1.522250     0.509500     4.309500   \n",
              "std       439.418206     0.5001     0.816004     0.500035     4.341444   \n",
              "min       501.000000     0.0000     0.500000     0.000000     0.000000   \n",
              "25%       851.750000     0.0000     0.700000     0.000000     1.000000   \n",
              "50%      1226.000000     0.0000     1.500000     1.000000     3.000000   \n",
              "75%      1615.250000     1.0000     2.200000     1.000000     7.000000   \n",
              "max      1998.000000     1.0000     3.000000     1.000000    19.000000   \n",
              "\n",
              "            four_g   int_memory        m_dep    mobile_wt      n_cores  ...  \\\n",
              "count  2000.000000  2000.000000  2000.000000  2000.000000  2000.000000  ...   \n",
              "mean      0.521500    32.046500     0.501750   140.249000     4.520500  ...   \n",
              "std       0.499662    18.145715     0.288416    35.399655     2.287837  ...   \n",
              "min       0.000000     2.000000     0.100000    80.000000     1.000000  ...   \n",
              "25%       0.000000    16.000000     0.200000   109.000000     3.000000  ...   \n",
              "50%       1.000000    32.000000     0.500000   141.000000     4.000000  ...   \n",
              "75%       1.000000    48.000000     0.800000   170.000000     7.000000  ...   \n",
              "max       1.000000    64.000000     1.000000   200.000000     8.000000  ...   \n",
              "\n",
              "         px_height     px_width          ram         sc_h         sc_w  \\\n",
              "count  2000.000000  2000.000000  2000.000000  2000.000000  2000.000000   \n",
              "mean    645.108000  1251.515500  2124.213000    12.306500     5.767000   \n",
              "std     443.780811   432.199447  1084.732044     4.213245     4.356398   \n",
              "min       0.000000   500.000000   256.000000     5.000000     0.000000   \n",
              "25%     282.750000   874.750000  1207.500000     9.000000     2.000000   \n",
              "50%     564.000000  1247.000000  2146.500000    12.000000     5.000000   \n",
              "75%     947.250000  1633.000000  3064.500000    16.000000     9.000000   \n",
              "max    1960.000000  1998.000000  3998.000000    19.000000    18.000000   \n",
              "\n",
              "         talk_time      three_g  touch_screen         wifi  price_range  \n",
              "count  2000.000000  2000.000000   2000.000000  2000.000000  2000.000000  \n",
              "mean     11.011000     0.761500      0.503000     0.507000     1.500000  \n",
              "std       5.463955     0.426273      0.500116     0.500076     1.118314  \n",
              "min       2.000000     0.000000      0.000000     0.000000     0.000000  \n",
              "25%       6.000000     1.000000      0.000000     0.000000     0.750000  \n",
              "50%      11.000000     1.000000      1.000000     1.000000     1.500000  \n",
              "75%      16.000000     1.000000      1.000000     1.000000     2.250000  \n",
              "max      20.000000     1.000000      1.000000     1.000000     3.000000  \n",
              "\n",
              "[8 rows x 21 columns]"
            ],
            "text/html": [
              "\n",
              "  <div id=\"df-3467e811-7044-451a-b975-293f5695584e\">\n",
              "    <div class=\"colab-df-container\">\n",
              "      <div>\n",
              "<style scoped>\n",
              "    .dataframe tbody tr th:only-of-type {\n",
              "        vertical-align: middle;\n",
              "    }\n",
              "\n",
              "    .dataframe tbody tr th {\n",
              "        vertical-align: top;\n",
              "    }\n",
              "\n",
              "    .dataframe thead th {\n",
              "        text-align: right;\n",
              "    }\n",
              "</style>\n",
              "<table border=\"1\" class=\"dataframe\">\n",
              "  <thead>\n",
              "    <tr style=\"text-align: right;\">\n",
              "      <th></th>\n",
              "      <th>battery_power</th>\n",
              "      <th>blue</th>\n",
              "      <th>clock_speed</th>\n",
              "      <th>dual_sim</th>\n",
              "      <th>fc</th>\n",
              "      <th>four_g</th>\n",
              "      <th>int_memory</th>\n",
              "      <th>m_dep</th>\n",
              "      <th>mobile_wt</th>\n",
              "      <th>n_cores</th>\n",
              "      <th>...</th>\n",
              "      <th>px_height</th>\n",
              "      <th>px_width</th>\n",
              "      <th>ram</th>\n",
              "      <th>sc_h</th>\n",
              "      <th>sc_w</th>\n",
              "      <th>talk_time</th>\n",
              "      <th>three_g</th>\n",
              "      <th>touch_screen</th>\n",
              "      <th>wifi</th>\n",
              "      <th>price_range</th>\n",
              "    </tr>\n",
              "  </thead>\n",
              "  <tbody>\n",
              "    <tr>\n",
              "      <th>count</th>\n",
              "      <td>2000.000000</td>\n",
              "      <td>2000.0000</td>\n",
              "      <td>2000.000000</td>\n",
              "      <td>2000.000000</td>\n",
              "      <td>2000.000000</td>\n",
              "      <td>2000.000000</td>\n",
              "      <td>2000.000000</td>\n",
              "      <td>2000.000000</td>\n",
              "      <td>2000.000000</td>\n",
              "      <td>2000.000000</td>\n",
              "      <td>...</td>\n",
              "      <td>2000.000000</td>\n",
              "      <td>2000.000000</td>\n",
              "      <td>2000.000000</td>\n",
              "      <td>2000.000000</td>\n",
              "      <td>2000.000000</td>\n",
              "      <td>2000.000000</td>\n",
              "      <td>2000.000000</td>\n",
              "      <td>2000.000000</td>\n",
              "      <td>2000.000000</td>\n",
              "      <td>2000.000000</td>\n",
              "    </tr>\n",
              "    <tr>\n",
              "      <th>mean</th>\n",
              "      <td>1238.518500</td>\n",
              "      <td>0.4950</td>\n",
              "      <td>1.522250</td>\n",
              "      <td>0.509500</td>\n",
              "      <td>4.309500</td>\n",
              "      <td>0.521500</td>\n",
              "      <td>32.046500</td>\n",
              "      <td>0.501750</td>\n",
              "      <td>140.249000</td>\n",
              "      <td>4.520500</td>\n",
              "      <td>...</td>\n",
              "      <td>645.108000</td>\n",
              "      <td>1251.515500</td>\n",
              "      <td>2124.213000</td>\n",
              "      <td>12.306500</td>\n",
              "      <td>5.767000</td>\n",
              "      <td>11.011000</td>\n",
              "      <td>0.761500</td>\n",
              "      <td>0.503000</td>\n",
              "      <td>0.507000</td>\n",
              "      <td>1.500000</td>\n",
              "    </tr>\n",
              "    <tr>\n",
              "      <th>std</th>\n",
              "      <td>439.418206</td>\n",
              "      <td>0.5001</td>\n",
              "      <td>0.816004</td>\n",
              "      <td>0.500035</td>\n",
              "      <td>4.341444</td>\n",
              "      <td>0.499662</td>\n",
              "      <td>18.145715</td>\n",
              "      <td>0.288416</td>\n",
              "      <td>35.399655</td>\n",
              "      <td>2.287837</td>\n",
              "      <td>...</td>\n",
              "      <td>443.780811</td>\n",
              "      <td>432.199447</td>\n",
              "      <td>1084.732044</td>\n",
              "      <td>4.213245</td>\n",
              "      <td>4.356398</td>\n",
              "      <td>5.463955</td>\n",
              "      <td>0.426273</td>\n",
              "      <td>0.500116</td>\n",
              "      <td>0.500076</td>\n",
              "      <td>1.118314</td>\n",
              "    </tr>\n",
              "    <tr>\n",
              "      <th>min</th>\n",
              "      <td>501.000000</td>\n",
              "      <td>0.0000</td>\n",
              "      <td>0.500000</td>\n",
              "      <td>0.000000</td>\n",
              "      <td>0.000000</td>\n",
              "      <td>0.000000</td>\n",
              "      <td>2.000000</td>\n",
              "      <td>0.100000</td>\n",
              "      <td>80.000000</td>\n",
              "      <td>1.000000</td>\n",
              "      <td>...</td>\n",
              "      <td>0.000000</td>\n",
              "      <td>500.000000</td>\n",
              "      <td>256.000000</td>\n",
              "      <td>5.000000</td>\n",
              "      <td>0.000000</td>\n",
              "      <td>2.000000</td>\n",
              "      <td>0.000000</td>\n",
              "      <td>0.000000</td>\n",
              "      <td>0.000000</td>\n",
              "      <td>0.000000</td>\n",
              "    </tr>\n",
              "    <tr>\n",
              "      <th>25%</th>\n",
              "      <td>851.750000</td>\n",
              "      <td>0.0000</td>\n",
              "      <td>0.700000</td>\n",
              "      <td>0.000000</td>\n",
              "      <td>1.000000</td>\n",
              "      <td>0.000000</td>\n",
              "      <td>16.000000</td>\n",
              "      <td>0.200000</td>\n",
              "      <td>109.000000</td>\n",
              "      <td>3.000000</td>\n",
              "      <td>...</td>\n",
              "      <td>282.750000</td>\n",
              "      <td>874.750000</td>\n",
              "      <td>1207.500000</td>\n",
              "      <td>9.000000</td>\n",
              "      <td>2.000000</td>\n",
              "      <td>6.000000</td>\n",
              "      <td>1.000000</td>\n",
              "      <td>0.000000</td>\n",
              "      <td>0.000000</td>\n",
              "      <td>0.750000</td>\n",
              "    </tr>\n",
              "    <tr>\n",
              "      <th>50%</th>\n",
              "      <td>1226.000000</td>\n",
              "      <td>0.0000</td>\n",
              "      <td>1.500000</td>\n",
              "      <td>1.000000</td>\n",
              "      <td>3.000000</td>\n",
              "      <td>1.000000</td>\n",
              "      <td>32.000000</td>\n",
              "      <td>0.500000</td>\n",
              "      <td>141.000000</td>\n",
              "      <td>4.000000</td>\n",
              "      <td>...</td>\n",
              "      <td>564.000000</td>\n",
              "      <td>1247.000000</td>\n",
              "      <td>2146.500000</td>\n",
              "      <td>12.000000</td>\n",
              "      <td>5.000000</td>\n",
              "      <td>11.000000</td>\n",
              "      <td>1.000000</td>\n",
              "      <td>1.000000</td>\n",
              "      <td>1.000000</td>\n",
              "      <td>1.500000</td>\n",
              "    </tr>\n",
              "    <tr>\n",
              "      <th>75%</th>\n",
              "      <td>1615.250000</td>\n",
              "      <td>1.0000</td>\n",
              "      <td>2.200000</td>\n",
              "      <td>1.000000</td>\n",
              "      <td>7.000000</td>\n",
              "      <td>1.000000</td>\n",
              "      <td>48.000000</td>\n",
              "      <td>0.800000</td>\n",
              "      <td>170.000000</td>\n",
              "      <td>7.000000</td>\n",
              "      <td>...</td>\n",
              "      <td>947.250000</td>\n",
              "      <td>1633.000000</td>\n",
              "      <td>3064.500000</td>\n",
              "      <td>16.000000</td>\n",
              "      <td>9.000000</td>\n",
              "      <td>16.000000</td>\n",
              "      <td>1.000000</td>\n",
              "      <td>1.000000</td>\n",
              "      <td>1.000000</td>\n",
              "      <td>2.250000</td>\n",
              "    </tr>\n",
              "    <tr>\n",
              "      <th>max</th>\n",
              "      <td>1998.000000</td>\n",
              "      <td>1.0000</td>\n",
              "      <td>3.000000</td>\n",
              "      <td>1.000000</td>\n",
              "      <td>19.000000</td>\n",
              "      <td>1.000000</td>\n",
              "      <td>64.000000</td>\n",
              "      <td>1.000000</td>\n",
              "      <td>200.000000</td>\n",
              "      <td>8.000000</td>\n",
              "      <td>...</td>\n",
              "      <td>1960.000000</td>\n",
              "      <td>1998.000000</td>\n",
              "      <td>3998.000000</td>\n",
              "      <td>19.000000</td>\n",
              "      <td>18.000000</td>\n",
              "      <td>20.000000</td>\n",
              "      <td>1.000000</td>\n",
              "      <td>1.000000</td>\n",
              "      <td>1.000000</td>\n",
              "      <td>3.000000</td>\n",
              "    </tr>\n",
              "  </tbody>\n",
              "</table>\n",
              "<p>8 rows × 21 columns</p>\n",
              "</div>\n",
              "      <button class=\"colab-df-convert\" onclick=\"convertToInteractive('df-3467e811-7044-451a-b975-293f5695584e')\"\n",
              "              title=\"Convert this dataframe to an interactive table.\"\n",
              "              style=\"display:none;\">\n",
              "        \n",
              "  <svg xmlns=\"http://www.w3.org/2000/svg\" height=\"24px\"viewBox=\"0 0 24 24\"\n",
              "       width=\"24px\">\n",
              "    <path d=\"M0 0h24v24H0V0z\" fill=\"none\"/>\n",
              "    <path d=\"M18.56 5.44l.94 2.06.94-2.06 2.06-.94-2.06-.94-.94-2.06-.94 2.06-2.06.94zm-11 1L8.5 8.5l.94-2.06 2.06-.94-2.06-.94L8.5 2.5l-.94 2.06-2.06.94zm10 10l.94 2.06.94-2.06 2.06-.94-2.06-.94-.94-2.06-.94 2.06-2.06.94z\"/><path d=\"M17.41 7.96l-1.37-1.37c-.4-.4-.92-.59-1.43-.59-.52 0-1.04.2-1.43.59L10.3 9.45l-7.72 7.72c-.78.78-.78 2.05 0 2.83L4 21.41c.39.39.9.59 1.41.59.51 0 1.02-.2 1.41-.59l7.78-7.78 2.81-2.81c.8-.78.8-2.07 0-2.86zM5.41 20L4 18.59l7.72-7.72 1.47 1.35L5.41 20z\"/>\n",
              "  </svg>\n",
              "      </button>\n",
              "      \n",
              "  <style>\n",
              "    .colab-df-container {\n",
              "      display:flex;\n",
              "      flex-wrap:wrap;\n",
              "      gap: 12px;\n",
              "    }\n",
              "\n",
              "    .colab-df-convert {\n",
              "      background-color: #E8F0FE;\n",
              "      border: none;\n",
              "      border-radius: 50%;\n",
              "      cursor: pointer;\n",
              "      display: none;\n",
              "      fill: #1967D2;\n",
              "      height: 32px;\n",
              "      padding: 0 0 0 0;\n",
              "      width: 32px;\n",
              "    }\n",
              "\n",
              "    .colab-df-convert:hover {\n",
              "      background-color: #E2EBFA;\n",
              "      box-shadow: 0px 1px 2px rgba(60, 64, 67, 0.3), 0px 1px 3px 1px rgba(60, 64, 67, 0.15);\n",
              "      fill: #174EA6;\n",
              "    }\n",
              "\n",
              "    [theme=dark] .colab-df-convert {\n",
              "      background-color: #3B4455;\n",
              "      fill: #D2E3FC;\n",
              "    }\n",
              "\n",
              "    [theme=dark] .colab-df-convert:hover {\n",
              "      background-color: #434B5C;\n",
              "      box-shadow: 0px 1px 3px 1px rgba(0, 0, 0, 0.15);\n",
              "      filter: drop-shadow(0px 1px 2px rgba(0, 0, 0, 0.3));\n",
              "      fill: #FFFFFF;\n",
              "    }\n",
              "  </style>\n",
              "\n",
              "      <script>\n",
              "        const buttonEl =\n",
              "          document.querySelector('#df-3467e811-7044-451a-b975-293f5695584e button.colab-df-convert');\n",
              "        buttonEl.style.display =\n",
              "          google.colab.kernel.accessAllowed ? 'block' : 'none';\n",
              "\n",
              "        async function convertToInteractive(key) {\n",
              "          const element = document.querySelector('#df-3467e811-7044-451a-b975-293f5695584e');\n",
              "          const dataTable =\n",
              "            await google.colab.kernel.invokeFunction('convertToInteractive',\n",
              "                                                     [key], {});\n",
              "          if (!dataTable) return;\n",
              "\n",
              "          const docLinkHtml = 'Like what you see? Visit the ' +\n",
              "            '<a target=\"_blank\" href=https://colab.research.google.com/notebooks/data_table.ipynb>data table notebook</a>'\n",
              "            + ' to learn more about interactive tables.';\n",
              "          element.innerHTML = '';\n",
              "          dataTable['output_type'] = 'display_data';\n",
              "          await google.colab.output.renderOutput(dataTable, element);\n",
              "          const docLink = document.createElement('div');\n",
              "          docLink.innerHTML = docLinkHtml;\n",
              "          element.appendChild(docLink);\n",
              "        }\n",
              "      </script>\n",
              "    </div>\n",
              "  </div>\n",
              "  "
            ]
          },
          "metadata": {},
          "execution_count": 6
        }
      ],
      "source": [
        "data.describe()"
      ]
    },
    {
      "cell_type": "code",
      "execution_count": 100,
      "metadata": {
        "colab": {
          "base_uri": "https://localhost:8080/"
        },
        "id": "afhIoJgSM1mf",
        "outputId": "140a5b79-2295-4102-a350-9ad5ed97a643"
      },
      "outputs": [
        {
          "output_type": "execute_result",
          "data": {
            "text/plain": [
              "battery_power    0\n",
              "blue             0\n",
              "clock_speed      0\n",
              "dual_sim         0\n",
              "fc               0\n",
              "four_g           0\n",
              "int_memory       0\n",
              "m_dep            0\n",
              "mobile_wt        0\n",
              "n_cores          0\n",
              "pc               0\n",
              "px_height        0\n",
              "px_width         0\n",
              "ram              0\n",
              "sc_h             0\n",
              "sc_w             0\n",
              "talk_time        0\n",
              "three_g          0\n",
              "touch_screen     0\n",
              "wifi             0\n",
              "price_range      0\n",
              "dtype: int64"
            ]
          },
          "metadata": {},
          "execution_count": 100
        }
      ],
      "source": [
        "#cheking if missing values present in data \n",
        "data.isnull().sum()"
      ]
    },
    {
      "cell_type": "code",
      "execution_count": 101,
      "metadata": {
        "colab": {
          "base_uri": "https://localhost:8080/"
        },
        "id": "AnQ2DabjM8WA",
        "outputId": "aadb3943-4694-463e-f097-d9f08acc64af"
      },
      "outputs": [
        {
          "output_type": "execute_result",
          "data": {
            "text/plain": [
              "0"
            ]
          },
          "metadata": {},
          "execution_count": 101
        }
      ],
      "source": [
        "#cheking if duplicate values present in data \n",
        "data.duplicated().sum()"
      ]
    },
    {
      "cell_type": "code",
      "source": [
        "variables=data.columns.values"
      ],
      "metadata": {
        "id": "lQPIpEMgDJ2F"
      },
      "execution_count": 104,
      "outputs": []
    },
    {
      "cell_type": "code",
      "source": [
        "#plotting histogram of all variables \n",
        "for i in range(len(variables)):\n",
        "  fig,ax=plt.subplots(figsize=(10,8))\n",
        "  sns.histplot(data=data,x=variables[i],ax=ax)\n",
        "\n",
        "plt.show()\n"
      ],
      "metadata": {
        "colab": {
          "base_uri": "https://localhost:8080/",
          "height": 1000
        },
        "id": "a8L95eOMC2uC",
        "outputId": "e6147ff4-7fa6-47ef-f828-225aeafb1d6c"
      },
      "execution_count": 105,
      "outputs": [
        {
          "output_type": "stream",
          "name": "stderr",
          "text": [
            "/usr/local/lib/python3.7/dist-packages/ipykernel_launcher.py:3: RuntimeWarning: More than 20 figures have been opened. Figures created through the pyplot interface (`matplotlib.pyplot.figure`) are retained until explicitly closed and may consume too much memory. (To control this warning, see the rcParam `figure.max_open_warning`).\n",
            "  This is separate from the ipykernel package so we can avoid doing imports until\n"
          ]
        },
        {
          "output_type": "display_data",
          "data": {
            "text/plain": [
              "<Figure size 720x576 with 1 Axes>"
            ],
            "image/png": "[encoded data removed]"
          },
          "metadata": {
            "needs_background": "light"
          }
        },
        {
          "output_type": "display_data",
          "data": {
            "text/plain": [
              "<Figure size 720x576 with 1 Axes>"
            ],
            "image/png": "[encoded data removed]"
          },
          "metadata": {
            "needs_background": "light"
          }
        },
        {
          "output_type": "display_data",
          "data": {
            "text/plain": [
              "<Figure size 720x576 with 1 Axes>"
            ],
            "image/png": "[encoded data removed]"
          },
          "metadata": {
            "needs_background": "light"
          }
        },
        {
          "output_type": "display_data",
          "data": {
            "text/plain": [
              "<Figure size 720x576 with 1 Axes>"
            ],
            "image/png": "[encoded data removed]"
          },
          "metadata": {
            "needs_background": "light"
          }
        },
        {
          "output_type": "display_data",
          "data": {
            "text/plain": [
              "<Figure size 720x576 with 1 Axes>"
            ],
            "image/png": "[encoded data removed]"
          },
          "metadata": {
            "needs_background": "light"
          }
        },
        {
          "output_type": "display_data",
          "data": {
            "text/plain": [
              "<Figure size 720x576 with 1 Axes>"
            ],
            "image/png": "[encoded data removed]"
          },
          "metadata": {
            "needs_background": "light"
          }
        },
        {
          "output_type": "display_data",
          "data": {
            "text/plain": [
              "<Figure size 720x576 with 1 Axes>"
            ],
            "image/png": "[encoded data removed]"
          },
          "metadata": {
            "needs_background": "light"
          }
        },
        {
          "output_type": "display_data",
          "data": {
            "text/plain": [
              "<Figure size 720x576 with 1 Axes>"
            ],
            "image/png": "[encoded data removed]"
          },
          "metadata": {
            "needs_background": "light"
          }
        },
        {
          "output_type": "display_data",
          "data": {
            "text/plain": [
              "<Figure size 720x576 with 1 Axes>"
            ],
            "image/png": "[encoded data removed]"
          },
          "metadata": {
            "needs_background": "light"
          }
        },
        {
          "output_type": "display_data",
          "data": {
            "text/plain": [
              "<Figure size 720x576 with 1 Axes>"
            ],
            "image/png": "[encoded data removed]"
          },
          "metadata": {
            "needs_background": "light"
          }
        },
        {
          "output_type": "display_data",
          "data": {
            "text/plain": [
              "<Figure size 720x576 with 1 Axes>"
            ],
            "image/png": "[encoded data removed]"
          },
          "metadata": {
            "needs_background": "light"
          }
        },
        {
          "output_type": "display_data",
          "data": {
            "text/plain": [
              "<Figure size 720x576 with 1 Axes>"
            ],
            "image/png": "[encoded data removed]"
          },
          "metadata": {
            "needs_background": "light"
          }
        },
        {
          "output_type": "display_data",
          "data": {
            "text/plain": [
              "<Figure size 720x576 with 1 Axes>"
            ],
            "image/png": "[encoded data removed]"
          },
          "metadata": {
            "needs_background": "light"
          }
        },
        {
          "output_type": "display_data",
          "data": {
            "text/plain": [
              "<Figure size 720x576 with 1 Axes>"
            ],
            "image/png": "[encoded data removed]"
          },
          "metadata": {
            "needs_background": "light"
          }
        },
        {
          "output_type": "display_data",
          "data": {
            "text/plain": [
              "<Figure size 720x576 with 1 Axes>"
            ],
            "image/png": "[encoded data removed]"
          },
          "metadata": {
            "needs_background": "light"
          }
        },
        {
          "output_type": "display_data",
          "data": {
            "text/plain": [
              "<Figure size 720x576 with 1 Axes>"
            ],
            "image/png": "[encoded data removed]"
          },
          "metadata": {
            "needs_background": "light"
          }
        },
        {
          "output_type": "display_data",
          "data": {
            "text/plain": [
              "<Figure size 720x576 with 1 Axes>"
            ],
            "image/png": "[encoded data removed]"
          },
          "metadata": {
            "needs_background": "light"
          }
        },
        {
          "output_type": "display_data",
          "data": {
            "text/plain": [
              "<Figure size 720x576 with 1 Axes>"
            ],
            "image/png": "[encoded data removed]"
          },
          "metadata": {
            "needs_background": "light"
          }
        },
        {
          "output_type": "display_data",
          "data": {
            "text/plain": [
              "<Figure size 720x576 with 1 Axes>"
            ],
            "image/png": "[encoded data removed]"
          },
          "metadata": {
            "needs_background": "light"
          }
        },
        {
          "output_type": "display_data",
          "data": {
            "text/plain": [
              "<Figure size 720x576 with 1 Axes>"
            ],
            "image/png": "[encoded data removed]"
          },
          "metadata": {
            "needs_background": "light"
          }
        },
        {
          "output_type": "display_data",
          "data": {
            "text/plain": [
              "<Figure size 720x576 with 1 Axes>"
            ],
            "image/png": "[encoded data removed]"
          },
          "metadata": {
            "needs_background": "light"
          }
        }
      ]
    },
    {
      "cell_type": "code",
      "execution_count": 107,
      "metadata": {
        "colab": {
          "base_uri": "https://localhost:8080/",
          "height": 531
        },
        "id": "lVdxgYjFNB8Q",
        "outputId": "e8bc6480-9025-4fa5-e39d-8c627dd65ef0"
      },
      "outputs": [
        {
          "output_type": "execute_result",
          "data": {
            "text/plain": [
              "[Text(0.5, 1.0, 'price v/s ram')]"
            ]
          },
          "metadata": {},
          "execution_count": 107
        },
        {
          "output_type": "display_data",
          "data": {
            "text/plain": [
              "<Figure size 720x576 with 1 Axes>"
            ],
            "image/png": "[encoded data removed]"
          },
          "metadata": {
            "needs_background": "light"
          }
        }
      ],
      "source": [
        "fig,ax=plt.subplots(figsize=(10,8))\n",
        "sns.barplot(data=data,y='ram',x='price_range',ax=ax)\n",
        "ax.set(title='price v/s ram')"
      ]
    },
    {
      "cell_type": "code",
      "execution_count": 10,
      "metadata": {
        "colab": {
          "base_uri": "https://localhost:8080/",
          "height": 531
        },
        "id": "bB74Pwp5NnoR",
        "outputId": "f172252f-6f15-4324-db32-8712702a3355"
      },
      "outputs": [
        {
          "output_type": "execute_result",
          "data": {
            "text/plain": [
              "[Text(0.5, 1.0, 'price v/s battery power')]"
            ]
          },
          "metadata": {},
          "execution_count": 10
        },
        {
          "output_type": "display_data",
          "data": {
            "text/plain": [
              "<Figure size 720x576 with 1 Axes>"
            ],
            "image/png": "[encoded data removed]"
          },
          "metadata": {
            "needs_background": "light"
          }
        }
      ],
      "source": [
        "fig,ax=plt.subplots(figsize=(10,8))\n",
        "sns.barplot(data=data,y='battery_power',x='price_range',ax=ax)\n",
        "ax.set(title='price v/s battery power')"
      ]
    },
    {
      "cell_type": "code",
      "execution_count": 11,
      "metadata": {
        "colab": {
          "base_uri": "https://localhost:8080/",
          "height": 531
        },
        "id": "j7lAKRDzZj7Z",
        "outputId": "73e4d60b-ab85-486e-da7a-db94ffb255b1"
      },
      "outputs": [
        {
          "output_type": "execute_result",
          "data": {
            "text/plain": [
              "[Text(0.5, 1.0, 'price v/s internal memory')]"
            ]
          },
          "metadata": {},
          "execution_count": 11
        },
        {
          "output_type": "display_data",
          "data": {
            "text/plain": [
              "<Figure size 720x576 with 1 Axes>"
            ],
            "image/png": "[encoded data removed]"
          },
          "metadata": {
            "needs_background": "light"
          }
        }
      ],
      "source": [
        "fig,ax=plt.subplots(figsize=(10,8))\n",
        "sns.barplot(data=data,y='int_memory',x='price_range',ax=ax)\n",
        "ax.set(title='price v/s internal memory')"
      ]
    },
    {
      "cell_type": "code",
      "execution_count": 12,
      "metadata": {
        "colab": {
          "base_uri": "https://localhost:8080/",
          "height": 531
        },
        "id": "PWyoy8ckTr8a",
        "outputId": "197f4f44-6c39-48ff-d119-67fa1131b145"
      },
      "outputs": [
        {
          "output_type": "execute_result",
          "data": {
            "text/plain": [
              "[Text(0.5, 1.0, 'price range  v/s primary camera megapixel ')]"
            ]
          },
          "metadata": {},
          "execution_count": 12
        },
        {
          "output_type": "display_data",
          "data": {
            "text/plain": [
              "<Figure size 720x576 with 1 Axes>"
            ],
            "image/png": "[encoded data removed]"
          },
          "metadata": {
            "needs_background": "light"
          }
        }
      ],
      "source": [
        "fig,ax=plt.subplots(figsize=(10,8))\n",
        "sns.barplot(data=data,y='pc',x='price_range',ax=ax)\n",
        "ax.set(title='price range  v/s primary camera megapixel ')"
      ]
    },
    {
      "cell_type": "code",
      "execution_count": 13,
      "metadata": {
        "colab": {
          "base_uri": "https://localhost:8080/",
          "height": 657
        },
        "id": "aCReeBEUdXDR",
        "outputId": "400dcdd9-84a8-41e2-a19a-c7e6b5b56b37"
      },
      "outputs": [
        {
          "output_type": "display_data",
          "data": {
            "text/plain": [
              "<Figure size 1080x720 with 2 Axes>"
            ],
            "image/png": "[encoded data removed]"
          },
          "metadata": {
            "needs_background": "light"
          }
        }
      ],
      "source": [
        "corr=data.corr()\n",
        "fig=plt.figure(figsize=(15,10))\n",
        "sns.heatmap(corr,annot=True,fmt='.2f',cmap='coolwarm')\n",
        "plt.show()"
      ]
    },
    {
      "cell_type": "code",
      "execution_count": 14,
      "metadata": {
        "id": "hXZiFZZlLbVM"
      },
      "outputs": [],
      "source": [
        "data=data.drop(['fc','three_g'],axis=1)"
      ]
    },
    {
      "cell_type": "code",
      "execution_count": 15,
      "metadata": {
        "id": "1b1mD-q7KfkX"
      },
      "outputs": [],
      "source": [
        "data['px_area']=data['px_height']*data['px_width']\n",
        "data['sc_area']=data['sc_h']*data['sc_w']"
      ]
    },
    {
      "cell_type": "code",
      "execution_count": 16,
      "metadata": {
        "id": "67PGfYwCL-jN"
      },
      "outputs": [],
      "source": [
        "data=data.drop(['px_height','px_width','sc_h','sc_w'],axis=1)"
      ]
    },
    {
      "cell_type": "code",
      "source": [
        "fig = plt.figure(figsize=(16,30))\n",
        "features=['battery_power','mobile_wt','int_memory','ram','pc','px_area','sc_area']\n",
        "\n",
        "for i in range(len(features)):\n",
        "    fig.add_subplot(9, 5, i+1)\n",
        "    sns.boxplot(y=data[features[i]])\n",
        "plt.tight_layout()\n",
        "plt.show()"
      ],
      "metadata": {
        "colab": {
          "base_uri": "https://localhost:8080/",
          "height": 490
        },
        "id": "bxRj78geZCjo",
        "outputId": "f04e2f36-f7fa-4780-abbc-b9e99c978f46"
      },
      "execution_count": 17,
      "outputs": [
        {
          "output_type": "display_data",
          "data": {
            "text/plain": [
              "<Figure size 1152x2160 with 7 Axes>"
            ],
            "image/png": "[encoded data removed]"
          },
          "metadata": {
            "needs_background": "light"
          }
        }
      ]
    },
    {
      "cell_type": "code",
      "execution_count": 18,
      "metadata": {
        "colab": {
          "base_uri": "https://localhost:8080/",
          "height": 657
        },
        "id": "14fpoTyOMTs_",
        "outputId": "c8f9413a-ecc3-4779-97bc-aa75796f0262"
      },
      "outputs": [
        {
          "output_type": "display_data",
          "data": {
            "text/plain": [
              "<Figure size 1080x720 with 2 Axes>"
            ],
            "image/png": "[encoded data removed]"
          },
          "metadata": {
            "needs_background": "light"
          }
        }
      ],
      "source": [
        "corr=data.corr()\n",
        "fig=plt.figure(figsize=(15,10))\n",
        "sns.heatmap(corr,annot=True,fmt='.2f',cmap='coolwarm')\n",
        "plt.show()"
      ]
    },
    {
      "cell_type": "code",
      "execution_count": 19,
      "metadata": {
        "id": "z5ITPLgTnWjr"
      },
      "outputs": [],
      "source": [
        "X=data.drop('price_range',axis=1)\n",
        "y=data['price_range']"
      ]
    },
    {
      "cell_type": "code",
      "execution_count": 20,
      "metadata": {
        "colab": {
          "base_uri": "https://localhost:8080/"
        },
        "id": "6pfSqydPe8KL",
        "outputId": "ae8602c5-731b-42a2-af9d-003e7f39078b"
      },
      "outputs": [
        {
          "output_type": "stream",
          "name": "stdout",
          "text": [
            "(1600, 16)\n",
            "(400, 16)\n"
          ]
        }
      ],
      "source": [
        "from sklearn.model_selection import train_test_split \n",
        "X_train, X_test, y_train, y_test = train_test_split( X,y , test_size = 0.2, random_state = 0) \n",
        "print(X_train.shape)\n",
        "print(X_test.shape)"
      ]
    },
    {
      "cell_type": "code",
      "execution_count": 21,
      "metadata": {
        "colab": {
          "base_uri": "https://localhost:8080/"
        },
        "id": "eJ-_Ni4qn0o4",
        "outputId": "88ee72f7-af32-40da-b67d-f243d03b579a"
      },
      "outputs": [
        {
          "output_type": "execute_result",
          "data": {
            "text/plain": [
              "1    408\n",
              "0    405\n",
              "2    401\n",
              "3    386\n",
              "Name: price_range, dtype: int64"
            ]
          },
          "metadata": {},
          "execution_count": 21
        }
      ],
      "source": [
        "y_train.value_counts()"
      ]
    },
    {
      "cell_type": "markdown",
      "source": [
        "# **Logistic regression**"
      ],
      "metadata": {
        "id": "hL5NaiCtzNXY"
      }
    },
    {
      "cell_type": "code",
      "execution_count": 22,
      "metadata": {
        "colab": {
          "base_uri": "https://localhost:8080/"
        },
        "id": "gFFRElQcn_01",
        "outputId": "1009e44c-c11b-47f1-e528-4805d692fe1a"
      },
      "outputs": [
        {
          "output_type": "execute_result",
          "data": {
            "text/plain": [
              "LogisticRegression(max_iter=10000)"
            ]
          },
          "metadata": {},
          "execution_count": 22
        }
      ],
      "source": [
        "from sklearn.linear_model import LogisticRegression\n",
        "\n",
        "clf = LogisticRegression(fit_intercept=True, max_iter=10000)\n",
        "clf.fit(X_train, y_train)"
      ]
    },
    {
      "cell_type": "code",
      "execution_count": 23,
      "metadata": {
        "colab": {
          "base_uri": "https://localhost:8080/"
        },
        "id": "Z_3G43uwyG2g",
        "outputId": "6c723f48-5b9e-4340-dfaf-e63d3fbc30ef"
      },
      "outputs": [
        {
          "output_type": "execute_result",
          "data": {
            "text/plain": [
              "array([[ 5.36298339e-04,  7.69169073e-05,  2.87414179e-04,\n",
              "         8.65981971e-05,  8.83734581e-05,  5.03891033e-03,\n",
              "         7.26489634e-05,  2.33378952e-02,  8.50029394e-04,\n",
              "         1.54743899e-03, -3.13972629e-03,  1.67413318e-03,\n",
              "         9.82739246e-05,  8.50513434e-05, -5.68211694e-07,\n",
              "         1.50663221e-02],\n",
              "       [ 4.06198231e-04,  2.29814641e-05,  7.01654940e-05,\n",
              "         4.37353280e-05,  3.51617634e-05,  1.97491230e-03,\n",
              "         3.68419792e-05,  7.16580062e-03, -3.38168216e-05,\n",
              "         6.14706041e-04, -3.52800580e-04,  6.91357012e-04,\n",
              "         3.65736985e-05,  3.06857141e-05,  2.32070248e-08,\n",
              "         7.63744728e-04],\n",
              "       [-3.96506689e-04, -2.60094892e-05, -6.79571083e-05,\n",
              "        -3.01808633e-05, -4.28556514e-05, -1.86106118e-03,\n",
              "        -1.67710240e-05, -1.53615635e-03, -1.13236378e-05,\n",
              "        -2.96492654e-04,  9.96425135e-04, -4.40637300e-04,\n",
              "        -3.98559093e-05, -1.38102601e-05,  7.62907473e-08,\n",
              "        -4.53984511e-03],\n",
              "       [-5.45989874e-04, -7.38888822e-05, -2.89622565e-04,\n",
              "        -1.00152662e-04, -8.06795701e-05, -5.15276145e-03,\n",
              "        -9.27199187e-05, -2.89675395e-02, -8.04888935e-04,\n",
              "        -1.86565238e-03,  2.49610174e-03, -1.92485289e-03,\n",
              "        -9.49917138e-05, -1.01926797e-04,  4.68713921e-07,\n",
              "        -1.12902217e-02]])"
            ]
          },
          "metadata": {},
          "execution_count": 23
        }
      ],
      "source": [
        "clf.coef_"
      ]
    },
    {
      "cell_type": "code",
      "execution_count": 24,
      "metadata": {
        "colab": {
          "base_uri": "https://localhost:8080/"
        },
        "id": "jssumOqYyKtv",
        "outputId": "86e80d02-b009-4920-cb78-c09b8ceb63d1"
      },
      "outputs": [
        {
          "output_type": "execute_result",
          "data": {
            "text/plain": [
              "array([ 1.73419056e-04,  5.10791377e-05, -3.35645427e-05, -1.90933651e-04])"
            ]
          },
          "metadata": {},
          "execution_count": 24
        }
      ],
      "source": [
        "clf.intercept_"
      ]
    },
    {
      "cell_type": "code",
      "execution_count": 25,
      "metadata": {
        "id": "GQRu4ImwyPxZ"
      },
      "outputs": [],
      "source": [
        "# Get the predicted probabilities\n",
        "train_preds = clf.predict_proba(X_train)\n",
        "test_preds = clf.predict_proba(X_test)"
      ]
    },
    {
      "cell_type": "code",
      "execution_count": 26,
      "metadata": {
        "id": "zPrjl-1qybMB"
      },
      "outputs": [],
      "source": [
        "train_preds = clf.predict_proba(X_train)[:,1]\n",
        "test_preds = clf.predict_proba(X_test)[:,1]"
      ]
    },
    {
      "cell_type": "code",
      "execution_count": 27,
      "metadata": {
        "colab": {
          "base_uri": "https://localhost:8080/"
        },
        "id": "ZTpv6XCiytDd",
        "outputId": "388248b5-e3a7-463d-eef0-7625fdb657a5"
      },
      "outputs": [
        {
          "output_type": "execute_result",
          "data": {
            "text/plain": [
              "array([0.00759608, 0.17741958, 0.35111751, 0.4358254 , 0.02702667,\n",
              "       0.40369874, 0.43749767, 0.08014372, 0.10072083, 0.39068223,\n",
              "       0.4628539 , 0.01073107, 0.5041643 , 0.55215684, 0.06697151,\n",
              "       0.14795143, 0.00297462, 0.35739913, 0.29250502, 0.50315653,\n",
              "       0.47073862, 0.08483927, 0.01628495, 0.23469261, 0.56663181,\n",
              "       0.19894802, 0.0445401 , 0.38974044, 0.00640058, 0.26629245,\n",
              "       0.25829716, 0.16636802, 0.52106429, 0.51188872, 0.19932011,\n",
              "       0.00921254, 0.24414428, 0.3371858 , 0.02067112, 0.15436356,\n",
              "       0.09596536, 0.12632056, 0.02379888, 0.00395664, 0.35446444,\n",
              "       0.06007323, 0.16122384, 0.27704801, 0.00731192, 0.46491549,\n",
              "       0.59153066, 0.07077875, 0.22133929, 0.0846341 , 0.02193498,\n",
              "       0.03221969, 0.01870025, 0.36984879, 0.08362684, 0.00750455,\n",
              "       0.1386605 , 0.44881138, 0.0639905 , 0.44704353, 0.42537202,\n",
              "       0.01393993, 0.02446871, 0.02961858, 0.36258959, 0.40152989,\n",
              "       0.02253196, 0.12700832, 0.57176346, 0.45818535, 0.57426746,\n",
              "       0.02695019, 0.06998183, 0.35764388, 0.51110904, 0.63333179,\n",
              "       0.03117776, 0.33370413, 0.07213887, 0.2105781 , 0.28924588,\n",
              "       0.08379491, 0.21024056, 0.60930505, 0.46705606, 0.00322114,\n",
              "       0.5172087 , 0.21857008, 0.44045958, 0.39219503, 0.01528404,\n",
              "       0.0197175 , 0.13551784, 0.0493353 , 0.12465639, 0.09033169,\n",
              "       0.51204301, 0.09694314, 0.03747982, 0.63165729, 0.02002415,\n",
              "       0.27505447, 0.17303647, 0.19468532, 0.04481546, 0.03460961,\n",
              "       0.10909492, 0.2712322 , 0.44745933, 0.28330704, 0.47348097,\n",
              "       0.01097143, 0.44030283, 0.41732652, 0.40365802, 0.10702254,\n",
              "       0.20145085, 0.13877831, 0.2030703 , 0.15219961, 0.26042116,\n",
              "       0.06747879, 0.56803433, 0.37163186, 0.11429519, 0.01345635,\n",
              "       0.27420761, 0.16837737, 0.01158223, 0.30843857, 0.00394143,\n",
              "       0.04659343, 0.15098782, 0.13070855, 0.09296156, 0.40202409,\n",
              "       0.53097824, 0.15100868, 0.30913518, 0.00927249, 0.27903976,\n",
              "       0.00456472, 0.07232631, 0.09498343, 0.1220754 , 0.07946797,\n",
              "       0.5972623 , 0.52800691, 0.53824516, 0.49188986, 0.01505194,\n",
              "       0.48193016, 0.12440337, 0.00586938, 0.60936101, 0.08349169,\n",
              "       0.38949782, 0.14364785, 0.26233752, 0.3738781 , 0.0198274 ,\n",
              "       0.03141414, 0.00687567, 0.06045875, 0.53866807, 0.42130032,\n",
              "       0.05818839, 0.29841767, 0.40627005, 0.1408595 , 0.0300631 ,\n",
              "       0.41285375, 0.45364566, 0.49840564, 0.05350361, 0.3407782 ,\n",
              "       0.01903615, 0.46362995, 0.46642439, 0.4872404 , 0.05513598,\n",
              "       0.47634012, 0.08182234, 0.21094319, 0.09899638, 0.00210827,\n",
              "       0.2373284 , 0.1604307 , 0.53897295, 0.40412704, 0.076282  ,\n",
              "       0.43521887, 0.53241329, 0.04065343, 0.37697162, 0.22076357,\n",
              "       0.01723063, 0.02813173, 0.00805727, 0.59012641, 0.36323536,\n",
              "       0.02752728, 0.50234762, 0.04118326, 0.43788996, 0.16076069,\n",
              "       0.03591095, 0.35414304, 0.26163678, 0.03644988, 0.00550272,\n",
              "       0.0210771 , 0.43046078, 0.06506562, 0.37720543, 0.25351821,\n",
              "       0.1835079 , 0.00380669, 0.08361007, 0.34839749, 0.0083342 ,\n",
              "       0.07945768, 0.14928699, 0.09923995, 0.46213285, 0.09776193,\n",
              "       0.36746089, 0.4498966 , 0.27319311, 0.02550671, 0.13930877,\n",
              "       0.14979802, 0.07569267, 0.09347233, 0.50444102, 0.55575749,\n",
              "       0.1711701 , 0.02826674, 0.0494195 , 0.33892307, 0.05594998,\n",
              "       0.03930218, 0.39077224, 0.32468423, 0.0096349 , 0.25210977,\n",
              "       0.07893324, 0.09380309, 0.21599513, 0.51868534, 0.39912219,\n",
              "       0.07352281, 0.36515742, 0.37871602, 0.06576843, 0.30722128,\n",
              "       0.15190381, 0.01698018, 0.48922141, 0.11181185, 0.10449677,\n",
              "       0.12142105, 0.12550252, 0.01327771, 0.02143159, 0.31223062,\n",
              "       0.50932516, 0.19885107, 0.20550368, 0.15418278, 0.41994333,\n",
              "       0.01006532, 0.04079992, 0.25109965, 0.16726012, 0.35949086,\n",
              "       0.29448624, 0.48204673, 0.48141241, 0.4683521 , 0.50450415,\n",
              "       0.16238369, 0.53105641, 0.05691315, 0.02865284, 0.2618316 ,\n",
              "       0.19154273, 0.41944441, 0.17265205, 0.11035073, 0.56012808,\n",
              "       0.16799841, 0.01027031, 0.10515256, 0.32889855, 0.27541028,\n",
              "       0.57166359, 0.45131143, 0.04467374, 0.30055006, 0.29063674,\n",
              "       0.4629471 , 0.19338966, 0.52601391, 0.30504386, 0.27669857,\n",
              "       0.45712156, 0.4422724 , 0.06034676, 0.19980395, 0.01777105,\n",
              "       0.02124142, 0.22393491, 0.18833812, 0.30053913, 0.52084244,\n",
              "       0.19852004, 0.3041868 , 0.58872833, 0.5758991 , 0.42562467,\n",
              "       0.61458467, 0.17639115, 0.0136585 , 0.29842613, 0.3997947 ,\n",
              "       0.28805221, 0.49352912, 0.1920834 , 0.36989337, 0.04963227,\n",
              "       0.10040567, 0.00517504, 0.31588124, 0.51979854, 0.15328538,\n",
              "       0.61161864, 0.00308294, 0.11824285, 0.40086451, 0.61362348,\n",
              "       0.5310458 , 0.27585241, 0.09252941, 0.42981685, 0.09795534,\n",
              "       0.08058781, 0.03389464, 0.31965884, 0.20282108, 0.52434782,\n",
              "       0.0213549 , 0.03640659, 0.4647795 , 0.12254451, 0.24520629,\n",
              "       0.01149445, 0.16015094, 0.05684241, 0.28764932, 0.08968959,\n",
              "       0.10904031, 0.09869282, 0.0206667 , 0.00962163, 0.13569222,\n",
              "       0.10039805, 0.11428082, 0.2274324 , 0.3591141 , 0.50843768,\n",
              "       0.54456889, 0.45765883, 0.28394702, 0.6006705 , 0.01552121,\n",
              "       0.55867951, 0.61410778, 0.49104764, 0.52129137, 0.59027492,\n",
              "       0.09839458, 0.46445985, 0.02676558, 0.0155231 , 0.07117043,\n",
              "       0.08887614, 0.05953455, 0.231163  , 0.21841987, 0.14053134,\n",
              "       0.52129207, 0.44228177, 0.0770459 , 0.24710233, 0.45871591])"
            ]
          },
          "metadata": {},
          "execution_count": 27
        }
      ],
      "source": [
        "test_preds"
      ]
    },
    {
      "cell_type": "code",
      "execution_count": 28,
      "metadata": {
        "id": "glucrKc-y934"
      },
      "outputs": [],
      "source": [
        "# Get the predicted classes\n",
        "train_class_preds = clf.predict(X_train)\n",
        "test_class_preds = clf.predict(X_test)"
      ]
    },
    {
      "cell_type": "code",
      "execution_count": 29,
      "metadata": {
        "id": "7pnnCXW7NDB7"
      },
      "outputs": [],
      "source": [
        "y_pred = clf.predict(X_test)\n",
        "y_pred_train = clf.predict(X_train)"
      ]
    },
    {
      "cell_type": "code",
      "execution_count": 30,
      "metadata": {
        "colab": {
          "base_uri": "https://localhost:8080/"
        },
        "id": "-d-EUGE7zEe1",
        "outputId": "824dbcc8-63e0-49aa-f358-72f2ae23c065"
      },
      "outputs": [
        {
          "output_type": "execute_result",
          "data": {
            "text/plain": [
              "array([0, 1, 3, ..., 3, 0, 3])"
            ]
          },
          "metadata": {},
          "execution_count": 30
        }
      ],
      "source": [
        "train_class_preds"
      ]
    },
    {
      "cell_type": "code",
      "execution_count": 31,
      "metadata": {
        "id": "JcIEYLSxzFX_"
      },
      "outputs": [],
      "source": [
        "from sklearn.metrics import accuracy_score, confusion_matrix\n",
        "import seaborn as sns"
      ]
    },
    {
      "cell_type": "code",
      "execution_count": 32,
      "metadata": {
        "colab": {
          "base_uri": "https://localhost:8080/"
        },
        "id": "WcPxrJxLzKn4",
        "outputId": "d4aeaf7b-d9da-4a37-c282-c0cf4189a2fd"
      },
      "outputs": [
        {
          "output_type": "stream",
          "name": "stdout",
          "text": [
            "The accuracy on train data is  0.61\n",
            "The accuracy on test data is  0.61\n"
          ]
        }
      ],
      "source": [
        "# Get the accuracy scores\n",
        "train_accuracy = accuracy_score(train_class_preds,y_train)\n",
        "test_accuracy = accuracy_score(test_class_preds,y_test)\n",
        "\n",
        "print(\"The accuracy on train data is \", train_accuracy)\n",
        "print(\"The accuracy on test data is \", test_accuracy)"
      ]
    },
    {
      "cell_type": "code",
      "execution_count": 33,
      "metadata": {
        "colab": {
          "base_uri": "https://localhost:8080/",
          "height": 382
        },
        "id": "d20fER2GzNs1",
        "outputId": "743e32e0-85ca-4c4c-e053-67a60385a176"
      },
      "outputs": [
        {
          "output_type": "stream",
          "name": "stdout",
          "text": [
            "[[302  89  14   0]\n",
            " [ 69 191 113  35]\n",
            " [  5  92 181 123]\n",
            " [  0   8  76 302]]\n"
          ]
        },
        {
          "output_type": "execute_result",
          "data": {
            "text/plain": [
              "[Text(0, 0.5, 'Retained'), Text(0, 1.5, 'Churned')]"
            ]
          },
          "metadata": {},
          "execution_count": 33
        },
        {
          "output_type": "display_data",
          "data": {
            "text/plain": [
              "<Figure size 432x288 with 2 Axes>"
            ],
            "image/png": "[encoded data removed]"
          },
          "metadata": {
            "needs_background": "light"
          }
        }
      ],
      "source": [
        "# Get the confusion matrix for both train and test\n",
        "\n",
        "labels = ['Retained', 'Churned']\n",
        "cm = confusion_matrix(y_train, train_class_preds)\n",
        "print(cm)\n",
        "\n",
        "ax= plt.subplot()\n",
        "sns.heatmap(cm, annot=True, ax = ax) #annot=True to annotate cells\n",
        "\n",
        "# labels, title and ticks\n",
        "ax.set_xlabel('Predicted labels')\n",
        "ax.set_ylabel('True labels')\n",
        "ax.set_title('Confusion Matrix')\n",
        "ax.xaxis.set_ticklabels(labels)\n",
        "ax.yaxis.set_ticklabels(labels)"
      ]
    },
    {
      "cell_type": "code",
      "execution_count": 34,
      "metadata": {
        "id": "Q8iYUxtkN6s1"
      },
      "outputs": [],
      "source": [
        "from sklearn import metrics"
      ]
    },
    {
      "cell_type": "code",
      "execution_count": 35,
      "metadata": {
        "colab": {
          "base_uri": "https://localhost:8080/"
        },
        "id": "loOWhTo-M3SV",
        "outputId": "4ff00df6-b9bf-4536-bfd8-3e8350359002"
      },
      "outputs": [
        {
          "output_type": "stream",
          "name": "stdout",
          "text": [
            "              precision    recall  f1-score   support\n",
            "\n",
            "           0       0.77      0.84      0.80        87\n",
            "           1       0.57      0.54      0.55        97\n",
            "           2       0.40      0.43      0.41        94\n",
            "           3       0.69      0.65      0.67       122\n",
            "\n",
            "    accuracy                           0.61       400\n",
            "   macro avg       0.61      0.61      0.61       400\n",
            "weighted avg       0.61      0.61      0.61       400\n",
            "\n"
          ]
        }
      ],
      "source": [
        "#evaluation metrics of logistic regression\n",
        "print(metrics.classification_report(y_pred, y_test))"
      ]
    },
    {
      "cell_type": "code",
      "execution_count": 36,
      "metadata": {
        "id": "Iw1aaPQBthYQ"
      },
      "outputs": [],
      "source": [
        "from sklearn.linear_model import LogisticRegressionCV\n",
        "from sklearn.model_selection import cross_validate"
      ]
    },
    {
      "cell_type": "code",
      "execution_count": 37,
      "metadata": {
        "id": "uHgkRsevz9uq"
      },
      "outputs": [],
      "source": [
        "logistic = LogisticRegression()"
      ]
    },
    {
      "cell_type": "code",
      "execution_count": 38,
      "metadata": {
        "colab": {
          "base_uri": "https://localhost:8080/"
        },
        "id": "WVfLqSmn0AyM",
        "outputId": "aa35050f-587d-4472-df6d-4a6f80397ec0"
      },
      "outputs": [
        {
          "output_type": "stream",
          "name": "stdout",
          "text": [
            "[CV] START .....................................................................\n",
            "[CV] END ................ accuracy: (train=0.420, test=0.450) total time=   0.1s\n",
            "[CV] START .....................................................................\n",
            "[CV] END ................ accuracy: (train=0.459, test=0.453) total time=   0.1s\n",
            "[CV] START .....................................................................\n"
          ]
        },
        {
          "output_type": "stream",
          "name": "stderr",
          "text": [
            "[Parallel(n_jobs=1)]: Using backend SequentialBackend with 1 concurrent workers.\n",
            "/usr/local/lib/python3.7/dist-packages/sklearn/linear_model/_logistic.py:818: ConvergenceWarning: lbfgs failed to converge (status=1):\n",
            "STOP: TOTAL NO. of ITERATIONS REACHED LIMIT.\n",
            "\n",
            "Increase the number of iterations (max_iter) or scale the data as shown in:\n",
            "    https://scikit-learn.org/stable/modules/preprocessing.html\n",
            "Please also refer to the documentation for alternative solver options:\n",
            "    https://scikit-learn.org/stable/modules/linear_model.html#logistic-regression\n",
            "  extra_warning_msg=_LOGISTIC_SOLVER_CONVERGENCE_MSG,\n",
            "[Parallel(n_jobs=1)]: Done   1 out of   1 | elapsed:    0.1s remaining:    0.0s\n",
            "/usr/local/lib/python3.7/dist-packages/sklearn/linear_model/_logistic.py:818: ConvergenceWarning: lbfgs failed to converge (status=1):\n",
            "STOP: TOTAL NO. of ITERATIONS REACHED LIMIT.\n",
            "\n",
            "Increase the number of iterations (max_iter) or scale the data as shown in:\n",
            "    https://scikit-learn.org/stable/modules/preprocessing.html\n",
            "Please also refer to the documentation for alternative solver options:\n",
            "    https://scikit-learn.org/stable/modules/linear_model.html#logistic-regression\n",
            "  extra_warning_msg=_LOGISTIC_SOLVER_CONVERGENCE_MSG,\n",
            "[Parallel(n_jobs=1)]: Done   2 out of   2 | elapsed:    0.1s remaining:    0.0s\n"
          ]
        },
        {
          "output_type": "stream",
          "name": "stdout",
          "text": [
            "[CV] END ................ accuracy: (train=0.457, test=0.431) total time=   0.1s\n",
            "[CV] START .....................................................................\n",
            "[CV] END ................ accuracy: (train=0.466, test=0.475) total time=   0.1s\n",
            "[CV] START .....................................................................\n",
            "[CV] END ................ accuracy: (train=0.477, test=0.450) total time=   0.1s\n"
          ]
        },
        {
          "output_type": "stream",
          "name": "stderr",
          "text": [
            "/usr/local/lib/python3.7/dist-packages/sklearn/linear_model/_logistic.py:818: ConvergenceWarning: lbfgs failed to converge (status=1):\n",
            "STOP: TOTAL NO. of ITERATIONS REACHED LIMIT.\n",
            "\n",
            "Increase the number of iterations (max_iter) or scale the data as shown in:\n",
            "    https://scikit-learn.org/stable/modules/preprocessing.html\n",
            "Please also refer to the documentation for alternative solver options:\n",
            "    https://scikit-learn.org/stable/modules/linear_model.html#logistic-regression\n",
            "  extra_warning_msg=_LOGISTIC_SOLVER_CONVERGENCE_MSG,\n",
            "[Parallel(n_jobs=1)]: Done   3 out of   3 | elapsed:    0.2s remaining:    0.0s\n",
            "/usr/local/lib/python3.7/dist-packages/sklearn/linear_model/_logistic.py:818: ConvergenceWarning: lbfgs failed to converge (status=1):\n",
            "STOP: TOTAL NO. of ITERATIONS REACHED LIMIT.\n",
            "\n",
            "Increase the number of iterations (max_iter) or scale the data as shown in:\n",
            "    https://scikit-learn.org/stable/modules/preprocessing.html\n",
            "Please also refer to the documentation for alternative solver options:\n",
            "    https://scikit-learn.org/stable/modules/linear_model.html#logistic-regression\n",
            "  extra_warning_msg=_LOGISTIC_SOLVER_CONVERGENCE_MSG,\n",
            "[Parallel(n_jobs=1)]: Done   4 out of   4 | elapsed:    0.3s remaining:    0.0s\n",
            "/usr/local/lib/python3.7/dist-packages/sklearn/linear_model/_logistic.py:818: ConvergenceWarning: lbfgs failed to converge (status=1):\n",
            "STOP: TOTAL NO. of ITERATIONS REACHED LIMIT.\n",
            "\n",
            "Increase the number of iterations (max_iter) or scale the data as shown in:\n",
            "    https://scikit-learn.org/stable/modules/preprocessing.html\n",
            "Please also refer to the documentation for alternative solver options:\n",
            "    https://scikit-learn.org/stable/modules/linear_model.html#logistic-regression\n",
            "  extra_warning_msg=_LOGISTIC_SOLVER_CONVERGENCE_MSG,\n",
            "[Parallel(n_jobs=1)]: Done   5 out of   5 | elapsed:    0.4s remaining:    0.0s\n",
            "[Parallel(n_jobs=1)]: Done   5 out of   5 | elapsed:    0.4s finished\n"
          ]
        }
      ],
      "source": [
        "scoring = ['accuracy']\n",
        "scores = cross_validate(logistic,X_train, y_train, scoring = scoring, cv = 5, return_train_score=True,return_estimator=True,verbose = 10)"
      ]
    },
    {
      "cell_type": "code",
      "execution_count": 39,
      "metadata": {
        "colab": {
          "base_uri": "https://localhost:8080/"
        },
        "id": "HgQRfSVq0Dv0",
        "outputId": "b7efeb9a-c480-414b-9540-5432ca9bdb3a"
      },
      "outputs": [
        {
          "output_type": "execute_result",
          "data": {
            "text/plain": [
              "array([0.4203125 , 0.45859375, 0.45703125, 0.46640625, 0.4765625 ])"
            ]
          },
          "metadata": {},
          "execution_count": 39
        }
      ],
      "source": [
        "scores['train_accuracy']"
      ]
    },
    {
      "cell_type": "code",
      "execution_count": 40,
      "metadata": {
        "colab": {
          "base_uri": "https://localhost:8080/"
        },
        "id": "zb7QEwrW0Hwo",
        "outputId": "d4f893e0-d477-4ec4-b5d3-bea8ae827cb1"
      },
      "outputs": [
        {
          "output_type": "execute_result",
          "data": {
            "text/plain": [
              "array([0.45    , 0.453125, 0.43125 , 0.475   , 0.45    ])"
            ]
          },
          "metadata": {},
          "execution_count": 40
        }
      ],
      "source": [
        "#cheking accuracy of the logistic regression after cross validation and hyperparamter tunning\n",
        "scores['test_accuracy']"
      ]
    },
    {
      "cell_type": "code",
      "execution_count": 41,
      "metadata": {
        "colab": {
          "base_uri": "https://localhost:8080/"
        },
        "id": "SNNUc8T10LPu",
        "outputId": "6409a4df-4b62-46fb-bbd5-db9bb2af37ff"
      },
      "outputs": [
        {
          "output_type": "execute_result",
          "data": {
            "text/plain": [
              "[LogisticRegression(),\n",
              " LogisticRegression(),\n",
              " LogisticRegression(),\n",
              " LogisticRegression(),\n",
              " LogisticRegression()]"
            ]
          },
          "metadata": {},
          "execution_count": 41
        }
      ],
      "source": [
        "scores['estimator']"
      ]
    },
    {
      "cell_type": "code",
      "execution_count": 42,
      "metadata": {
        "colab": {
          "base_uri": "https://localhost:8080/"
        },
        "id": "a6xdw4CN0Ow0",
        "outputId": "8e78e81e-974f-4d8a-fd21-5281773d47d2"
      },
      "outputs": [
        {
          "output_type": "stream",
          "name": "stdout",
          "text": [
            "[[ 1.34528411e-03  8.20752471e-07  2.73021823e-06  8.57186488e-07\n",
            "   7.82472822e-07  4.85385499e-05  7.41534812e-07  2.37130177e-04\n",
            "   7.80168736e-06  1.52857215e-05 -1.37864160e-03  1.80547332e-05\n",
            "   9.63816271e-07  7.96752203e-07  1.48330413e-07  1.37431370e-04]\n",
            " [ 5.95260223e-04  2.71245415e-07  7.57149223e-07  3.38704844e-07\n",
            "   4.44701766e-07  1.58391254e-05  3.80752769e-07  7.65330840e-05\n",
            "   9.17811316e-07  6.28258405e-06 -9.11065232e-05  6.87983293e-06\n",
            "   3.60122246e-07  3.42902678e-07 -1.42253066e-07  2.55862304e-05]\n",
            " [-5.94379376e-04 -2.71403915e-07 -7.98930953e-07 -3.28746066e-07\n",
            "  -3.83326914e-07 -1.83678689e-05 -2.72348072e-07 -5.14650451e-05\n",
            "  -1.29315678e-06 -3.87857153e-06  5.98164518e-04 -5.88936918e-06\n",
            "  -3.73950803e-07 -1.83841223e-07 -1.18479713e-07 -2.94275148e-05]\n",
            " [-1.34616496e-03 -8.20593970e-07 -2.68843650e-06 -8.67145266e-07\n",
            "  -8.43847674e-07 -4.60098063e-05 -8.49939509e-07 -2.62198216e-04\n",
            "  -7.42634189e-06 -1.76897340e-05  8.71583610e-04 -1.90451969e-05\n",
            "  -9.49987715e-07 -9.55813658e-07  1.12402366e-07 -1.33590086e-04]]\n",
            "[[ 1.77854735e-03  9.55153379e-07  3.58232760e-06  1.02867550e-06\n",
            "   1.12287995e-06  5.87581380e-05  9.91356533e-07  3.03942149e-04\n",
            "   1.05774618e-05  2.02497813e-05 -1.51016972e-03  2.20505553e-05\n",
            "   1.22238441e-06  1.10710869e-06 -6.14724486e-08  1.82394828e-04]\n",
            " [ 6.51972826e-04  2.61008887e-07  6.35869872e-07  4.63079471e-07\n",
            "   4.17544077e-07  2.14980768e-05  3.87349089e-07  8.69390296e-05\n",
            "   5.81006384e-07  7.62517143e-06 -2.72661538e-04  8.08296018e-06\n",
            "   3.49217621e-07  3.98415484e-07  7.46260333e-08  3.18659962e-05]\n",
            " [-7.59359547e-04 -3.94935427e-07 -8.72267156e-07 -3.24473355e-07\n",
            "  -4.87419871e-07 -2.24902256e-05 -3.29349791e-07 -6.77471987e-05\n",
            "  -1.95479744e-06 -6.51087835e-06  6.52749108e-04 -6.93221500e-06\n",
            "  -5.65598734e-07 -4.63013496e-07 -1.99907410e-08 -6.59386233e-05]\n",
            " [-1.67116063e-03 -8.21226839e-07 -3.34593032e-06 -1.16728162e-06\n",
            "  -1.05300416e-06 -5.77659892e-05 -1.04935583e-06 -3.23133980e-04\n",
            "  -9.20367077e-06 -2.13640744e-05  1.13008215e-03 -2.32013005e-05\n",
            "  -1.00600329e-06 -1.04251068e-06  6.83715606e-09 -1.48322200e-04]]\n",
            "[[ 1.78785599e-03  9.22042996e-07  3.40270191e-06  1.06270480e-06\n",
            "   1.26008431e-06  5.91476474e-05  1.04539675e-06  2.95442106e-04\n",
            "   1.05103744e-05  1.87977581e-05 -1.53402458e-03  2.25187703e-05\n",
            "   1.23498808e-06  9.97932162e-07 -3.80089075e-08  1.80911521e-04]\n",
            " [ 4.68883697e-04  3.79716064e-07  9.60996058e-07  3.84265461e-07\n",
            "   2.13190230e-07  2.22750576e-05  3.93966082e-07  7.95836137e-05\n",
            "   8.74780359e-07  7.49964348e-06 -1.72715066e-04  7.36919173e-06\n",
            "   4.11273170e-07  2.00551430e-07  1.12174245e-07  3.00143681e-05]\n",
            " [-6.58510722e-04 -4.35584573e-07 -1.32116485e-06 -4.93182481e-07\n",
            "  -5.04372120e-07 -2.44562078e-05 -3.18047239e-07 -5.58857678e-05\n",
            "  -1.71914503e-06 -4.56146951e-06  6.28751358e-04 -6.63241182e-06\n",
            "  -5.69776483e-07 -1.54711867e-07 -7.23422286e-08 -7.65152824e-05]\n",
            " [-1.59822896e-03 -8.66174487e-07 -3.04253312e-06 -9.53787784e-07\n",
            "  -9.68902423e-07 -5.69664972e-05 -1.12131559e-06 -3.19139952e-04\n",
            "  -9.66600976e-06 -2.17359321e-05  1.07798829e-03 -2.32555502e-05\n",
            "  -1.07648477e-06 -1.04377172e-06 -1.82310932e-09 -1.34410607e-04]]\n",
            "[[ 1.79819378e-03  8.94822179e-07  3.67396593e-06  9.81749589e-07\n",
            "   1.06299102e-06  6.26194090e-05  9.89792781e-07  2.99124302e-04\n",
            "   1.05685584e-05  1.96878314e-05 -1.81158684e-03  2.21716070e-05\n",
            "   1.23351659e-06  9.77938574e-07  9.96735662e-08  1.75599364e-04]\n",
            " [ 5.99149961e-04  3.00552295e-07  8.34793865e-07  4.69694525e-07\n",
            "   4.91410618e-07  2.66895298e-05  3.57629672e-07  8.74545401e-05\n",
            "   5.75897524e-07  8.21749318e-06 -1.69531978e-04  9.63306506e-06\n",
            "   3.02109654e-07  4.55997119e-07  2.44728370e-08  3.29372330e-06]\n",
            " [-8.41375859e-04 -3.19709090e-07 -1.15517504e-06 -3.51786996e-07\n",
            "  -5.63932630e-07 -2.54187679e-05 -2.60047821e-07 -5.38670670e-05\n",
            "  -1.87888184e-06 -6.84663580e-06  8.05986526e-04 -7.92611316e-06\n",
            "  -4.33440240e-07 -2.42569660e-07 -9.47927527e-08 -5.81343772e-05]\n",
            " [-1.55596788e-03 -8.75665384e-07 -3.35358475e-06 -1.09965712e-06\n",
            "  -9.90469006e-07 -6.38901709e-05 -1.08737463e-06 -3.32711775e-04\n",
            "  -9.26557412e-06 -2.10586888e-05  1.17513229e-03 -2.38785589e-05\n",
            "  -1.10218601e-06 -1.19136603e-06 -2.93536506e-08 -1.20758710e-04]]\n",
            "[[ 1.47147905e-03  8.92673741e-07  2.96154467e-06  9.62566090e-07\n",
            "   9.85658959e-07  5.90035274e-05  8.64669985e-07  2.67142428e-04\n",
            "   9.12197332e-06  1.82447846e-05 -1.56203201e-03  1.81057068e-05\n",
            "   1.15743397e-06  1.04078639e-06  2.52939461e-07  1.51402821e-04]\n",
            " [ 5.74598597e-04  1.05397231e-07  8.73108022e-07  2.08743667e-07\n",
            "   3.15138172e-07  1.67508755e-05  3.32096437e-07  7.16762009e-05\n",
            "   2.62364009e-07  4.95467773e-06 -2.78618653e-04  8.82914410e-06\n",
            "   3.72928255e-07  2.41053067e-07  1.73598629e-07  9.98697257e-06]\n",
            " [-5.84379648e-04 -2.94306973e-07 -8.10370501e-07 -3.94534380e-07\n",
            "  -4.62676705e-07 -2.20592469e-05 -2.62751253e-07 -4.67132967e-05\n",
            "  -9.18645642e-07 -4.52237400e-06  7.10594481e-04 -6.72777164e-06\n",
            "  -4.60762582e-07 -2.29403266e-07 -2.60522289e-07 -4.95182864e-05]\n",
            " [-1.46169800e-03 -7.03763999e-07 -3.02428219e-06 -7.76775376e-07\n",
            "  -8.38120427e-07 -5.36951561e-05 -9.34015169e-07 -2.92105332e-04\n",
            "  -8.46569169e-06 -1.86770883e-05  1.13005618e-03 -2.02070793e-05\n",
            "  -1.06959964e-06 -1.05243619e-06 -1.66015801e-07 -1.11871507e-04]]\n"
          ]
        }
      ],
      "source": [
        "for model in scores['estimator']:\n",
        "    print(model.coef_)"
      ]
    },
    {
      "cell_type": "markdown",
      "source": [
        "# **Decision trees**"
      ],
      "metadata": {
        "id": "sAaHWU2XzXOq"
      }
    },
    {
      "cell_type": "code",
      "execution_count": 43,
      "metadata": {
        "id": "97fccvpaQpmY"
      },
      "outputs": [],
      "source": [
        "from sklearn.tree import DecisionTreeClassifier"
      ]
    },
    {
      "cell_type": "code",
      "execution_count": 44,
      "metadata": {
        "colab": {
          "base_uri": "https://localhost:8080/"
        },
        "id": "CoywNHrQPH8p",
        "outputId": "f0a8c3c5-1482-4478-bf2e-b4a05fdf1a62"
      },
      "outputs": [
        {
          "output_type": "execute_result",
          "data": {
            "text/plain": [
              "DecisionTreeClassifier(criterion='entropy', max_leaf_nodes=10, random_state=0)"
            ]
          },
          "metadata": {},
          "execution_count": 44
        }
      ],
      "source": [
        "price_classifier_dt = DecisionTreeClassifier(criterion='entropy', max_leaf_nodes=10, random_state=0)\n",
        "price_classifier_dt.fit(X_train, y_train)"
      ]
    },
    {
      "cell_type": "code",
      "execution_count": 45,
      "metadata": {
        "id": "Fy4hdYacQu1F"
      },
      "outputs": [],
      "source": [
        "y_predicted_dt = price_classifier_dt.predict(X_test)"
      ]
    },
    {
      "cell_type": "code",
      "execution_count": 46,
      "metadata": {
        "colab": {
          "base_uri": "https://localhost:8080/"
        },
        "id": "UKjhue7iQ3bM",
        "outputId": "5ab256ea-2521-4bab-a866-2da5527d4240"
      },
      "outputs": [
        {
          "output_type": "execute_result",
          "data": {
            "text/plain": [
              "array([3, 0, 2, 1, 3, 0, 0, 3, 3, 1])"
            ]
          },
          "metadata": {},
          "execution_count": 46
        }
      ],
      "source": [
        "y_predicted_dt[:10]"
      ]
    },
    {
      "cell_type": "code",
      "execution_count": 47,
      "metadata": {
        "colab": {
          "base_uri": "https://localhost:8080/"
        },
        "id": "uETCO5qkQ570",
        "outputId": "12005938-f5ac-4c37-a8e1-88548e1d5330"
      },
      "outputs": [
        {
          "output_type": "execute_result",
          "data": {
            "text/plain": [
              "78.0"
            ]
          },
          "metadata": {},
          "execution_count": 47
        }
      ],
      "source": [
        "accuracy_score(y_test, y_predicted_dt) * 100"
      ]
    },
    {
      "cell_type": "code",
      "execution_count": 48,
      "metadata": {
        "colab": {
          "base_uri": "https://localhost:8080/"
        },
        "id": "ojStYZbkQ-KF",
        "outputId": "7b3e26b9-1215-43ed-ce8d-2d9b916edc8f"
      },
      "outputs": [
        {
          "output_type": "execute_result",
          "data": {
            "text/plain": [
              "battery_power       510.0\n",
              "blue                  1.0\n",
              "clock_speed           2.0\n",
              "dual_sim              1.0\n",
              "four_g                1.0\n",
              "int_memory           45.0\n",
              "m_dep                 0.9\n",
              "mobile_wt           168.0\n",
              "n_cores               6.0\n",
              "pc                   16.0\n",
              "ram                3919.0\n",
              "talk_time             2.0\n",
              "touch_screen          1.0\n",
              "wifi                  1.0\n",
              "price_range           3.0\n",
              "px_area          364182.0\n",
              "sc_area              76.0\n",
              "Name: 1999, dtype: float64"
            ]
          },
          "metadata": {},
          "execution_count": 48
        }
      ],
      "source": [
        "data.iloc[-1]"
      ]
    },
    {
      "cell_type": "code",
      "execution_count": 49,
      "metadata": {
        "id": "J_0cWRlkRC6s"
      },
      "outputs": [],
      "source": [
        "from sklearn.tree import DecisionTreeClassifier, export_graphviz\n",
        "from sklearn import tree\n",
        "from IPython.display import SVG\n",
        "from graphviz import Source\n",
        "from IPython.display import display"
      ]
    },
    {
      "cell_type": "code",
      "execution_count": 50,
      "metadata": {
        "colab": {
          "base_uri": "https://localhost:8080/",
          "height": 677
        },
        "id": "9Fn_VTKeRJKV",
        "outputId": "666f4115-e7d8-465f-a46f-9b102c70306d"
      },
      "outputs": [
        {
          "output_type": "display_data",
          "data": {
            "text/plain": [
              "<IPython.core.display.SVG object>"
            ],
            "image/svg+xml": "<svg height=\"477pt\" viewBox=\"0.00 0.00 1374.00 477.00\" width=\"1374pt\" xmlns=\"http://www.w3.org/2000/svg\" xmlns:xlink=\"http://www.w3.org/1999/xlink\">\n<g class=\"graph\" id=\"graph0\" transform=\"scale(1 1) rotate(0) translate(4 473)\">\n<title>Tree</title>\n<polygon fill=\"#ffffff\" points=\"-4,4 -4,-473 1370,-473 1370,4 -4,4\" stroke=\"transparent\"/>\n<!-- 0 -->\n<g class=\"node\" id=\"node1\">\n<title>0</title>\n<polygon fill=\"none\" points=\"777,-469 580,-469 580,-401 777,-401 777,-469\" stroke=\"#000000\"/>\n<text fill=\"#000000\" font-family=\"Helvetica,sans-Serif\" font-size=\"14.00\" text-anchor=\"middle\" x=\"678.5\" y=\"-453.8\">ram &lt;= 2235.5</text>\n<text fill=\"#000000\" font-family=\"Helvetica,sans-Serif\" font-size=\"14.00\" text-anchor=\"middle\" x=\"678.5\" y=\"-438.8\">entropy = 2.0</text>\n<text fill=\"#000000\" font-family=\"Helvetica,sans-Serif\" font-size=\"14.00\" text-anchor=\"middle\" x=\"678.5\" y=\"-423.8\">samples = 1600</text>\n<text fill=\"#000000\" font-family=\"Helvetica,sans-Serif\" font-size=\"14.00\" text-anchor=\"middle\" x=\"678.5\" y=\"-408.8\">value = [405, 408, 401, 386]</text>\n</g>\n<!-- 1 -->\n<g class=\"node\" id=\"node2\">\n<title>1</title>\n<polygon fill=\"none\" points=\"595.5,-365 423.5,-365 423.5,-297 595.5,-297 595.5,-365\" stroke=\"#000000\"/>\n<text fill=\"#000000\" font-family=\"Helvetica,sans-Serif\" font-size=\"14.00\" text-anchor=\"middle\" x=\"509.5\" y=\"-349.8\">ram &lt;= 1175.5</text>\n<text fill=\"#000000\" font-family=\"Helvetica,sans-Serif\" font-size=\"14.00\" text-anchor=\"middle\" x=\"509.5\" y=\"-334.8\">entropy = 1.36</text>\n<text fill=\"#000000\" font-family=\"Helvetica,sans-Serif\" font-size=\"14.00\" text-anchor=\"middle\" x=\"509.5\" y=\"-319.8\">samples = 848</text>\n<text fill=\"#000000\" font-family=\"Helvetica,sans-Serif\" font-size=\"14.00\" text-anchor=\"middle\" x=\"509.5\" y=\"-304.8\">value = [405, 361, 82, 0]</text>\n</g>\n<!-- 0&#45;&gt;1 -->\n<g class=\"edge\" id=\"edge1\">\n<title>0-&gt;1</title>\n<path d=\"M623.1631,-400.9465C607.4058,-391.2497 590.1063,-380.6039 573.8613,-370.6069\" fill=\"none\" stroke=\"#000000\"/>\n<polygon fill=\"#000000\" points=\"575.3122,-367.3902 564.9612,-365.13 571.6435,-373.3518 575.3122,-367.3902\" stroke=\"#000000\"/>\n<text fill=\"#000000\" font-family=\"Helvetica,sans-Serif\" font-size=\"14.00\" text-anchor=\"middle\" x=\"570.7518\" y=\"-385.7502\">True</text>\n</g>\n<!-- 2 -->\n<g class=\"node\" id=\"node11\">\n<title>2</title>\n<polygon fill=\"none\" points=\"939.5,-365 767.5,-365 767.5,-297 939.5,-297 939.5,-365\" stroke=\"#000000\"/>\n<text fill=\"#000000\" font-family=\"Helvetica,sans-Serif\" font-size=\"14.00\" text-anchor=\"middle\" x=\"853.5\" y=\"-349.8\">ram &lt;= 3013.5</text>\n<text fill=\"#000000\" font-family=\"Helvetica,sans-Serif\" font-size=\"14.00\" text-anchor=\"middle\" x=\"853.5\" y=\"-334.8\">entropy = 1.269</text>\n<text fill=\"#000000\" font-family=\"Helvetica,sans-Serif\" font-size=\"14.00\" text-anchor=\"middle\" x=\"853.5\" y=\"-319.8\">samples = 752</text>\n<text fill=\"#000000\" font-family=\"Helvetica,sans-Serif\" font-size=\"14.00\" text-anchor=\"middle\" x=\"853.5\" y=\"-304.8\">value = [0, 47, 319, 386]</text>\n</g>\n<!-- 0&#45;&gt;2 -->\n<g class=\"edge\" id=\"edge10\">\n<title>0-&gt;2</title>\n<path d=\"M735.8015,-400.9465C752.2694,-391.1599 770.3638,-380.4066 787.3207,-370.3294\" fill=\"none\" stroke=\"#000000\"/>\n<polygon fill=\"#000000\" points=\"789.2613,-373.2476 796.0697,-365.13 785.6851,-367.23 789.2613,-373.2476\" stroke=\"#000000\"/>\n<text fill=\"#000000\" font-family=\"Helvetica,sans-Serif\" font-size=\"14.00\" text-anchor=\"middle\" x=\"789.9042\" y=\"-385.6578\">False</text>\n</g>\n<!-- 3 -->\n<g class=\"node\" id=\"node3\">\n<title>3</title>\n<polygon fill=\"none\" points=\"328.5,-261 164.5,-261 164.5,-193 328.5,-193 328.5,-261\" stroke=\"#000000\"/>\n<text fill=\"#000000\" font-family=\"Helvetica,sans-Serif\" font-size=\"14.00\" text-anchor=\"middle\" x=\"246.5\" y=\"-245.8\">px_area &lt;= 2018676.5</text>\n<text fill=\"#000000\" font-family=\"Helvetica,sans-Serif\" font-size=\"14.00\" text-anchor=\"middle\" x=\"246.5\" y=\"-230.8\">entropy = 0.58</text>\n<text fill=\"#000000\" font-family=\"Helvetica,sans-Serif\" font-size=\"14.00\" text-anchor=\"middle\" x=\"246.5\" y=\"-215.8\">samples = 390</text>\n<text fill=\"#000000\" font-family=\"Helvetica,sans-Serif\" font-size=\"14.00\" text-anchor=\"middle\" x=\"246.5\" y=\"-200.8\">value = [336, 54, 0, 0]</text>\n</g>\n<!-- 1&#45;&gt;3 -->\n<g class=\"edge\" id=\"edge2\">\n<title>1-&gt;3</title>\n<path d=\"M423.384,-296.9465C396.1803,-286.1892 366.023,-274.2639 338.4293,-263.3523\" fill=\"none\" stroke=\"#000000\"/>\n<polygon fill=\"#000000\" points=\"339.3714,-259.9611 328.7849,-259.5385 336.7972,-266.4707 339.3714,-259.9611\" stroke=\"#000000\"/>\n</g>\n<!-- 4 -->\n<g class=\"node\" id=\"node6\">\n<title>4</title>\n<polygon fill=\"none\" points=\"598.5,-261 420.5,-261 420.5,-193 598.5,-193 598.5,-261\" stroke=\"#000000\"/>\n<text fill=\"#000000\" font-family=\"Helvetica,sans-Serif\" font-size=\"14.00\" text-anchor=\"middle\" x=\"509.5\" y=\"-245.8\">battery_power &lt;= 1106.5</text>\n<text fill=\"#000000\" font-family=\"Helvetica,sans-Serif\" font-size=\"14.00\" text-anchor=\"middle\" x=\"509.5\" y=\"-230.8\">entropy = 1.243</text>\n<text fill=\"#000000\" font-family=\"Helvetica,sans-Serif\" font-size=\"14.00\" text-anchor=\"middle\" x=\"509.5\" y=\"-215.8\">samples = 458</text>\n<text fill=\"#000000\" font-family=\"Helvetica,sans-Serif\" font-size=\"14.00\" text-anchor=\"middle\" x=\"509.5\" y=\"-200.8\">value = [69, 307, 82, 0]</text>\n</g>\n<!-- 1&#45;&gt;4 -->\n<g class=\"edge\" id=\"edge5\">\n<title>1-&gt;4</title>\n<path d=\"M509.5,-296.9465C509.5,-288.776 509.5,-279.9318 509.5,-271.3697\" fill=\"none\" stroke=\"#000000\"/>\n<polygon fill=\"#000000\" points=\"513.0001,-271.13 509.5,-261.13 506.0001,-271.13 513.0001,-271.13\" stroke=\"#000000\"/>\n</g>\n<!-- 15 -->\n<g class=\"node\" id=\"node4\">\n<title>15</title>\n<polygon fill=\"none\" points=\"155,-149.5 0,-149.5 0,-96.5 155,-96.5 155,-149.5\" stroke=\"#000000\"/>\n<text fill=\"#000000\" font-family=\"Helvetica,sans-Serif\" font-size=\"14.00\" text-anchor=\"middle\" x=\"77.5\" y=\"-134.3\">entropy = 0.369</text>\n<text fill=\"#000000\" font-family=\"Helvetica,sans-Serif\" font-size=\"14.00\" text-anchor=\"middle\" x=\"77.5\" y=\"-119.3\">samples = 339</text>\n<text fill=\"#000000\" font-family=\"Helvetica,sans-Serif\" font-size=\"14.00\" text-anchor=\"middle\" x=\"77.5\" y=\"-104.3\">value = [315, 24, 0, 0]</text>\n</g>\n<!-- 3&#45;&gt;15 -->\n<g class=\"edge\" id=\"edge3\">\n<title>3-&gt;15</title>\n<path d=\"M191.1631,-192.9465C171.2949,-180.72 148.9751,-166.9847 129.4086,-154.9437\" fill=\"none\" stroke=\"#000000\"/>\n<polygon fill=\"#000000\" points=\"130.982,-151.8024 120.631,-149.5422 127.3133,-157.764 130.982,-151.8024\" stroke=\"#000000\"/>\n</g>\n<!-- 16 -->\n<g class=\"node\" id=\"node5\">\n<title>16</title>\n<polygon fill=\"none\" points=\"320,-149.5 173,-149.5 173,-96.5 320,-96.5 320,-149.5\" stroke=\"#000000\"/>\n<text fill=\"#000000\" font-family=\"Helvetica,sans-Serif\" font-size=\"14.00\" text-anchor=\"middle\" x=\"246.5\" y=\"-134.3\">entropy = 0.977</text>\n<text fill=\"#000000\" font-family=\"Helvetica,sans-Serif\" font-size=\"14.00\" text-anchor=\"middle\" x=\"246.5\" y=\"-119.3\">samples = 51</text>\n<text fill=\"#000000\" font-family=\"Helvetica,sans-Serif\" font-size=\"14.00\" text-anchor=\"middle\" x=\"246.5\" y=\"-104.3\">value = [21, 30, 0, 0]</text>\n</g>\n<!-- 3&#45;&gt;16 -->\n<g class=\"edge\" id=\"edge4\">\n<title>3-&gt;16</title>\n<path d=\"M246.5,-192.9465C246.5,-182.2621 246.5,-170.4254 246.5,-159.5742\" fill=\"none\" stroke=\"#000000\"/>\n<polygon fill=\"#000000\" points=\"250.0001,-159.5421 246.5,-149.5422 243.0001,-159.5422 250.0001,-159.5421\" stroke=\"#000000\"/>\n</g>\n<!-- 7 -->\n<g class=\"node\" id=\"node7\">\n<title>7</title>\n<polygon fill=\"none\" points=\"493,-157 338,-157 338,-89 493,-89 493,-157\" stroke=\"#000000\"/>\n<text fill=\"#000000\" font-family=\"Helvetica,sans-Serif\" font-size=\"14.00\" text-anchor=\"middle\" x=\"415.5\" y=\"-141.8\">ram &lt;= 1541.0</text>\n<text fill=\"#000000\" font-family=\"Helvetica,sans-Serif\" font-size=\"14.00\" text-anchor=\"middle\" x=\"415.5\" y=\"-126.8\">entropy = 1.071</text>\n<text fill=\"#000000\" font-family=\"Helvetica,sans-Serif\" font-size=\"14.00\" text-anchor=\"middle\" x=\"415.5\" y=\"-111.8\">samples = 197</text>\n<text fill=\"#000000\" font-family=\"Helvetica,sans-Serif\" font-size=\"14.00\" text-anchor=\"middle\" x=\"415.5\" y=\"-96.8\">value = [65, 127, 5, 0]</text>\n</g>\n<!-- 4&#45;&gt;7 -->\n<g class=\"edge\" id=\"edge6\">\n<title>4-&gt;7</title>\n<path d=\"M478.7209,-192.9465C470.5245,-183.8782 461.578,-173.9799 453.0625,-164.5585\" fill=\"none\" stroke=\"#000000\"/>\n<polygon fill=\"#000000\" points=\"455.6503,-162.2019 446.3483,-157.13 450.4571,-166.8957 455.6503,-162.2019\" stroke=\"#000000\"/>\n</g>\n<!-- 8 -->\n<g class=\"node\" id=\"node10\">\n<title>8</title>\n<polygon fill=\"none\" points=\"666,-149.5 511,-149.5 511,-96.5 666,-96.5 666,-149.5\" stroke=\"#000000\"/>\n<text fill=\"#000000\" font-family=\"Helvetica,sans-Serif\" font-size=\"14.00\" text-anchor=\"middle\" x=\"588.5\" y=\"-134.3\">entropy = 0.982</text>\n<text fill=\"#000000\" font-family=\"Helvetica,sans-Serif\" font-size=\"14.00\" text-anchor=\"middle\" x=\"588.5\" y=\"-119.3\">samples = 261</text>\n<text fill=\"#000000\" font-family=\"Helvetica,sans-Serif\" font-size=\"14.00\" text-anchor=\"middle\" x=\"588.5\" y=\"-104.3\">value = [4, 180, 77, 0]</text>\n</g>\n<!-- 4&#45;&gt;8 -->\n<g class=\"edge\" id=\"edge9\">\n<title>4-&gt;8</title>\n<path d=\"M535.3676,-192.9465C543.9857,-181.6012 553.5906,-168.9567 562.2383,-157.5724\" fill=\"none\" stroke=\"#000000\"/>\n<polygon fill=\"#000000\" points=\"565.0763,-159.6224 568.3382,-149.5422 559.5021,-155.3882 565.0763,-159.6224\" stroke=\"#000000\"/>\n</g>\n<!-- 9 -->\n<g class=\"node\" id=\"node8\">\n<title>9</title>\n<polygon fill=\"none\" points=\"410,-53 263,-53 263,0 410,0 410,-53\" stroke=\"#000000\"/>\n<text fill=\"#000000\" font-family=\"Helvetica,sans-Serif\" font-size=\"14.00\" text-anchor=\"middle\" x=\"336.5\" y=\"-37.8\">entropy = 0.728</text>\n<text fill=\"#000000\" font-family=\"Helvetica,sans-Serif\" font-size=\"14.00\" text-anchor=\"middle\" x=\"336.5\" y=\"-22.8\">samples = 69</text>\n<text fill=\"#000000\" font-family=\"Helvetica,sans-Serif\" font-size=\"14.00\" text-anchor=\"middle\" x=\"336.5\" y=\"-7.8\">value = [55, 14, 0, 0]</text>\n</g>\n<!-- 7&#45;&gt;9 -->\n<g class=\"edge\" id=\"edge7\">\n<title>7-&gt;9</title>\n<path d=\"M387.6476,-88.9777C380.2261,-79.9123 372.2023,-70.111 364.7593,-61.0192\" fill=\"none\" stroke=\"#000000\"/>\n<polygon fill=\"#000000\" points=\"367.4405,-58.7692 358.3977,-53.2485 362.0241,-63.2034 367.4405,-58.7692\" stroke=\"#000000\"/>\n</g>\n<!-- 10 -->\n<g class=\"node\" id=\"node9\">\n<title>10</title>\n<polygon fill=\"none\" points=\"583,-53 428,-53 428,0 583,0 583,-53\" stroke=\"#000000\"/>\n<text fill=\"#000000\" font-family=\"Helvetica,sans-Serif\" font-size=\"14.00\" text-anchor=\"middle\" x=\"505.5\" y=\"-37.8\">entropy = 0.629</text>\n<text fill=\"#000000\" font-family=\"Helvetica,sans-Serif\" font-size=\"14.00\" text-anchor=\"middle\" x=\"505.5\" y=\"-22.8\">samples = 128</text>\n<text fill=\"#000000\" font-family=\"Helvetica,sans-Serif\" font-size=\"14.00\" text-anchor=\"middle\" x=\"505.5\" y=\"-7.8\">value = [10, 113, 5, 0]</text>\n</g>\n<!-- 7&#45;&gt;10 -->\n<g class=\"edge\" id=\"edge8\">\n<title>7-&gt;10</title>\n<path d=\"M447.2306,-88.9777C455.7708,-79.8207 465.0113,-69.9129 473.5626,-60.744\" fill=\"none\" stroke=\"#000000\"/>\n<polygon fill=\"#000000\" points=\"476.2923,-62.9488 480.5532,-53.2485 471.1731,-58.1744 476.2923,-62.9488\" stroke=\"#000000\"/>\n</g>\n<!-- 5 -->\n<g class=\"node\" id=\"node12\">\n<title>5</title>\n<polygon fill=\"none\" points=\"935.5,-261 771.5,-261 771.5,-193 935.5,-193 935.5,-261\" stroke=\"#000000\"/>\n<text fill=\"#000000\" font-family=\"Helvetica,sans-Serif\" font-size=\"14.00\" text-anchor=\"middle\" x=\"853.5\" y=\"-245.8\">px_area &lt;= 1168661.0</text>\n<text fill=\"#000000\" font-family=\"Helvetica,sans-Serif\" font-size=\"14.00\" text-anchor=\"middle\" x=\"853.5\" y=\"-230.8\">entropy = 1.162</text>\n<text fill=\"#000000\" font-family=\"Helvetica,sans-Serif\" font-size=\"14.00\" text-anchor=\"middle\" x=\"853.5\" y=\"-215.8\">samples = 359</text>\n<text fill=\"#000000\" font-family=\"Helvetica,sans-Serif\" font-size=\"14.00\" text-anchor=\"middle\" x=\"853.5\" y=\"-200.8\">value = [0, 47, 254, 58]</text>\n</g>\n<!-- 2&#45;&gt;5 -->\n<g class=\"edge\" id=\"edge11\">\n<title>2-&gt;5</title>\n<path d=\"M853.5,-296.9465C853.5,-288.776 853.5,-279.9318 853.5,-271.3697\" fill=\"none\" stroke=\"#000000\"/>\n<polygon fill=\"#000000\" points=\"857.0001,-271.13 853.5,-261.13 850.0001,-271.13 857.0001,-271.13\" stroke=\"#000000\"/>\n</g>\n<!-- 6 -->\n<g class=\"node\" id=\"node17\">\n<title>6</title>\n<polygon fill=\"none\" points=\"1212.5,-261 1034.5,-261 1034.5,-193 1212.5,-193 1212.5,-261\" stroke=\"#000000\"/>\n<text fill=\"#000000\" font-family=\"Helvetica,sans-Serif\" font-size=\"14.00\" text-anchor=\"middle\" x=\"1123.5\" y=\"-245.8\">battery_power &lt;= 1266.0</text>\n<text fill=\"#000000\" font-family=\"Helvetica,sans-Serif\" font-size=\"14.00\" text-anchor=\"middle\" x=\"1123.5\" y=\"-230.8\">entropy = 0.647</text>\n<text fill=\"#000000\" font-family=\"Helvetica,sans-Serif\" font-size=\"14.00\" text-anchor=\"middle\" x=\"1123.5\" y=\"-215.8\">samples = 393</text>\n<text fill=\"#000000\" font-family=\"Helvetica,sans-Serif\" font-size=\"14.00\" text-anchor=\"middle\" x=\"1123.5\" y=\"-200.8\">value = [0, 0, 65, 328]</text>\n</g>\n<!-- 2&#45;&gt;6 -->\n<g class=\"edge\" id=\"edge16\">\n<title>2-&gt;6</title>\n<path d=\"M939.672,-297.8078C966.9874,-287.2863 997.385,-275.5776 1025.4697,-264.7598\" fill=\"none\" stroke=\"#000000\"/>\n<polygon fill=\"#000000\" points=\"1026.8241,-267.9889 1034.8977,-261.1283 1024.3079,-261.4567 1026.8241,-267.9889\" stroke=\"#000000\"/>\n</g>\n<!-- 11 -->\n<g class=\"node\" id=\"node13\">\n<title>11</title>\n<polygon fill=\"none\" points=\"862.5,-157 684.5,-157 684.5,-89 862.5,-89 862.5,-157\" stroke=\"#000000\"/>\n<text fill=\"#000000\" font-family=\"Helvetica,sans-Serif\" font-size=\"14.00\" text-anchor=\"middle\" x=\"773.5\" y=\"-141.8\">battery_power &lt;= 1022.5</text>\n<text fill=\"#000000\" font-family=\"Helvetica,sans-Serif\" font-size=\"14.00\" text-anchor=\"middle\" x=\"773.5\" y=\"-126.8\">entropy = 0.99</text>\n<text fill=\"#000000\" font-family=\"Helvetica,sans-Serif\" font-size=\"14.00\" text-anchor=\"middle\" x=\"773.5\" y=\"-111.8\">samples = 257</text>\n<text fill=\"#000000\" font-family=\"Helvetica,sans-Serif\" font-size=\"14.00\" text-anchor=\"middle\" x=\"773.5\" y=\"-96.8\">value = [0, 47, 195, 15]</text>\n</g>\n<!-- 5&#45;&gt;11 -->\n<g class=\"edge\" id=\"edge12\">\n<title>5-&gt;11</title>\n<path d=\"M827.305,-192.9465C820.4675,-184.0578 813.0166,-174.3716 805.899,-165.1188\" fill=\"none\" stroke=\"#000000\"/>\n<polygon fill=\"#000000\" points=\"808.6252,-162.9223 799.7538,-157.13 803.0768,-167.1903 808.6252,-162.9223\" stroke=\"#000000\"/>\n</g>\n<!-- 12 -->\n<g class=\"node\" id=\"node16\">\n<title>12</title>\n<polygon fill=\"none\" points=\"1028,-149.5 881,-149.5 881,-96.5 1028,-96.5 1028,-149.5\" stroke=\"#000000\"/>\n<text fill=\"#000000\" font-family=\"Helvetica,sans-Serif\" font-size=\"14.00\" text-anchor=\"middle\" x=\"954.5\" y=\"-134.3\">entropy = 0.982</text>\n<text fill=\"#000000\" font-family=\"Helvetica,sans-Serif\" font-size=\"14.00\" text-anchor=\"middle\" x=\"954.5\" y=\"-119.3\">samples = 102</text>\n<text fill=\"#000000\" font-family=\"Helvetica,sans-Serif\" font-size=\"14.00\" text-anchor=\"middle\" x=\"954.5\" y=\"-104.3\">value = [0, 0, 59, 43]</text>\n</g>\n<!-- 5&#45;&gt;12 -->\n<g class=\"edge\" id=\"edge15\">\n<title>5-&gt;12</title>\n<path d=\"M886.5712,-192.9465C897.8032,-181.3809 910.3463,-168.4652 921.5675,-156.9107\" fill=\"none\" stroke=\"#000000\"/>\n<polygon fill=\"#000000\" points=\"924.2674,-159.1544 928.7235,-149.5422 919.2458,-154.2776 924.2674,-159.1544\" stroke=\"#000000\"/>\n</g>\n<!-- 17 -->\n<g class=\"node\" id=\"node14\">\n<title>17</title>\n<polygon fill=\"none\" points=\"758,-53 611,-53 611,0 758,0 758,-53\" stroke=\"#000000\"/>\n<text fill=\"#000000\" font-family=\"Helvetica,sans-Serif\" font-size=\"14.00\" text-anchor=\"middle\" x=\"684.5\" y=\"-37.8\">entropy = 0.977</text>\n<text fill=\"#000000\" font-family=\"Helvetica,sans-Serif\" font-size=\"14.00\" text-anchor=\"middle\" x=\"684.5\" y=\"-22.8\">samples = 100</text>\n<text fill=\"#000000\" font-family=\"Helvetica,sans-Serif\" font-size=\"14.00\" text-anchor=\"middle\" x=\"684.5\" y=\"-7.8\">value = [0, 41, 59, 0]</text>\n</g>\n<!-- 11&#45;&gt;17 -->\n<g class=\"edge\" id=\"edge13\">\n<title>11-&gt;17</title>\n<path d=\"M742.1219,-88.9777C733.6766,-79.8207 724.5389,-69.9129 716.0825,-60.744\" fill=\"none\" stroke=\"#000000\"/>\n<polygon fill=\"#000000\" points=\"718.5221,-58.2266 709.1696,-53.2485 713.3764,-62.9723 718.5221,-58.2266\" stroke=\"#000000\"/>\n</g>\n<!-- 18 -->\n<g class=\"node\" id=\"node15\">\n<title>18</title>\n<polygon fill=\"none\" points=\"931,-53 776,-53 776,0 931,0 931,-53\" stroke=\"#000000\"/>\n<text fill=\"#000000\" font-family=\"Helvetica,sans-Serif\" font-size=\"14.00\" text-anchor=\"middle\" x=\"853.5\" y=\"-37.8\">entropy = 0.683</text>\n<text fill=\"#000000\" font-family=\"Helvetica,sans-Serif\" font-size=\"14.00\" text-anchor=\"middle\" x=\"853.5\" y=\"-22.8\">samples = 157</text>\n<text fill=\"#000000\" font-family=\"Helvetica,sans-Serif\" font-size=\"14.00\" text-anchor=\"middle\" x=\"853.5\" y=\"-7.8\">value = [0, 6, 136, 15]</text>\n</g>\n<!-- 11&#45;&gt;18 -->\n<g class=\"edge\" id=\"edge14\">\n<title>11-&gt;18</title>\n<path d=\"M801.705,-88.9777C809.2204,-79.9123 817.3458,-70.111 824.883,-61.0192\" fill=\"none\" stroke=\"#000000\"/>\n<polygon fill=\"#000000\" points=\"827.6374,-63.1808 831.3251,-53.2485 822.2484,-58.7133 827.6374,-63.1808\" stroke=\"#000000\"/>\n</g>\n<!-- 13 -->\n<g class=\"node\" id=\"node18\">\n<title>13</title>\n<polygon fill=\"none\" points=\"1201,-149.5 1046,-149.5 1046,-96.5 1201,-96.5 1201,-149.5\" stroke=\"#000000\"/>\n<text fill=\"#000000\" font-family=\"Helvetica,sans-Serif\" font-size=\"14.00\" text-anchor=\"middle\" x=\"1123.5\" y=\"-134.3\">entropy = 0.909</text>\n<text fill=\"#000000\" font-family=\"Helvetica,sans-Serif\" font-size=\"14.00\" text-anchor=\"middle\" x=\"1123.5\" y=\"-119.3\">samples = 191</text>\n<text fill=\"#000000\" font-family=\"Helvetica,sans-Serif\" font-size=\"14.00\" text-anchor=\"middle\" x=\"1123.5\" y=\"-104.3\">value = [0, 0, 62, 129]</text>\n</g>\n<!-- 6&#45;&gt;13 -->\n<g class=\"edge\" id=\"edge17\">\n<title>6-&gt;13</title>\n<path d=\"M1123.5,-192.9465C1123.5,-182.2621 1123.5,-170.4254 1123.5,-159.5742\" fill=\"none\" stroke=\"#000000\"/>\n<polygon fill=\"#000000\" points=\"1127.0001,-159.5421 1123.5,-149.5422 1120.0001,-159.5422 1127.0001,-159.5421\" stroke=\"#000000\"/>\n</g>\n<!-- 14 -->\n<g class=\"node\" id=\"node19\">\n<title>14</title>\n<polygon fill=\"none\" points=\"1366,-149.5 1219,-149.5 1219,-96.5 1366,-96.5 1366,-149.5\" stroke=\"#000000\"/>\n<text fill=\"#000000\" font-family=\"Helvetica,sans-Serif\" font-size=\"14.00\" text-anchor=\"middle\" x=\"1292.5\" y=\"-134.3\">entropy = 0.111</text>\n<text fill=\"#000000\" font-family=\"Helvetica,sans-Serif\" font-size=\"14.00\" text-anchor=\"middle\" x=\"1292.5\" y=\"-119.3\">samples = 202</text>\n<text fill=\"#000000\" font-family=\"Helvetica,sans-Serif\" font-size=\"14.00\" text-anchor=\"middle\" x=\"1292.5\" y=\"-104.3\">value = [0, 0, 3, 199]</text>\n</g>\n<!-- 6&#45;&gt;14 -->\n<g class=\"edge\" id=\"edge18\">\n<title>6-&gt;14</title>\n<path d=\"M1178.8369,-192.9465C1198.7051,-180.72 1221.0249,-166.9847 1240.5914,-154.9437\" fill=\"none\" stroke=\"#000000\"/>\n<polygon fill=\"#000000\" points=\"1242.6867,-157.764 1249.369,-149.5422 1239.018,-151.8024 1242.6867,-157.764\" stroke=\"#000000\"/>\n</g>\n</g>\n</svg>"
          },
          "metadata": {}
        }
      ],
      "source": [
        "graph = Source(tree.export_graphviz(price_classifier_dt, out_file=None\n",
        "   , feature_names=X_train.columns))\n",
        "display(SVG(graph.pipe(format='svg')))"
      ]
    },
    {
      "cell_type": "code",
      "source": [
        "#decision tree classifier evaluation metrics\n",
        "print(metrics.classification_report(y_predicted_dt, y_test))"
      ],
      "metadata": {
        "colab": {
          "base_uri": "https://localhost:8080/"
        },
        "id": "0f32qorfMTXJ",
        "outputId": "4e4822ee-5eb6-4235-d9cf-5a069eddb98c"
      },
      "execution_count": 51,
      "outputs": [
        {
          "output_type": "stream",
          "name": "stdout",
          "text": [
            "              precision    recall  f1-score   support\n",
            "\n",
            "           0       0.95      0.90      0.92       100\n",
            "           1       0.73      0.69      0.71        97\n",
            "           2       0.52      0.67      0.58        76\n",
            "           3       0.91      0.82      0.86       127\n",
            "\n",
            "    accuracy                           0.78       400\n",
            "   macro avg       0.78      0.77      0.77       400\n",
            "weighted avg       0.80      0.78      0.79       400\n",
            "\n"
          ]
        }
      ]
    },
    {
      "cell_type": "markdown",
      "source": [
        "# ***Random forest classifier ***"
      ],
      "metadata": {
        "id": "MMPem-SuzmYG"
      }
    },
    {
      "cell_type": "code",
      "execution_count": 52,
      "metadata": {
        "id": "sbDUyyuSROMU"
      },
      "outputs": [],
      "source": [
        "from sklearn.ensemble import RandomForestClassifier\n",
        "from sklearn.ensemble import GradientBoostingClassifier\n",
        "from sklearn.model_selection import GridSearchCV"
      ]
    },
    {
      "cell_type": "code",
      "execution_count": 53,
      "metadata": {
        "colab": {
          "base_uri": "https://localhost:8080/"
        },
        "id": "bZk7yVs8V6tV",
        "outputId": "9d03924e-7bf0-4e7d-c74b-512f17666a8d"
      },
      "outputs": [
        {
          "output_type": "execute_result",
          "data": {
            "text/plain": [
              "RandomForestClassifier()"
            ]
          },
          "metadata": {},
          "execution_count": 53
        }
      ],
      "source": [
        "rf=RandomForestClassifier(n_estimators = 100)\n",
        "rf.fit(X_train, y_train)\n"
      ]
    },
    {
      "cell_type": "code",
      "execution_count": 54,
      "metadata": {
        "id": "OTHROMcnWJk4"
      },
      "outputs": [],
      "source": [
        "train_preds_rf =  rf.predict(X_train)\n",
        "test_preds_rf  = rf.predict(X_test)"
      ]
    },
    {
      "cell_type": "code",
      "execution_count": 55,
      "metadata": {
        "colab": {
          "base_uri": "https://localhost:8080/"
        },
        "id": "WfPeXMueWQIT",
        "outputId": "6d54a4eb-4b5c-4c2e-d351-9e19172eb7e9"
      },
      "outputs": [
        {
          "output_type": "execute_result",
          "data": {
            "text/plain": [
              "1.0"
            ]
          },
          "metadata": {},
          "execution_count": 55
        }
      ],
      "source": [
        "# Obtain accuracy on train set\n",
        "accuracy_score(y_train,train_preds_rf)"
      ]
    },
    {
      "cell_type": "code",
      "execution_count": 56,
      "metadata": {
        "colab": {
          "base_uri": "https://localhost:8080/"
        },
        "id": "Lz4LkC8SPOQT",
        "outputId": "d303af2d-192d-4bad-e9e1-17a5adcab04e"
      },
      "outputs": [
        {
          "output_type": "execute_result",
          "data": {
            "text/plain": [
              "0.88"
            ]
          },
          "metadata": {},
          "execution_count": 56
        }
      ],
      "source": [
        "# Obtain accuracy on testing set\n",
        "accuracy_score(y_test,test_preds_rf)"
      ]
    },
    {
      "cell_type": "code",
      "execution_count": 57,
      "metadata": {
        "id": "etvQTW_1YzzI"
      },
      "outputs": [],
      "source": [
        "from sklearn.metrics import roc_auc_score, confusion_matrix, accuracy_score"
      ]
    },
    {
      "cell_type": "code",
      "execution_count": 58,
      "metadata": {
        "id": "JfiD96BEOX5r"
      },
      "outputs": [],
      "source": [
        "y_pred_rf = rf.predict(X_test)\n",
        "y_pred_train_rf = rf.predict(X_train)"
      ]
    },
    {
      "cell_type": "code",
      "execution_count": 59,
      "metadata": {
        "colab": {
          "base_uri": "https://localhost:8080/"
        },
        "id": "A8WukjD1ZNE4",
        "outputId": "4d4909dd-ede5-4b66-e3db-4406aa83cbc3"
      },
      "outputs": [
        {
          "output_type": "stream",
          "name": "stdout",
          "text": [
            "              precision    recall  f1-score   support\n",
            "\n",
            "           0       0.98      0.94      0.96        99\n",
            "           1       0.80      0.85      0.83        87\n",
            "           2       0.78      0.81      0.79        95\n",
            "           3       0.95      0.91      0.93       119\n",
            "\n",
            "    accuracy                           0.88       400\n",
            "   macro avg       0.88      0.88      0.88       400\n",
            "weighted avg       0.88      0.88      0.88       400\n",
            "\n"
          ]
        }
      ],
      "source": [
        "#random forest classifier evaluation metrics \n",
        "print(metrics.classification_report(y_pred_rf, y_test))"
      ]
    },
    {
      "cell_type": "code",
      "source": [
        "rf.feature_importances_"
      ],
      "metadata": {
        "colab": {
          "base_uri": "https://localhost:8080/"
        },
        "id": "42HVzlCWQc72",
        "outputId": "d1fd06e7-9587-42c1-80f3-9adbf3f32aa6"
      },
      "execution_count": 110,
      "outputs": [
        {
          "output_type": "execute_result",
          "data": {
            "text/plain": [
              "array([0.08499632, 0.0073678 , 0.02843509, 0.00658366, 0.00669156,\n",
              "       0.03886608, 0.02496683, 0.04165283, 0.02223999, 0.03086121,\n",
              "       0.54112648, 0.03202229, 0.00679795, 0.00645098, 0.08186645,\n",
              "       0.03907449])"
            ]
          },
          "metadata": {},
          "execution_count": 110
        }
      ]
    },
    {
      "cell_type": "code",
      "source": [
        "#finding important factors \n",
        "importances = rf.feature_importances_\n",
        "\n",
        "importance_dict = {'Feature' : list(X_train.columns),\n",
        "                   'Feature Importance' : importances}"
      ],
      "metadata": {
        "id": "k6Zse3qaQlKR"
      },
      "execution_count": 113,
      "outputs": []
    },
    {
      "cell_type": "code",
      "source": [
        "importance_df = pd.DataFrame(importance_dict)"
      ],
      "metadata": {
        "id": "Zbat06IQRAJ_"
      },
      "execution_count": 115,
      "outputs": []
    },
    {
      "cell_type": "code",
      "source": [
        "descending_importance_df=importance_df.sort_values('Feature Importance',ascending=True)\n",
        "descending_importance_df"
      ],
      "metadata": {
        "colab": {
          "base_uri": "https://localhost:8080/",
          "height": 551
        },
        "id": "5WtKZUt1Qz0T",
        "outputId": "56325c47-1514-4b97-8c96-cd048b3add70"
      },
      "execution_count": 132,
      "outputs": [
        {
          "output_type": "execute_result",
          "data": {
            "text/plain": [
              "          Feature  Feature Importance\n",
              "13           wifi            0.006451\n",
              "3        dual_sim            0.006584\n",
              "4          four_g            0.006692\n",
              "12   touch_screen            0.006798\n",
              "1            blue            0.007368\n",
              "8         n_cores            0.022240\n",
              "6           m_dep            0.024967\n",
              "2     clock_speed            0.028435\n",
              "9              pc            0.030861\n",
              "11      talk_time            0.032022\n",
              "5      int_memory            0.038866\n",
              "15        sc_area            0.039074\n",
              "7       mobile_wt            0.041653\n",
              "14        px_area            0.081866\n",
              "0   battery_power            0.084996\n",
              "10            ram            0.541126"
            ],
            "text/html": [
              "\n",
              "  <div id=\"df-be54e2bd-801a-4e80-bf5b-ac88283b6eb3\">\n",
              "    <div class=\"colab-df-container\">\n",
              "      <div>\n",
              "<style scoped>\n",
              "    .dataframe tbody tr th:only-of-type {\n",
              "        vertical-align: middle;\n",
              "    }\n",
              "\n",
              "    .dataframe tbody tr th {\n",
              "        vertical-align: top;\n",
              "    }\n",
              "\n",
              "    .dataframe thead th {\n",
              "        text-align: right;\n",
              "    }\n",
              "</style>\n",
              "<table border=\"1\" class=\"dataframe\">\n",
              "  <thead>\n",
              "    <tr style=\"text-align: right;\">\n",
              "      <th></th>\n",
              "      <th>Feature</th>\n",
              "      <th>Feature Importance</th>\n",
              "    </tr>\n",
              "  </thead>\n",
              "  <tbody>\n",
              "    <tr>\n",
              "      <th>13</th>\n",
              "      <td>wifi</td>\n",
              "      <td>0.006451</td>\n",
              "    </tr>\n",
              "    <tr>\n",
              "      <th>3</th>\n",
              "      <td>dual_sim</td>\n",
              "      <td>0.006584</td>\n",
              "    </tr>\n",
              "    <tr>\n",
              "      <th>4</th>\n",
              "      <td>four_g</td>\n",
              "      <td>0.006692</td>\n",
              "    </tr>\n",
              "    <tr>\n",
              "      <th>12</th>\n",
              "      <td>touch_screen</td>\n",
              "      <td>0.006798</td>\n",
              "    </tr>\n",
              "    <tr>\n",
              "      <th>1</th>\n",
              "      <td>blue</td>\n",
              "      <td>0.007368</td>\n",
              "    </tr>\n",
              "    <tr>\n",
              "      <th>8</th>\n",
              "      <td>n_cores</td>\n",
              "      <td>0.022240</td>\n",
              "    </tr>\n",
              "    <tr>\n",
              "      <th>6</th>\n",
              "      <td>m_dep</td>\n",
              "      <td>0.024967</td>\n",
              "    </tr>\n",
              "    <tr>\n",
              "      <th>2</th>\n",
              "      <td>clock_speed</td>\n",
              "      <td>0.028435</td>\n",
              "    </tr>\n",
              "    <tr>\n",
              "      <th>9</th>\n",
              "      <td>pc</td>\n",
              "      <td>0.030861</td>\n",
              "    </tr>\n",
              "    <tr>\n",
              "      <th>11</th>\n",
              "      <td>talk_time</td>\n",
              "      <td>0.032022</td>\n",
              "    </tr>\n",
              "    <tr>\n",
              "      <th>5</th>\n",
              "      <td>int_memory</td>\n",
              "      <td>0.038866</td>\n",
              "    </tr>\n",
              "    <tr>\n",
              "      <th>15</th>\n",
              "      <td>sc_area</td>\n",
              "      <td>0.039074</td>\n",
              "    </tr>\n",
              "    <tr>\n",
              "      <th>7</th>\n",
              "      <td>mobile_wt</td>\n",
              "      <td>0.041653</td>\n",
              "    </tr>\n",
              "    <tr>\n",
              "      <th>14</th>\n",
              "      <td>px_area</td>\n",
              "      <td>0.081866</td>\n",
              "    </tr>\n",
              "    <tr>\n",
              "      <th>0</th>\n",
              "      <td>battery_power</td>\n",
              "      <td>0.084996</td>\n",
              "    </tr>\n",
              "    <tr>\n",
              "      <th>10</th>\n",
              "      <td>ram</td>\n",
              "      <td>0.541126</td>\n",
              "    </tr>\n",
              "  </tbody>\n",
              "</table>\n",
              "</div>\n",
              "      <button class=\"colab-df-convert\" onclick=\"convertToInteractive('df-be54e2bd-801a-4e80-bf5b-ac88283b6eb3')\"\n",
              "              title=\"Convert this dataframe to an interactive table.\"\n",
              "              style=\"display:none;\">\n",
              "        \n",
              "  <svg xmlns=\"http://www.w3.org/2000/svg\" height=\"24px\"viewBox=\"0 0 24 24\"\n",
              "       width=\"24px\">\n",
              "    <path d=\"M0 0h24v24H0V0z\" fill=\"none\"/>\n",
              "    <path d=\"M18.56 5.44l.94 2.06.94-2.06 2.06-.94-2.06-.94-.94-2.06-.94 2.06-2.06.94zm-11 1L8.5 8.5l.94-2.06 2.06-.94-2.06-.94L8.5 2.5l-.94 2.06-2.06.94zm10 10l.94 2.06.94-2.06 2.06-.94-2.06-.94-.94-2.06-.94 2.06-2.06.94z\"/><path d=\"M17.41 7.96l-1.37-1.37c-.4-.4-.92-.59-1.43-.59-.52 0-1.04.2-1.43.59L10.3 9.45l-7.72 7.72c-.78.78-.78 2.05 0 2.83L4 21.41c.39.39.9.59 1.41.59.51 0 1.02-.2 1.41-.59l7.78-7.78 2.81-2.81c.8-.78.8-2.07 0-2.86zM5.41 20L4 18.59l7.72-7.72 1.47 1.35L5.41 20z\"/>\n",
              "  </svg>\n",
              "      </button>\n",
              "      \n",
              "  <style>\n",
              "    .colab-df-container {\n",
              "      display:flex;\n",
              "      flex-wrap:wrap;\n",
              "      gap: 12px;\n",
              "    }\n",
              "\n",
              "    .colab-df-convert {\n",
              "      background-color: #E8F0FE;\n",
              "      border: none;\n",
              "      border-radius: 50%;\n",
              "      cursor: pointer;\n",
              "      display: none;\n",
              "      fill: #1967D2;\n",
              "      height: 32px;\n",
              "      padding: 0 0 0 0;\n",
              "      width: 32px;\n",
              "    }\n",
              "\n",
              "    .colab-df-convert:hover {\n",
              "      background-color: #E2EBFA;\n",
              "      box-shadow: 0px 1px 2px rgba(60, 64, 67, 0.3), 0px 1px 3px 1px rgba(60, 64, 67, 0.15);\n",
              "      fill: #174EA6;\n",
              "    }\n",
              "\n",
              "    [theme=dark] .colab-df-convert {\n",
              "      background-color: #3B4455;\n",
              "      fill: #D2E3FC;\n",
              "    }\n",
              "\n",
              "    [theme=dark] .colab-df-convert:hover {\n",
              "      background-color: #434B5C;\n",
              "      box-shadow: 0px 1px 3px 1px rgba(0, 0, 0, 0.15);\n",
              "      filter: drop-shadow(0px 1px 2px rgba(0, 0, 0, 0.3));\n",
              "      fill: #FFFFFF;\n",
              "    }\n",
              "  </style>\n",
              "\n",
              "      <script>\n",
              "        const buttonEl =\n",
              "          document.querySelector('#df-be54e2bd-801a-4e80-bf5b-ac88283b6eb3 button.colab-df-convert');\n",
              "        buttonEl.style.display =\n",
              "          google.colab.kernel.accessAllowed ? 'block' : 'none';\n",
              "\n",
              "        async function convertToInteractive(key) {\n",
              "          const element = document.querySelector('#df-be54e2bd-801a-4e80-bf5b-ac88283b6eb3');\n",
              "          const dataTable =\n",
              "            await google.colab.kernel.invokeFunction('convertToInteractive',\n",
              "                                                     [key], {});\n",
              "          if (!dataTable) return;\n",
              "\n",
              "          const docLinkHtml = 'Like what you see? Visit the ' +\n",
              "            '<a target=\"_blank\" href=https://colab.research.google.com/notebooks/data_table.ipynb>data table notebook</a>'\n",
              "            + ' to learn more about interactive tables.';\n",
              "          element.innerHTML = '';\n",
              "          dataTable['output_type'] = 'display_data';\n",
              "          await google.colab.output.renderOutput(dataTable, element);\n",
              "          const docLink = document.createElement('div');\n",
              "          docLink.innerHTML = docLinkHtml;\n",
              "          element.appendChild(docLink);\n",
              "        }\n",
              "      </script>\n",
              "    </div>\n",
              "  </div>\n",
              "  "
            ]
          },
          "metadata": {},
          "execution_count": 132
        }
      ]
    },
    {
      "cell_type": "code",
      "source": [
        "plt.barh('Feature','Feature Importance',data=descending_importance_df)"
      ],
      "metadata": {
        "colab": {
          "base_uri": "https://localhost:8080/",
          "height": 282
        },
        "id": "u2HOgBttRD-o",
        "outputId": "6ad3c7ca-2df9-4e7a-c179-040f6d1c6db8"
      },
      "execution_count": 133,
      "outputs": [
        {
          "output_type": "execute_result",
          "data": {
            "text/plain": [
              "<BarContainer object of 16 artists>"
            ]
          },
          "metadata": {},
          "execution_count": 133
        },
        {
          "output_type": "display_data",
          "data": {
            "text/plain": [
              "<Figure size 432x288 with 1 Axes>"
            ],
            "image/png": "[encoded data removed]"
          },
          "metadata": {
            "needs_background": "light"
          }
        }
      ]
    },
    {
      "cell_type": "code",
      "execution_count": 60,
      "metadata": {
        "id": "B6xJFrrGVPmN",
        "colab": {
          "base_uri": "https://localhost:8080/"
        },
        "outputId": "6f408169-482b-473d-8450-93fe08f65fcd"
      },
      "outputs": [
        {
          "output_type": "stream",
          "name": "stderr",
          "text": [
            "/usr/local/lib/python3.7/dist-packages/sklearn/model_selection/_validation.py:774: UserWarning: Scoring failed. The score on this train-test partition for these parameters will be set to nan. Details: \n",
            "Traceback (most recent call last):\n",
            "  File \"/usr/local/lib/python3.7/dist-packages/sklearn/model_selection/_validation.py\", line 761, in _score\n",
            "    scores = scorer(estimator, X_test, y_test)\n",
            "  File \"/usr/local/lib/python3.7/dist-packages/sklearn/metrics/_scorer.py\", line 221, in __call__\n",
            "    sample_weight=sample_weight,\n",
            "  File \"/usr/local/lib/python3.7/dist-packages/sklearn/metrics/_scorer.py\", line 349, in _score\n",
            "    raise ValueError(\"{0} format is not supported\".format(y_type))\n",
            "ValueError: multiclass format is not supported\n",
            "\n",
            "  UserWarning,\n",
            "/usr/local/lib/python3.7/dist-packages/sklearn/model_selection/_validation.py:774: UserWarning: Scoring failed. The score on this train-test partition for these parameters will be set to nan. Details: \n",
            "Traceback (most recent call last):\n",
            "  File \"/usr/local/lib/python3.7/dist-packages/sklearn/model_selection/_validation.py\", line 761, in _score\n",
            "    scores = scorer(estimator, X_test, y_test)\n",
            "  File \"/usr/local/lib/python3.7/dist-packages/sklearn/metrics/_scorer.py\", line 221, in __call__\n",
            "    sample_weight=sample_weight,\n",
            "  File \"/usr/local/lib/python3.7/dist-packages/sklearn/metrics/_scorer.py\", line 349, in _score\n",
            "    raise ValueError(\"{0} format is not supported\".format(y_type))\n",
            "ValueError: multiclass format is not supported\n",
            "\n",
            "  UserWarning,\n",
            "/usr/local/lib/python3.7/dist-packages/sklearn/model_selection/_validation.py:774: UserWarning: Scoring failed. The score on this train-test partition for these parameters will be set to nan. Details: \n",
            "Traceback (most recent call last):\n",
            "  File \"/usr/local/lib/python3.7/dist-packages/sklearn/model_selection/_validation.py\", line 761, in _score\n",
            "    scores = scorer(estimator, X_test, y_test)\n",
            "  File \"/usr/local/lib/python3.7/dist-packages/sklearn/metrics/_scorer.py\", line 221, in __call__\n",
            "    sample_weight=sample_weight,\n",
            "  File \"/usr/local/lib/python3.7/dist-packages/sklearn/metrics/_scorer.py\", line 349, in _score\n",
            "    raise ValueError(\"{0} format is not supported\".format(y_type))\n",
            "ValueError: multiclass format is not supported\n",
            "\n",
            "  UserWarning,\n",
            "/usr/local/lib/python3.7/dist-packages/sklearn/model_selection/_validation.py:774: UserWarning: Scoring failed. The score on this train-test partition for these parameters will be set to nan. Details: \n",
            "Traceback (most recent call last):\n",
            "  File \"/usr/local/lib/python3.7/dist-packages/sklearn/model_selection/_validation.py\", line 761, in _score\n",
            "    scores = scorer(estimator, X_test, y_test)\n",
            "  File \"/usr/local/lib/python3.7/dist-packages/sklearn/metrics/_scorer.py\", line 221, in __call__\n",
            "    sample_weight=sample_weight,\n",
            "  File \"/usr/local/lib/python3.7/dist-packages/sklearn/metrics/_scorer.py\", line 349, in _score\n",
            "    raise ValueError(\"{0} format is not supported\".format(y_type))\n",
            "ValueError: multiclass format is not supported\n",
            "\n",
            "  UserWarning,\n",
            "/usr/local/lib/python3.7/dist-packages/sklearn/model_selection/_validation.py:774: UserWarning: Scoring failed. The score on this train-test partition for these parameters will be set to nan. Details: \n",
            "Traceback (most recent call last):\n",
            "  File \"/usr/local/lib/python3.7/dist-packages/sklearn/model_selection/_validation.py\", line 761, in _score\n",
            "    scores = scorer(estimator, X_test, y_test)\n",
            "  File \"/usr/local/lib/python3.7/dist-packages/sklearn/metrics/_scorer.py\", line 221, in __call__\n",
            "    sample_weight=sample_weight,\n",
            "  File \"/usr/local/lib/python3.7/dist-packages/sklearn/metrics/_scorer.py\", line 349, in _score\n",
            "    raise ValueError(\"{0} format is not supported\".format(y_type))\n",
            "ValueError: multiclass format is not supported\n",
            "\n",
            "  UserWarning,\n",
            "/usr/local/lib/python3.7/dist-packages/sklearn/model_selection/_validation.py:774: UserWarning: Scoring failed. The score on this train-test partition for these parameters will be set to nan. Details: \n",
            "Traceback (most recent call last):\n",
            "  File \"/usr/local/lib/python3.7/dist-packages/sklearn/model_selection/_validation.py\", line 761, in _score\n",
            "    scores = scorer(estimator, X_test, y_test)\n",
            "  File \"/usr/local/lib/python3.7/dist-packages/sklearn/metrics/_scorer.py\", line 221, in __call__\n",
            "    sample_weight=sample_weight,\n",
            "  File \"/usr/local/lib/python3.7/dist-packages/sklearn/metrics/_scorer.py\", line 349, in _score\n",
            "    raise ValueError(\"{0} format is not supported\".format(y_type))\n",
            "ValueError: multiclass format is not supported\n",
            "\n",
            "  UserWarning,\n",
            "/usr/local/lib/python3.7/dist-packages/sklearn/model_selection/_validation.py:774: UserWarning: Scoring failed. The score on this train-test partition for these parameters will be set to nan. Details: \n",
            "Traceback (most recent call last):\n",
            "  File \"/usr/local/lib/python3.7/dist-packages/sklearn/model_selection/_validation.py\", line 761, in _score\n",
            "    scores = scorer(estimator, X_test, y_test)\n",
            "  File \"/usr/local/lib/python3.7/dist-packages/sklearn/metrics/_scorer.py\", line 221, in __call__\n",
            "    sample_weight=sample_weight,\n",
            "  File \"/usr/local/lib/python3.7/dist-packages/sklearn/metrics/_scorer.py\", line 349, in _score\n",
            "    raise ValueError(\"{0} format is not supported\".format(y_type))\n",
            "ValueError: multiclass format is not supported\n",
            "\n",
            "  UserWarning,\n",
            "/usr/local/lib/python3.7/dist-packages/sklearn/model_selection/_validation.py:774: UserWarning: Scoring failed. The score on this train-test partition for these parameters will be set to nan. Details: \n",
            "Traceback (most recent call last):\n",
            "  File \"/usr/local/lib/python3.7/dist-packages/sklearn/model_selection/_validation.py\", line 761, in _score\n",
            "    scores = scorer(estimator, X_test, y_test)\n",
            "  File \"/usr/local/lib/python3.7/dist-packages/sklearn/metrics/_scorer.py\", line 221, in __call__\n",
            "    sample_weight=sample_weight,\n",
            "  File \"/usr/local/lib/python3.7/dist-packages/sklearn/metrics/_scorer.py\", line 349, in _score\n",
            "    raise ValueError(\"{0} format is not supported\".format(y_type))\n",
            "ValueError: multiclass format is not supported\n",
            "\n",
            "  UserWarning,\n",
            "/usr/local/lib/python3.7/dist-packages/sklearn/model_selection/_validation.py:774: UserWarning: Scoring failed. The score on this train-test partition for these parameters will be set to nan. Details: \n",
            "Traceback (most recent call last):\n",
            "  File \"/usr/local/lib/python3.7/dist-packages/sklearn/model_selection/_validation.py\", line 761, in _score\n",
            "    scores = scorer(estimator, X_test, y_test)\n",
            "  File \"/usr/local/lib/python3.7/dist-packages/sklearn/metrics/_scorer.py\", line 221, in __call__\n",
            "    sample_weight=sample_weight,\n",
            "  File \"/usr/local/lib/python3.7/dist-packages/sklearn/metrics/_scorer.py\", line 349, in _score\n",
            "    raise ValueError(\"{0} format is not supported\".format(y_type))\n",
            "ValueError: multiclass format is not supported\n",
            "\n",
            "  UserWarning,\n",
            "/usr/local/lib/python3.7/dist-packages/sklearn/model_selection/_validation.py:774: UserWarning: Scoring failed. The score on this train-test partition for these parameters will be set to nan. Details: \n",
            "Traceback (most recent call last):\n",
            "  File \"/usr/local/lib/python3.7/dist-packages/sklearn/model_selection/_validation.py\", line 761, in _score\n",
            "    scores = scorer(estimator, X_test, y_test)\n",
            "  File \"/usr/local/lib/python3.7/dist-packages/sklearn/metrics/_scorer.py\", line 221, in __call__\n",
            "    sample_weight=sample_weight,\n",
            "  File \"/usr/local/lib/python3.7/dist-packages/sklearn/metrics/_scorer.py\", line 349, in _score\n",
            "    raise ValueError(\"{0} format is not supported\".format(y_type))\n",
            "ValueError: multiclass format is not supported\n",
            "\n",
            "  UserWarning,\n",
            "/usr/local/lib/python3.7/dist-packages/sklearn/model_selection/_validation.py:774: UserWarning: Scoring failed. The score on this train-test partition for these parameters will be set to nan. Details: \n",
            "Traceback (most recent call last):\n",
            "  File \"/usr/local/lib/python3.7/dist-packages/sklearn/model_selection/_validation.py\", line 761, in _score\n",
            "    scores = scorer(estimator, X_test, y_test)\n",
            "  File \"/usr/local/lib/python3.7/dist-packages/sklearn/metrics/_scorer.py\", line 221, in __call__\n",
            "    sample_weight=sample_weight,\n",
            "  File \"/usr/local/lib/python3.7/dist-packages/sklearn/metrics/_scorer.py\", line 349, in _score\n",
            "    raise ValueError(\"{0} format is not supported\".format(y_type))\n",
            "ValueError: multiclass format is not supported\n",
            "\n",
            "  UserWarning,\n",
            "/usr/local/lib/python3.7/dist-packages/sklearn/model_selection/_validation.py:774: UserWarning: Scoring failed. The score on this train-test partition for these parameters will be set to nan. Details: \n",
            "Traceback (most recent call last):\n",
            "  File \"/usr/local/lib/python3.7/dist-packages/sklearn/model_selection/_validation.py\", line 761, in _score\n",
            "    scores = scorer(estimator, X_test, y_test)\n",
            "  File \"/usr/local/lib/python3.7/dist-packages/sklearn/metrics/_scorer.py\", line 221, in __call__\n",
            "    sample_weight=sample_weight,\n",
            "  File \"/usr/local/lib/python3.7/dist-packages/sklearn/metrics/_scorer.py\", line 349, in _score\n",
            "    raise ValueError(\"{0} format is not supported\".format(y_type))\n",
            "ValueError: multiclass format is not supported\n",
            "\n",
            "  UserWarning,\n",
            "/usr/local/lib/python3.7/dist-packages/sklearn/model_selection/_validation.py:774: UserWarning: Scoring failed. The score on this train-test partition for these parameters will be set to nan. Details: \n",
            "Traceback (most recent call last):\n",
            "  File \"/usr/local/lib/python3.7/dist-packages/sklearn/model_selection/_validation.py\", line 761, in _score\n",
            "    scores = scorer(estimator, X_test, y_test)\n",
            "  File \"/usr/local/lib/python3.7/dist-packages/sklearn/metrics/_scorer.py\", line 221, in __call__\n",
            "    sample_weight=sample_weight,\n",
            "  File \"/usr/local/lib/python3.7/dist-packages/sklearn/metrics/_scorer.py\", line 349, in _score\n",
            "    raise ValueError(\"{0} format is not supported\".format(y_type))\n",
            "ValueError: multiclass format is not supported\n",
            "\n",
            "  UserWarning,\n",
            "/usr/local/lib/python3.7/dist-packages/sklearn/model_selection/_validation.py:774: UserWarning: Scoring failed. The score on this train-test partition for these parameters will be set to nan. Details: \n",
            "Traceback (most recent call last):\n",
            "  File \"/usr/local/lib/python3.7/dist-packages/sklearn/model_selection/_validation.py\", line 761, in _score\n",
            "    scores = scorer(estimator, X_test, y_test)\n",
            "  File \"/usr/local/lib/python3.7/dist-packages/sklearn/metrics/_scorer.py\", line 221, in __call__\n",
            "    sample_weight=sample_weight,\n",
            "  File \"/usr/local/lib/python3.7/dist-packages/sklearn/metrics/_scorer.py\", line 349, in _score\n",
            "    raise ValueError(\"{0} format is not supported\".format(y_type))\n",
            "ValueError: multiclass format is not supported\n",
            "\n",
            "  UserWarning,\n",
            "/usr/local/lib/python3.7/dist-packages/sklearn/model_selection/_validation.py:774: UserWarning: Scoring failed. The score on this train-test partition for these parameters will be set to nan. Details: \n",
            "Traceback (most recent call last):\n",
            "  File \"/usr/local/lib/python3.7/dist-packages/sklearn/model_selection/_validation.py\", line 761, in _score\n",
            "    scores = scorer(estimator, X_test, y_test)\n",
            "  File \"/usr/local/lib/python3.7/dist-packages/sklearn/metrics/_scorer.py\", line 221, in __call__\n",
            "    sample_weight=sample_weight,\n",
            "  File \"/usr/local/lib/python3.7/dist-packages/sklearn/metrics/_scorer.py\", line 349, in _score\n",
            "    raise ValueError(\"{0} format is not supported\".format(y_type))\n",
            "ValueError: multiclass format is not supported\n",
            "\n",
            "  UserWarning,\n",
            "/usr/local/lib/python3.7/dist-packages/sklearn/model_selection/_validation.py:774: UserWarning: Scoring failed. The score on this train-test partition for these parameters will be set to nan. Details: \n",
            "Traceback (most recent call last):\n",
            "  File \"/usr/local/lib/python3.7/dist-packages/sklearn/model_selection/_validation.py\", line 761, in _score\n",
            "    scores = scorer(estimator, X_test, y_test)\n",
            "  File \"/usr/local/lib/python3.7/dist-packages/sklearn/metrics/_scorer.py\", line 221, in __call__\n",
            "    sample_weight=sample_weight,\n",
            "  File \"/usr/local/lib/python3.7/dist-packages/sklearn/metrics/_scorer.py\", line 349, in _score\n",
            "    raise ValueError(\"{0} format is not supported\".format(y_type))\n",
            "ValueError: multiclass format is not supported\n",
            "\n",
            "  UserWarning,\n",
            "/usr/local/lib/python3.7/dist-packages/sklearn/model_selection/_validation.py:774: UserWarning: Scoring failed. The score on this train-test partition for these parameters will be set to nan. Details: \n",
            "Traceback (most recent call last):\n",
            "  File \"/usr/local/lib/python3.7/dist-packages/sklearn/model_selection/_validation.py\", line 761, in _score\n",
            "    scores = scorer(estimator, X_test, y_test)\n",
            "  File \"/usr/local/lib/python3.7/dist-packages/sklearn/metrics/_scorer.py\", line 221, in __call__\n",
            "    sample_weight=sample_weight,\n",
            "  File \"/usr/local/lib/python3.7/dist-packages/sklearn/metrics/_scorer.py\", line 349, in _score\n",
            "    raise ValueError(\"{0} format is not supported\".format(y_type))\n",
            "ValueError: multiclass format is not supported\n",
            "\n",
            "  UserWarning,\n",
            "/usr/local/lib/python3.7/dist-packages/sklearn/model_selection/_validation.py:774: UserWarning: Scoring failed. The score on this train-test partition for these parameters will be set to nan. Details: \n",
            "Traceback (most recent call last):\n",
            "  File \"/usr/local/lib/python3.7/dist-packages/sklearn/model_selection/_validation.py\", line 761, in _score\n",
            "    scores = scorer(estimator, X_test, y_test)\n",
            "  File \"/usr/local/lib/python3.7/dist-packages/sklearn/metrics/_scorer.py\", line 221, in __call__\n",
            "    sample_weight=sample_weight,\n",
            "  File \"/usr/local/lib/python3.7/dist-packages/sklearn/metrics/_scorer.py\", line 349, in _score\n",
            "    raise ValueError(\"{0} format is not supported\".format(y_type))\n",
            "ValueError: multiclass format is not supported\n",
            "\n",
            "  UserWarning,\n",
            "/usr/local/lib/python3.7/dist-packages/sklearn/model_selection/_validation.py:774: UserWarning: Scoring failed. The score on this train-test partition for these parameters will be set to nan. Details: \n",
            "Traceback (most recent call last):\n",
            "  File \"/usr/local/lib/python3.7/dist-packages/sklearn/model_selection/_validation.py\", line 761, in _score\n",
            "    scores = scorer(estimator, X_test, y_test)\n",
            "  File \"/usr/local/lib/python3.7/dist-packages/sklearn/metrics/_scorer.py\", line 221, in __call__\n",
            "    sample_weight=sample_weight,\n",
            "  File \"/usr/local/lib/python3.7/dist-packages/sklearn/metrics/_scorer.py\", line 349, in _score\n",
            "    raise ValueError(\"{0} format is not supported\".format(y_type))\n",
            "ValueError: multiclass format is not supported\n",
            "\n",
            "  UserWarning,\n",
            "/usr/local/lib/python3.7/dist-packages/sklearn/model_selection/_validation.py:774: UserWarning: Scoring failed. The score on this train-test partition for these parameters will be set to nan. Details: \n",
            "Traceback (most recent call last):\n",
            "  File \"/usr/local/lib/python3.7/dist-packages/sklearn/model_selection/_validation.py\", line 761, in _score\n",
            "    scores = scorer(estimator, X_test, y_test)\n",
            "  File \"/usr/local/lib/python3.7/dist-packages/sklearn/metrics/_scorer.py\", line 221, in __call__\n",
            "    sample_weight=sample_weight,\n",
            "  File \"/usr/local/lib/python3.7/dist-packages/sklearn/metrics/_scorer.py\", line 349, in _score\n",
            "    raise ValueError(\"{0} format is not supported\".format(y_type))\n",
            "ValueError: multiclass format is not supported\n",
            "\n",
            "  UserWarning,\n",
            "/usr/local/lib/python3.7/dist-packages/sklearn/model_selection/_validation.py:774: UserWarning: Scoring failed. The score on this train-test partition for these parameters will be set to nan. Details: \n",
            "Traceback (most recent call last):\n",
            "  File \"/usr/local/lib/python3.7/dist-packages/sklearn/model_selection/_validation.py\", line 761, in _score\n",
            "    scores = scorer(estimator, X_test, y_test)\n",
            "  File \"/usr/local/lib/python3.7/dist-packages/sklearn/metrics/_scorer.py\", line 221, in __call__\n",
            "    sample_weight=sample_weight,\n",
            "  File \"/usr/local/lib/python3.7/dist-packages/sklearn/metrics/_scorer.py\", line 349, in _score\n",
            "    raise ValueError(\"{0} format is not supported\".format(y_type))\n",
            "ValueError: multiclass format is not supported\n",
            "\n",
            "  UserWarning,\n",
            "/usr/local/lib/python3.7/dist-packages/sklearn/model_selection/_validation.py:774: UserWarning: Scoring failed. The score on this train-test partition for these parameters will be set to nan. Details: \n",
            "Traceback (most recent call last):\n",
            "  File \"/usr/local/lib/python3.7/dist-packages/sklearn/model_selection/_validation.py\", line 761, in _score\n",
            "    scores = scorer(estimator, X_test, y_test)\n",
            "  File \"/usr/local/lib/python3.7/dist-packages/sklearn/metrics/_scorer.py\", line 221, in __call__\n",
            "    sample_weight=sample_weight,\n",
            "  File \"/usr/local/lib/python3.7/dist-packages/sklearn/metrics/_scorer.py\", line 349, in _score\n",
            "    raise ValueError(\"{0} format is not supported\".format(y_type))\n",
            "ValueError: multiclass format is not supported\n",
            "\n",
            "  UserWarning,\n",
            "/usr/local/lib/python3.7/dist-packages/sklearn/model_selection/_validation.py:774: UserWarning: Scoring failed. The score on this train-test partition for these parameters will be set to nan. Details: \n",
            "Traceback (most recent call last):\n",
            "  File \"/usr/local/lib/python3.7/dist-packages/sklearn/model_selection/_validation.py\", line 761, in _score\n",
            "    scores = scorer(estimator, X_test, y_test)\n",
            "  File \"/usr/local/lib/python3.7/dist-packages/sklearn/metrics/_scorer.py\", line 221, in __call__\n",
            "    sample_weight=sample_weight,\n",
            "  File \"/usr/local/lib/python3.7/dist-packages/sklearn/metrics/_scorer.py\", line 349, in _score\n",
            "    raise ValueError(\"{0} format is not supported\".format(y_type))\n",
            "ValueError: multiclass format is not supported\n",
            "\n",
            "  UserWarning,\n",
            "/usr/local/lib/python3.7/dist-packages/sklearn/model_selection/_validation.py:774: UserWarning: Scoring failed. The score on this train-test partition for these parameters will be set to nan. Details: \n",
            "Traceback (most recent call last):\n",
            "  File \"/usr/local/lib/python3.7/dist-packages/sklearn/model_selection/_validation.py\", line 761, in _score\n",
            "    scores = scorer(estimator, X_test, y_test)\n",
            "  File \"/usr/local/lib/python3.7/dist-packages/sklearn/metrics/_scorer.py\", line 221, in __call__\n",
            "    sample_weight=sample_weight,\n",
            "  File \"/usr/local/lib/python3.7/dist-packages/sklearn/metrics/_scorer.py\", line 349, in _score\n",
            "    raise ValueError(\"{0} format is not supported\".format(y_type))\n",
            "ValueError: multiclass format is not supported\n",
            "\n",
            "  UserWarning,\n",
            "/usr/local/lib/python3.7/dist-packages/sklearn/model_selection/_validation.py:774: UserWarning: Scoring failed. The score on this train-test partition for these parameters will be set to nan. Details: \n",
            "Traceback (most recent call last):\n",
            "  File \"/usr/local/lib/python3.7/dist-packages/sklearn/model_selection/_validation.py\", line 761, in _score\n",
            "    scores = scorer(estimator, X_test, y_test)\n",
            "  File \"/usr/local/lib/python3.7/dist-packages/sklearn/metrics/_scorer.py\", line 221, in __call__\n",
            "    sample_weight=sample_weight,\n",
            "  File \"/usr/local/lib/python3.7/dist-packages/sklearn/metrics/_scorer.py\", line 349, in _score\n",
            "    raise ValueError(\"{0} format is not supported\".format(y_type))\n",
            "ValueError: multiclass format is not supported\n",
            "\n",
            "  UserWarning,\n",
            "/usr/local/lib/python3.7/dist-packages/sklearn/model_selection/_validation.py:774: UserWarning: Scoring failed. The score on this train-test partition for these parameters will be set to nan. Details: \n",
            "Traceback (most recent call last):\n",
            "  File \"/usr/local/lib/python3.7/dist-packages/sklearn/model_selection/_validation.py\", line 761, in _score\n",
            "    scores = scorer(estimator, X_test, y_test)\n",
            "  File \"/usr/local/lib/python3.7/dist-packages/sklearn/metrics/_scorer.py\", line 221, in __call__\n",
            "    sample_weight=sample_weight,\n",
            "  File \"/usr/local/lib/python3.7/dist-packages/sklearn/metrics/_scorer.py\", line 349, in _score\n",
            "    raise ValueError(\"{0} format is not supported\".format(y_type))\n",
            "ValueError: multiclass format is not supported\n",
            "\n",
            "  UserWarning,\n",
            "/usr/local/lib/python3.7/dist-packages/sklearn/model_selection/_validation.py:774: UserWarning: Scoring failed. The score on this train-test partition for these parameters will be set to nan. Details: \n",
            "Traceback (most recent call last):\n",
            "  File \"/usr/local/lib/python3.7/dist-packages/sklearn/model_selection/_validation.py\", line 761, in _score\n",
            "    scores = scorer(estimator, X_test, y_test)\n",
            "  File \"/usr/local/lib/python3.7/dist-packages/sklearn/metrics/_scorer.py\", line 221, in __call__\n",
            "    sample_weight=sample_weight,\n",
            "  File \"/usr/local/lib/python3.7/dist-packages/sklearn/metrics/_scorer.py\", line 349, in _score\n",
            "    raise ValueError(\"{0} format is not supported\".format(y_type))\n",
            "ValueError: multiclass format is not supported\n",
            "\n",
            "  UserWarning,\n",
            "/usr/local/lib/python3.7/dist-packages/sklearn/model_selection/_validation.py:774: UserWarning: Scoring failed. The score on this train-test partition for these parameters will be set to nan. Details: \n",
            "Traceback (most recent call last):\n",
            "  File \"/usr/local/lib/python3.7/dist-packages/sklearn/model_selection/_validation.py\", line 761, in _score\n",
            "    scores = scorer(estimator, X_test, y_test)\n",
            "  File \"/usr/local/lib/python3.7/dist-packages/sklearn/metrics/_scorer.py\", line 221, in __call__\n",
            "    sample_weight=sample_weight,\n",
            "  File \"/usr/local/lib/python3.7/dist-packages/sklearn/metrics/_scorer.py\", line 349, in _score\n",
            "    raise ValueError(\"{0} format is not supported\".format(y_type))\n",
            "ValueError: multiclass format is not supported\n",
            "\n",
            "  UserWarning,\n",
            "/usr/local/lib/python3.7/dist-packages/sklearn/model_selection/_validation.py:774: UserWarning: Scoring failed. The score on this train-test partition for these parameters will be set to nan. Details: \n",
            "Traceback (most recent call last):\n",
            "  File \"/usr/local/lib/python3.7/dist-packages/sklearn/model_selection/_validation.py\", line 761, in _score\n",
            "    scores = scorer(estimator, X_test, y_test)\n",
            "  File \"/usr/local/lib/python3.7/dist-packages/sklearn/metrics/_scorer.py\", line 221, in __call__\n",
            "    sample_weight=sample_weight,\n",
            "  File \"/usr/local/lib/python3.7/dist-packages/sklearn/metrics/_scorer.py\", line 349, in _score\n",
            "    raise ValueError(\"{0} format is not supported\".format(y_type))\n",
            "ValueError: multiclass format is not supported\n",
            "\n",
            "  UserWarning,\n",
            "/usr/local/lib/python3.7/dist-packages/sklearn/model_selection/_validation.py:774: UserWarning: Scoring failed. The score on this train-test partition for these parameters will be set to nan. Details: \n",
            "Traceback (most recent call last):\n",
            "  File \"/usr/local/lib/python3.7/dist-packages/sklearn/model_selection/_validation.py\", line 761, in _score\n",
            "    scores = scorer(estimator, X_test, y_test)\n",
            "  File \"/usr/local/lib/python3.7/dist-packages/sklearn/metrics/_scorer.py\", line 221, in __call__\n",
            "    sample_weight=sample_weight,\n",
            "  File \"/usr/local/lib/python3.7/dist-packages/sklearn/metrics/_scorer.py\", line 349, in _score\n",
            "    raise ValueError(\"{0} format is not supported\".format(y_type))\n",
            "ValueError: multiclass format is not supported\n",
            "\n",
            "  UserWarning,\n",
            "/usr/local/lib/python3.7/dist-packages/sklearn/model_selection/_validation.py:774: UserWarning: Scoring failed. The score on this train-test partition for these parameters will be set to nan. Details: \n",
            "Traceback (most recent call last):\n",
            "  File \"/usr/local/lib/python3.7/dist-packages/sklearn/model_selection/_validation.py\", line 761, in _score\n",
            "    scores = scorer(estimator, X_test, y_test)\n",
            "  File \"/usr/local/lib/python3.7/dist-packages/sklearn/metrics/_scorer.py\", line 221, in __call__\n",
            "    sample_weight=sample_weight,\n",
            "  File \"/usr/local/lib/python3.7/dist-packages/sklearn/metrics/_scorer.py\", line 349, in _score\n",
            "    raise ValueError(\"{0} format is not supported\".format(y_type))\n",
            "ValueError: multiclass format is not supported\n",
            "\n",
            "  UserWarning,\n",
            "/usr/local/lib/python3.7/dist-packages/sklearn/model_selection/_validation.py:774: UserWarning: Scoring failed. The score on this train-test partition for these parameters will be set to nan. Details: \n",
            "Traceback (most recent call last):\n",
            "  File \"/usr/local/lib/python3.7/dist-packages/sklearn/model_selection/_validation.py\", line 761, in _score\n",
            "    scores = scorer(estimator, X_test, y_test)\n",
            "  File \"/usr/local/lib/python3.7/dist-packages/sklearn/metrics/_scorer.py\", line 221, in __call__\n",
            "    sample_weight=sample_weight,\n",
            "  File \"/usr/local/lib/python3.7/dist-packages/sklearn/metrics/_scorer.py\", line 349, in _score\n",
            "    raise ValueError(\"{0} format is not supported\".format(y_type))\n",
            "ValueError: multiclass format is not supported\n",
            "\n",
            "  UserWarning,\n",
            "/usr/local/lib/python3.7/dist-packages/sklearn/model_selection/_validation.py:774: UserWarning: Scoring failed. The score on this train-test partition for these parameters will be set to nan. Details: \n",
            "Traceback (most recent call last):\n",
            "  File \"/usr/local/lib/python3.7/dist-packages/sklearn/model_selection/_validation.py\", line 761, in _score\n",
            "    scores = scorer(estimator, X_test, y_test)\n",
            "  File \"/usr/local/lib/python3.7/dist-packages/sklearn/metrics/_scorer.py\", line 221, in __call__\n",
            "    sample_weight=sample_weight,\n",
            "  File \"/usr/local/lib/python3.7/dist-packages/sklearn/metrics/_scorer.py\", line 349, in _score\n",
            "    raise ValueError(\"{0} format is not supported\".format(y_type))\n",
            "ValueError: multiclass format is not supported\n",
            "\n",
            "  UserWarning,\n",
            "/usr/local/lib/python3.7/dist-packages/sklearn/model_selection/_validation.py:774: UserWarning: Scoring failed. The score on this train-test partition for these parameters will be set to nan. Details: \n",
            "Traceback (most recent call last):\n",
            "  File \"/usr/local/lib/python3.7/dist-packages/sklearn/model_selection/_validation.py\", line 761, in _score\n",
            "    scores = scorer(estimator, X_test, y_test)\n",
            "  File \"/usr/local/lib/python3.7/dist-packages/sklearn/metrics/_scorer.py\", line 221, in __call__\n",
            "    sample_weight=sample_weight,\n",
            "  File \"/usr/local/lib/python3.7/dist-packages/sklearn/metrics/_scorer.py\", line 349, in _score\n",
            "    raise ValueError(\"{0} format is not supported\".format(y_type))\n",
            "ValueError: multiclass format is not supported\n",
            "\n",
            "  UserWarning,\n",
            "/usr/local/lib/python3.7/dist-packages/sklearn/model_selection/_validation.py:774: UserWarning: Scoring failed. The score on this train-test partition for these parameters will be set to nan. Details: \n",
            "Traceback (most recent call last):\n",
            "  File \"/usr/local/lib/python3.7/dist-packages/sklearn/model_selection/_validation.py\", line 761, in _score\n",
            "    scores = scorer(estimator, X_test, y_test)\n",
            "  File \"/usr/local/lib/python3.7/dist-packages/sklearn/metrics/_scorer.py\", line 221, in __call__\n",
            "    sample_weight=sample_weight,\n",
            "  File \"/usr/local/lib/python3.7/dist-packages/sklearn/metrics/_scorer.py\", line 349, in _score\n",
            "    raise ValueError(\"{0} format is not supported\".format(y_type))\n",
            "ValueError: multiclass format is not supported\n",
            "\n",
            "  UserWarning,\n",
            "/usr/local/lib/python3.7/dist-packages/sklearn/model_selection/_validation.py:774: UserWarning: Scoring failed. The score on this train-test partition for these parameters will be set to nan. Details: \n",
            "Traceback (most recent call last):\n",
            "  File \"/usr/local/lib/python3.7/dist-packages/sklearn/model_selection/_validation.py\", line 761, in _score\n",
            "    scores = scorer(estimator, X_test, y_test)\n",
            "  File \"/usr/local/lib/python3.7/dist-packages/sklearn/metrics/_scorer.py\", line 221, in __call__\n",
            "    sample_weight=sample_weight,\n",
            "  File \"/usr/local/lib/python3.7/dist-packages/sklearn/metrics/_scorer.py\", line 349, in _score\n",
            "    raise ValueError(\"{0} format is not supported\".format(y_type))\n",
            "ValueError: multiclass format is not supported\n",
            "\n",
            "  UserWarning,\n",
            "/usr/local/lib/python3.7/dist-packages/sklearn/model_selection/_validation.py:774: UserWarning: Scoring failed. The score on this train-test partition for these parameters will be set to nan. Details: \n",
            "Traceback (most recent call last):\n",
            "  File \"/usr/local/lib/python3.7/dist-packages/sklearn/model_selection/_validation.py\", line 761, in _score\n",
            "    scores = scorer(estimator, X_test, y_test)\n",
            "  File \"/usr/local/lib/python3.7/dist-packages/sklearn/metrics/_scorer.py\", line 221, in __call__\n",
            "    sample_weight=sample_weight,\n",
            "  File \"/usr/local/lib/python3.7/dist-packages/sklearn/metrics/_scorer.py\", line 349, in _score\n",
            "    raise ValueError(\"{0} format is not supported\".format(y_type))\n",
            "ValueError: multiclass format is not supported\n",
            "\n",
            "  UserWarning,\n",
            "/usr/local/lib/python3.7/dist-packages/sklearn/model_selection/_validation.py:774: UserWarning: Scoring failed. The score on this train-test partition for these parameters will be set to nan. Details: \n",
            "Traceback (most recent call last):\n",
            "  File \"/usr/local/lib/python3.7/dist-packages/sklearn/model_selection/_validation.py\", line 761, in _score\n",
            "    scores = scorer(estimator, X_test, y_test)\n",
            "  File \"/usr/local/lib/python3.7/dist-packages/sklearn/metrics/_scorer.py\", line 221, in __call__\n",
            "    sample_weight=sample_weight,\n",
            "  File \"/usr/local/lib/python3.7/dist-packages/sklearn/metrics/_scorer.py\", line 349, in _score\n",
            "    raise ValueError(\"{0} format is not supported\".format(y_type))\n",
            "ValueError: multiclass format is not supported\n",
            "\n",
            "  UserWarning,\n",
            "/usr/local/lib/python3.7/dist-packages/sklearn/model_selection/_validation.py:774: UserWarning: Scoring failed. The score on this train-test partition for these parameters will be set to nan. Details: \n",
            "Traceback (most recent call last):\n",
            "  File \"/usr/local/lib/python3.7/dist-packages/sklearn/model_selection/_validation.py\", line 761, in _score\n",
            "    scores = scorer(estimator, X_test, y_test)\n",
            "  File \"/usr/local/lib/python3.7/dist-packages/sklearn/metrics/_scorer.py\", line 221, in __call__\n",
            "    sample_weight=sample_weight,\n",
            "  File \"/usr/local/lib/python3.7/dist-packages/sklearn/metrics/_scorer.py\", line 349, in _score\n",
            "    raise ValueError(\"{0} format is not supported\".format(y_type))\n",
            "ValueError: multiclass format is not supported\n",
            "\n",
            "  UserWarning,\n",
            "/usr/local/lib/python3.7/dist-packages/sklearn/model_selection/_validation.py:774: UserWarning: Scoring failed. The score on this train-test partition for these parameters will be set to nan. Details: \n",
            "Traceback (most recent call last):\n",
            "  File \"/usr/local/lib/python3.7/dist-packages/sklearn/model_selection/_validation.py\", line 761, in _score\n",
            "    scores = scorer(estimator, X_test, y_test)\n",
            "  File \"/usr/local/lib/python3.7/dist-packages/sklearn/metrics/_scorer.py\", line 221, in __call__\n",
            "    sample_weight=sample_weight,\n",
            "  File \"/usr/local/lib/python3.7/dist-packages/sklearn/metrics/_scorer.py\", line 349, in _score\n",
            "    raise ValueError(\"{0} format is not supported\".format(y_type))\n",
            "ValueError: multiclass format is not supported\n",
            "\n",
            "  UserWarning,\n",
            "/usr/local/lib/python3.7/dist-packages/sklearn/model_selection/_validation.py:774: UserWarning: Scoring failed. The score on this train-test partition for these parameters will be set to nan. Details: \n",
            "Traceback (most recent call last):\n",
            "  File \"/usr/local/lib/python3.7/dist-packages/sklearn/model_selection/_validation.py\", line 761, in _score\n",
            "    scores = scorer(estimator, X_test, y_test)\n",
            "  File \"/usr/local/lib/python3.7/dist-packages/sklearn/metrics/_scorer.py\", line 221, in __call__\n",
            "    sample_weight=sample_weight,\n",
            "  File \"/usr/local/lib/python3.7/dist-packages/sklearn/metrics/_scorer.py\", line 349, in _score\n",
            "    raise ValueError(\"{0} format is not supported\".format(y_type))\n",
            "ValueError: multiclass format is not supported\n",
            "\n",
            "  UserWarning,\n",
            "/usr/local/lib/python3.7/dist-packages/sklearn/model_selection/_validation.py:774: UserWarning: Scoring failed. The score on this train-test partition for these parameters will be set to nan. Details: \n",
            "Traceback (most recent call last):\n",
            "  File \"/usr/local/lib/python3.7/dist-packages/sklearn/model_selection/_validation.py\", line 761, in _score\n",
            "    scores = scorer(estimator, X_test, y_test)\n",
            "  File \"/usr/local/lib/python3.7/dist-packages/sklearn/metrics/_scorer.py\", line 221, in __call__\n",
            "    sample_weight=sample_weight,\n",
            "  File \"/usr/local/lib/python3.7/dist-packages/sklearn/metrics/_scorer.py\", line 349, in _score\n",
            "    raise ValueError(\"{0} format is not supported\".format(y_type))\n",
            "ValueError: multiclass format is not supported\n",
            "\n",
            "  UserWarning,\n",
            "/usr/local/lib/python3.7/dist-packages/sklearn/model_selection/_validation.py:774: UserWarning: Scoring failed. The score on this train-test partition for these parameters will be set to nan. Details: \n",
            "Traceback (most recent call last):\n",
            "  File \"/usr/local/lib/python3.7/dist-packages/sklearn/model_selection/_validation.py\", line 761, in _score\n",
            "    scores = scorer(estimator, X_test, y_test)\n",
            "  File \"/usr/local/lib/python3.7/dist-packages/sklearn/metrics/_scorer.py\", line 221, in __call__\n",
            "    sample_weight=sample_weight,\n",
            "  File \"/usr/local/lib/python3.7/dist-packages/sklearn/metrics/_scorer.py\", line 349, in _score\n",
            "    raise ValueError(\"{0} format is not supported\".format(y_type))\n",
            "ValueError: multiclass format is not supported\n",
            "\n",
            "  UserWarning,\n",
            "/usr/local/lib/python3.7/dist-packages/sklearn/model_selection/_validation.py:774: UserWarning: Scoring failed. The score on this train-test partition for these parameters will be set to nan. Details: \n",
            "Traceback (most recent call last):\n",
            "  File \"/usr/local/lib/python3.7/dist-packages/sklearn/model_selection/_validation.py\", line 761, in _score\n",
            "    scores = scorer(estimator, X_test, y_test)\n",
            "  File \"/usr/local/lib/python3.7/dist-packages/sklearn/metrics/_scorer.py\", line 221, in __call__\n",
            "    sample_weight=sample_weight,\n",
            "  File \"/usr/local/lib/python3.7/dist-packages/sklearn/metrics/_scorer.py\", line 349, in _score\n",
            "    raise ValueError(\"{0} format is not supported\".format(y_type))\n",
            "ValueError: multiclass format is not supported\n",
            "\n",
            "  UserWarning,\n",
            "/usr/local/lib/python3.7/dist-packages/sklearn/model_selection/_validation.py:774: UserWarning: Scoring failed. The score on this train-test partition for these parameters will be set to nan. Details: \n",
            "Traceback (most recent call last):\n",
            "  File \"/usr/local/lib/python3.7/dist-packages/sklearn/model_selection/_validation.py\", line 761, in _score\n",
            "    scores = scorer(estimator, X_test, y_test)\n",
            "  File \"/usr/local/lib/python3.7/dist-packages/sklearn/metrics/_scorer.py\", line 221, in __call__\n",
            "    sample_weight=sample_weight,\n",
            "  File \"/usr/local/lib/python3.7/dist-packages/sklearn/metrics/_scorer.py\", line 349, in _score\n",
            "    raise ValueError(\"{0} format is not supported\".format(y_type))\n",
            "ValueError: multiclass format is not supported\n",
            "\n",
            "  UserWarning,\n",
            "/usr/local/lib/python3.7/dist-packages/sklearn/model_selection/_search.py:972: UserWarning: One or more of the test scores are non-finite: [nan nan nan nan nan nan nan nan nan]\n",
            "  category=UserWarning,\n"
          ]
        },
        {
          "output_type": "execute_result",
          "data": {
            "text/plain": [
              "GridSearchCV(cv=5, estimator=RandomForestClassifier(),\n",
              "             param_grid={'max_depth': [3, 5, 7], 'n_estimators': [50, 80, 100]},\n",
              "             scoring='roc_auc')"
            ]
          },
          "metadata": {},
          "execution_count": 60
        }
      ],
      "source": [
        "# Hyperparameter tuning\n",
        "\n",
        "classifier = RandomForestClassifier()\n",
        "grid_values = {'n_estimators':[50, 80,  100], 'max_depth':[3, 5, 7]}\n",
        "classifier = GridSearchCV(classifier, param_grid = grid_values, scoring = 'roc_auc', cv=5)\n",
        "\n",
        "# Fit the object to train dataset\n",
        "classifier.fit(X_train, y_train)"
      ]
    },
    {
      "cell_type": "code",
      "execution_count": 61,
      "metadata": {
        "id": "FWSgzw9NVcnM"
      },
      "outputs": [],
      "source": [
        "train_preds =  classifier.predict(X_train)\n",
        "test_preds  = classifier.predict(X_test)"
      ]
    },
    {
      "cell_type": "code",
      "execution_count": 62,
      "metadata": {
        "id": "pSAbBcopVnUM",
        "colab": {
          "base_uri": "https://localhost:8080/"
        },
        "outputId": "ee5d048f-4b40-4a89-894d-e3714685d5a8"
      },
      "outputs": [
        {
          "output_type": "execute_result",
          "data": {
            "text/plain": [
              "0.840625"
            ]
          },
          "metadata": {},
          "execution_count": 62
        }
      ],
      "source": [
        "# Obtain accuracy on train set\n",
        "accuracy_score(y_train,train_preds)"
      ]
    },
    {
      "cell_type": "code",
      "execution_count": 63,
      "metadata": {
        "id": "l6mnnHvpVqq8",
        "colab": {
          "base_uri": "https://localhost:8080/"
        },
        "outputId": "418f3644-903c-4195-af19-ec92b4e2c150"
      },
      "outputs": [
        {
          "output_type": "execute_result",
          "data": {
            "text/plain": [
              "0.8075"
            ]
          },
          "metadata": {},
          "execution_count": 63
        }
      ],
      "source": [
        "# Obtain accuracy on test set\n",
        "accuracy_score(y_test,test_preds)"
      ]
    },
    {
      "cell_type": "code",
      "source": [
        "print(metrics.classification_report(test_preds, y_test))"
      ],
      "metadata": {
        "colab": {
          "base_uri": "https://localhost:8080/"
        },
        "id": "ZGsHuVYYN8nE",
        "outputId": "dd823a33-f770-4131-ae69-b939c05bf0eb"
      },
      "execution_count": 108,
      "outputs": [
        {
          "output_type": "stream",
          "name": "stdout",
          "text": [
            "              precision    recall  f1-score   support\n",
            "\n",
            "           0       0.98      0.90      0.94       103\n",
            "           1       0.74      0.71      0.72        96\n",
            "           2       0.61      0.70      0.65        86\n",
            "           3       0.89      0.89      0.89       115\n",
            "\n",
            "    accuracy                           0.81       400\n",
            "   macro avg       0.80      0.80      0.80       400\n",
            "weighted avg       0.82      0.81      0.81       400\n",
            "\n"
          ]
        }
      ]
    },
    {
      "cell_type": "markdown",
      "source": [
        "# **Naive Bayes classifier**"
      ],
      "metadata": {
        "id": "R_Iy2Wc6zwWJ"
      }
    },
    {
      "cell_type": "code",
      "execution_count": 64,
      "metadata": {
        "id": "Of7oEQegYoBq"
      },
      "outputs": [],
      "source": [
        "from sklearn.naive_bayes import GaussianNB\n",
        "NB = GaussianNB().fit(X_train,y_train)"
      ]
    },
    {
      "cell_type": "code",
      "execution_count": 65,
      "metadata": {
        "id": "5zmvxcFiYn49"
      },
      "outputs": [],
      "source": [
        "train_preds_nb =  NB.predict(X_train)\n",
        "test_preds_nb = NB.predict(X_test)"
      ]
    },
    {
      "cell_type": "code",
      "execution_count": 66,
      "metadata": {
        "id": "U40j8pl7Ynv5",
        "colab": {
          "base_uri": "https://localhost:8080/"
        },
        "outputId": "4bc502d9-025f-4423-f47b-3fe035e04e0e"
      },
      "outputs": [
        {
          "output_type": "execute_result",
          "data": {
            "text/plain": [
              "0.796875"
            ]
          },
          "metadata": {},
          "execution_count": 66
        }
      ],
      "source": [
        "# Obtain accuracy on train set\n",
        "accuracy_score(y_train,train_preds_nb)"
      ]
    },
    {
      "cell_type": "code",
      "execution_count": 67,
      "metadata": {
        "id": "0l_SXFAlYnni",
        "colab": {
          "base_uri": "https://localhost:8080/"
        },
        "outputId": "dd4fc7df-00d1-4218-d78b-6d782c764208"
      },
      "outputs": [
        {
          "output_type": "execute_result",
          "data": {
            "text/plain": [
              "0.8125"
            ]
          },
          "metadata": {},
          "execution_count": 67
        }
      ],
      "source": [
        "# Obtain accuracy on testing set\n",
        "accuracy_score(y_test,test_preds_nb)"
      ]
    },
    {
      "cell_type": "code",
      "execution_count": 68,
      "metadata": {
        "id": "WmZ7XyMeYnfH"
      },
      "outputs": [],
      "source": [
        "from sklearn.metrics import classification_report,confusion_matrix"
      ]
    },
    {
      "cell_type": "code",
      "execution_count": 69,
      "metadata": {
        "id": "EmCXQBwpYnXQ",
        "colab": {
          "base_uri": "https://localhost:8080/"
        },
        "outputId": "87a9a865-353e-4eb6-a5e3-e91c838dc271"
      },
      "outputs": [
        {
          "output_type": "stream",
          "name": "stdout",
          "text": [
            "[[361  44   0   0]\n",
            " [ 40 290  78   0]\n",
            " [  0  71 288  42]\n",
            " [  0   0  50 336]]\n",
            "[[ 86   9   0   0]\n",
            " [  6  68  18   0]\n",
            " [  0  15  66  18]\n",
            " [  0   0   9 105]]\n"
          ]
        }
      ],
      "source": [
        "# Confusion matrices for train and test \n",
        "\n",
        "print(confusion_matrix(y_train,train_preds_nb))\n",
        "print(confusion_matrix(y_test,test_preds_nb))"
      ]
    },
    {
      "cell_type": "code",
      "execution_count": 70,
      "metadata": {
        "id": "ivCadPYtYnPx",
        "colab": {
          "base_uri": "https://localhost:8080/"
        },
        "outputId": "1c2f32a8-ea48-4c4f-c079-aec8cdef5289"
      },
      "outputs": [
        {
          "output_type": "stream",
          "name": "stdout",
          "text": [
            "              precision    recall  f1-score   support\n",
            "\n",
            "           0       0.90      0.89      0.90       405\n",
            "           1       0.72      0.71      0.71       408\n",
            "           2       0.69      0.72      0.71       401\n",
            "           3       0.89      0.87      0.88       386\n",
            "\n",
            "    accuracy                           0.80      1600\n",
            "   macro avg       0.80      0.80      0.80      1600\n",
            "weighted avg       0.80      0.80      0.80      1600\n",
            "\n",
            "\n",
            "\n",
            "              precision    recall  f1-score   support\n",
            "\n",
            "           0       0.93      0.91      0.92        95\n",
            "           1       0.74      0.74      0.74        92\n",
            "           2       0.71      0.67      0.69        99\n",
            "           3       0.85      0.92      0.89       114\n",
            "\n",
            "    accuracy                           0.81       400\n",
            "   macro avg       0.81      0.81      0.81       400\n",
            "weighted avg       0.81      0.81      0.81       400\n",
            "\n"
          ]
        }
      ],
      "source": [
        "# Print the classification report for train \n",
        "print(classification_report(y_train,train_preds_nb))\n"
      ]
    },
    {
      "cell_type": "code",
      "source": [
        "#printing evaluaton metrics of naive bayes classifier\n",
        "print(classification_report(y_test,test_preds_nb))"
      ],
      "metadata": {
        "colab": {
          "base_uri": "https://localhost:8080/"
        },
        "id": "OILCzzqii6wI",
        "outputId": "37dfd54d-bea7-4477-d0d9-7de2aec7b4f2"
      },
      "execution_count": 134,
      "outputs": [
        {
          "output_type": "stream",
          "name": "stdout",
          "text": [
            "              precision    recall  f1-score   support\n",
            "\n",
            "           0       0.93      0.91      0.92        95\n",
            "           1       0.74      0.74      0.74        92\n",
            "           2       0.71      0.67      0.69        99\n",
            "           3       0.85      0.92      0.89       114\n",
            "\n",
            "    accuracy                           0.81       400\n",
            "   macro avg       0.81      0.81      0.81       400\n",
            "weighted avg       0.81      0.81      0.81       400\n",
            "\n"
          ]
        }
      ]
    },
    {
      "cell_type": "markdown",
      "source": [
        "# ***k nearest neighborer classifier ***"
      ],
      "metadata": {
        "id": "UvIVAlKR-eMb"
      }
    },
    {
      "cell_type": "code",
      "execution_count": 71,
      "metadata": {
        "id": "ujbwaTVWYm4R"
      },
      "outputs": [],
      "source": [
        "# Import KNeighborsClassifier\n",
        "from sklearn.neighbors import KNeighborsClassifier\n",
        "\n",
        "#Setup arrays to store training and test accuracies\n",
        "neighbors = np.arange(1,9)\n",
        "train_accuracy =np.empty(len(neighbors))\n",
        "test_accuracy = np.empty(len(neighbors))\n",
        "\n",
        "for i,k in enumerate(neighbors):\n",
        "    # Setup a knn classifier with k neighbors\n",
        "    knn = KNeighborsClassifier(n_neighbors=k)\n",
        "    \n",
        "    # Fit the model\n",
        "    knn.fit(X_train, y_train)\n",
        "    \n",
        "    # Compute accuracy on the training set\n",
        "    train_accuracy[i] = knn.score(X_train, y_train)\n",
        "    \n",
        "    # Compute accuracy on the test set\n",
        "    test_accuracy[i] = knn.score(X_test, y_test) "
      ]
    },
    {
      "cell_type": "code",
      "execution_count": 72,
      "metadata": {
        "id": "qgRQ4p9RVwsc",
        "colab": {
          "base_uri": "https://localhost:8080/",
          "height": 295
        },
        "outputId": "85e7e028-78e0-4cc5-9cd8-504f383bc774"
      },
      "outputs": [
        {
          "output_type": "display_data",
          "data": {
            "text/plain": [
              "<Figure size 432x288 with 1 Axes>"
            ],
            "image/png": "[encoded data removed]"
          },
          "metadata": {
            "needs_background": "light"
          }
        }
      ],
      "source": [
        "# Generate plot\n",
        "plt.title('k-NN Varying number of neighbors')\n",
        "plt.plot(neighbors, test_accuracy, label='Testing Accuracy')\n",
        "plt.plot(neighbors, train_accuracy, label='Training accuracy')\n",
        "plt.legend()\n",
        "plt.xlabel('Number of neighbors')\n",
        "plt.ylabel('Accuracy')\n",
        "plt.show()"
      ]
    },
    {
      "cell_type": "code",
      "source": [
        "# Setup a knn classifier with k neighbors\n",
        "knn = KNeighborsClassifier(n_neighbors=7)"
      ],
      "metadata": {
        "id": "osvbHhq4GOY1"
      },
      "execution_count": 73,
      "outputs": []
    },
    {
      "cell_type": "code",
      "source": [
        "# Fit the model\n",
        "knn.fit(X_train,y_train)"
      ],
      "metadata": {
        "colab": {
          "base_uri": "https://localhost:8080/"
        },
        "id": "jwEad9d-GVgf",
        "outputId": "c068db50-86f2-4809-8919-e8082999e701"
      },
      "execution_count": 74,
      "outputs": [
        {
          "output_type": "execute_result",
          "data": {
            "text/plain": [
              "KNeighborsClassifier(n_neighbors=7)"
            ]
          },
          "metadata": {},
          "execution_count": 74
        }
      ]
    },
    {
      "cell_type": "code",
      "source": [
        "knn.score(X_test,y_test)"
      ],
      "metadata": {
        "colab": {
          "base_uri": "https://localhost:8080/"
        },
        "id": "3XgBSM3pGYEn",
        "outputId": "590784f6-d00e-416b-a5b8-4fc224dfe887"
      },
      "execution_count": 75,
      "outputs": [
        {
          "output_type": "execute_result",
          "data": {
            "text/plain": [
              "0.3275"
            ]
          },
          "metadata": {},
          "execution_count": 75
        }
      ]
    },
    {
      "cell_type": "code",
      "source": [
        "# Import confusion_matrix\n",
        "from sklearn.metrics import confusion_matrix,roc_curve"
      ],
      "metadata": {
        "id": "-Z4qu3vyGjO1"
      },
      "execution_count": 76,
      "outputs": []
    },
    {
      "cell_type": "code",
      "source": [
        "# Let us get the predictions using the classifier we had fit above\n",
        "y_pred_kn = knn.predict(X_test)"
      ],
      "metadata": {
        "id": "2aHmJaG3GttP"
      },
      "execution_count": 77,
      "outputs": []
    },
    {
      "cell_type": "code",
      "source": [
        "confusion_matrix(y_test,y_pred)"
      ],
      "metadata": {
        "colab": {
          "base_uri": "https://localhost:8080/"
        },
        "id": "npOhag54GxFf",
        "outputId": "32a4007c-7245-4b91-f196-0347a7f7817d"
      },
      "execution_count": 78,
      "outputs": [
        {
          "output_type": "execute_result",
          "data": {
            "text/plain": [
              "array([[73, 22,  0,  0],\n",
              "       [12, 52, 21,  7],\n",
              "       [ 2, 21, 40, 36],\n",
              "       [ 0,  2, 33, 79]])"
            ]
          },
          "metadata": {},
          "execution_count": 78
        }
      ]
    },
    {
      "cell_type": "code",
      "source": [
        "y_pred_proba = knn.predict_proba(X_test)[:,1]"
      ],
      "metadata": {
        "id": "Gc_EMMCDHFEM"
      },
      "execution_count": 79,
      "outputs": []
    },
    {
      "cell_type": "code",
      "source": [
        "fpr, tpr, thresholds = roc_curve(y_test, y_pred_proba,pos_label=1)"
      ],
      "metadata": {
        "id": "1QBUhdW3HJJV"
      },
      "execution_count": 80,
      "outputs": []
    },
    {
      "cell_type": "code",
      "source": [
        "plt.plot([0,1],[0,1],'k--')\n",
        "plt.plot(fpr,tpr, label='Knn')\n",
        "plt.xlabel('fpr')\n",
        "plt.ylabel('tpr')\n",
        "plt.title('Knn(n_neighbors=7) ROC curve')\n",
        "plt.show()"
      ],
      "metadata": {
        "colab": {
          "base_uri": "https://localhost:8080/",
          "height": 295
        },
        "id": "e8FswXvAHNVt",
        "outputId": "72acdeeb-5d43-4897-ae21-d4c83b6186d4"
      },
      "execution_count": 81,
      "outputs": [
        {
          "output_type": "display_data",
          "data": {
            "text/plain": [
              "<Figure size 432x288 with 1 Axes>"
            ],
            "image/png": "[encoded data removed]"
          },
          "metadata": {
            "needs_background": "light"
          }
        }
      ]
    },
    {
      "cell_type": "code",
      "source": [
        "#printing evaluation metrics for knn classifier \n",
        "print(metrics.classification_report(y_pred_kn, y_test))"
      ],
      "metadata": {
        "id": "g30ZLa4DLKv8",
        "colab": {
          "base_uri": "https://localhost:8080/"
        },
        "outputId": "02e0850c-ead1-41e3-f2fc-8c474110e9b6"
      },
      "execution_count": 82,
      "outputs": [
        {
          "output_type": "stream",
          "name": "stdout",
          "text": [
            "              precision    recall  f1-score   support\n",
            "\n",
            "           0       0.55      0.40      0.46       131\n",
            "           1       0.29      0.24      0.26       114\n",
            "           2       0.29      0.33      0.31        88\n",
            "           3       0.20      0.34      0.25        67\n",
            "\n",
            "    accuracy                           0.33       400\n",
            "   macro avg       0.33      0.33      0.32       400\n",
            "weighted avg       0.36      0.33      0.34       400\n",
            "\n"
          ]
        }
      ]
    },
    {
      "cell_type": "code",
      "source": [],
      "metadata": {
        "id": "MaJtXzKjMv2C"
      },
      "execution_count": 82,
      "outputs": []
    }
  ],
  "metadata": {
    "colab": {
      "collapsed_sections": [],
      "provenance": [],
      "mount_file_id": "1hz24PmPtGiNZy4Mm44hunl8XxzQEAakf",
      "authorship_tag": "ABX9TyOH66+t6a5Ff2ySyxfBNU4S",
      "include_colab_link": true
    },
    "kernelspec": {
      "display_name": "Python 3",
      "name": "python3"
    },
    "language_info": {
      "name": "python"
    }
  },
  "nbformat": 4,
  "nbformat_minor": 0
}